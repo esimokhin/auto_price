{
 "cells": [
  {
   "cell_type": "markdown",
   "metadata": {},
   "source": [
    "# Определение стоимости автомобилей"
   ]
  },
  {
   "cell_type": "markdown",
   "metadata": {},
   "source": [
    "## **Описание проекта**"
   ]
  },
  {
   "cell_type": "markdown",
   "metadata": {},
   "source": [
    "### Постановка задачи"
   ]
  },
  {
   "cell_type": "markdown",
   "metadata": {},
   "source": [
    "Сервис по продаже автомобилей с пробегом «Не бит, не крашен» разрабатывает приложение для привлечения новых клиентов. В нём можно быстро узнать рыночную стоимость своего автомобиля. В вашем распоряжении исторические данные: технические характеристики, комплектации и цены автомобилей. Вам нужно построить модель для определения стоимости. \n",
    "\n",
    "Заказчику важны:\n",
    "\n",
    "- качество предсказания;\n",
    "- скорость предсказания;\n",
    "- время обучения."
   ]
  },
  {
   "cell_type": "markdown",
   "metadata": {},
   "source": [
    "### Описание данных"
   ]
  },
  {
   "cell_type": "markdown",
   "metadata": {},
   "source": [
    "**Признаки**\n",
    "- DateCrawled — дата скачивания анкеты из базы\n",
    "- VehicleType — тип автомобильного кузова\n",
    "- RegistrationYear — год регистрации автомобиля\n",
    "- Gearbox — тип коробки передач\n",
    "- Power — мощность (л. с.)\n",
    "- Model — модель автомобиля\n",
    "- Kilometer — пробег (км)\n",
    "- RegistrationMonth — месяц регистрации автомобиля\n",
    "- FuelType — тип топлива\n",
    "- Brand — марка автомобиля\n",
    "- Repaired — была машина в ремонте или нет\n",
    "- DateCreated — дата создания анкеты\n",
    "- NumberOfPictures — количество фотографий автомобиля\n",
    "- PostalCode — почтовый индекс владельца анкеты (пользователя)\n",
    "- LastSeen — дата последней активности пользователя"
   ]
  },
  {
   "cell_type": "markdown",
   "metadata": {},
   "source": [
    "**Целевой признак**\n",
    "- Price — цена (евро)"
   ]
  },
  {
   "cell_type": "markdown",
   "metadata": {},
   "source": [
    "## **Подготовительные работы**"
   ]
  },
  {
   "cell_type": "markdown",
   "metadata": {},
   "source": [
    "### Импорт библиотек"
   ]
  },
  {
   "cell_type": "code",
   "execution_count": 1,
   "metadata": {},
   "outputs": [],
   "source": [
    "#!pip install -U scikit-learn\n",
    "#!pip install imbalanced-learn\n",
    "#!pip install lightgbm\n",
    "#!pip install catboost"
   ]
  },
  {
   "cell_type": "code",
   "execution_count": 2,
   "metadata": {},
   "outputs": [],
   "source": [
    "import warnings\n",
    "\n",
    "import matplotlib.pyplot as plt\n",
    "import numpy as np\n",
    "import pandas as pd\n",
    "import seaborn as sns\n",
    "\n",
    "\n",
    "from catboost import CatBoostRegressor\n",
    "from lightgbm import LGBMRegressor\n",
    "from sklearn.dummy import DummyRegressor\n",
    "from sklearn.ensemble import RandomForestRegressor\n",
    "from sklearn.metrics import mean_squared_error\n",
    "from sklearn.model_selection import (\n",
    "    cross_val_score,\n",
    "    RandomizedSearchCV,\n",
    "    train_test_split\n",
    ")    \n",
    "from sklearn.preprocessing import (\n",
    "    OneHotEncoder,\n",
    "    OrdinalEncoder,\n",
    "    StandardScaler\n",
    ")\n",
    "from sklearn.tree import DecisionTreeRegressor\n",
    "from time import time\n",
    "%matplotlib notebook\n",
    "%matplotlib inline"
   ]
  },
  {
   "cell_type": "code",
   "execution_count": 3,
   "metadata": {},
   "outputs": [],
   "source": [
    "# Отключение warning\n",
    "warnings.filterwarnings('ignore')\n",
    "pd.options.mode.chained_assignment = None\n",
    "#Формат float\n",
    "pd.options.display.float_format = '{:,.2f}'.format\n",
    "# Сброс ограничений на число столбцов\n",
    "pd.options.display.max_columns = None\n"
   ]
  },
  {
   "cell_type": "markdown",
   "metadata": {},
   "source": [
    "### Информация о столбцах:"
   ]
  },
  {
   "cell_type": "code",
   "execution_count": 4,
   "metadata": {},
   "outputs": [],
   "source": [
    "data_name = 'Объявления о продаже автомобилей'\n",
    "data_fields = {    \n",
    "'DateCrawled':['дата скачивания анкеты из базы', False],\n",
    "'VehicleType':['тип автомобильного кузова', False],\n",
    "'RegistrationYear':['год регистрации автомобиля', True],\n",
    "'Gearbox':['тип коробки передач', True],\n",
    "'Power':['мощность (л. с.)', True],\n",
    "'Model':['модель автомобиля',  False],\n",
    "'Kilometer':['пробег (км)', True],\n",
    "'RegistrationMonth':['месяц регистрации автомобиля', False],\n",
    "'FuelType':['тип топлива', False],\n",
    "'Brand':['марка автомобиля',  False],\n",
    "'Repaired':['была машина в ремонте или нет', False],\n",
    "'DateCreated':['дата создания анкеты', False],\n",
    "'NumberOfPictures':['количество фотографий автомобиля', False],\n",
    "'PostalCode':['почтовый индекс владельца анкеты (пользователя)', False],\n",
    "'LastSeen':['дата последней активности пользователя', False],\n",
    "'Price':['цена (евро)', True]\n",
    "}"
   ]
  },
  {
   "cell_type": "markdown",
   "metadata": {},
   "source": [
    "### Функция получения информации о столбце"
   ]
  },
  {
   "cell_type": "code",
   "execution_count": 5,
   "metadata": {},
   "outputs": [],
   "source": [
    "def col_reaper(ddf,param_name,plot_hist = True):\n",
    "    global data_fields\n",
    "    data_len = len(ddf)\n",
    "    param = ddf[param_name]\n",
    "    \n",
    "    #Определение имени столбца\n",
    "    if data_fields.get(param_name)[0] is not None:\n",
    "        field = data_fields.get(param_name)[0]\n",
    "    else:\n",
    "        field = ''\n",
    "        \n",
    "    #Описание данных\n",
    "    print('')\n",
    "    print('\\033[4m'+'Описание данных:'+ '\\033[0m')\n",
    "    print(param.describe(datetime_is_numeric=True))\n",
    "    typer = type(param[0])\n",
    "    print('\\033[4m' +  'Количество записей:' + '\\033[0m', sum(param.notna()), 'из', data_len)\n",
    "    if sum(param.isna()) >0:\n",
    "       print('\\033[4m' +  'Пропущено:' + '\\033[0m', sum(param.isna()))\n",
    "       print('')\n",
    "\n",
    "    #Построение гистограммы\n",
    "    print('\\033[4m'+'\\nТип:\\n' + '\\033[0m', typer)\n",
    "#    if plot_hist and not 'str' in str(typer):\n",
    "#        print('\\nГистограмма значений:')\n",
    "#        param.hist();\n",
    "    if plot_hist and not 'str' in str(typer):\n",
    "            print('\\033[4m'+'\\nГистограмма значений:'+ '\\033[0m')\n",
    "            param.plot(kind='hist',bins=20,figsize=(12,5), grid = True)\n",
    "            plt.title(field)\n",
    "            #plt.xlabel('Населенные пункты') \n",
    "            plt.ylabel('Количество записей')\n",
    "            plt.xticks(rotation=0)\n",
    "            plt.show()\n",
    "            \n",
    "    else:\n",
    "        if len(param.unique())<=40:\n",
    "            #param_index = param.reset_index()\n",
    "            print('\\033[4m'+'\\nРаспределение уникальных значений (первые 10 значений в порядке убывания):'+ '\\033[0m')\n",
    "            param_group=ddf.groupby(param_name).agg(cnt=(param_name,'count')).reset_index()\n",
    "            display(param_group.sort_values(by='cnt',ascending=False).reset_index(drop=True).head(10))\n",
    "            #param_group = ddf.pivot_table(index=param_name, aggfunc=['count','mean'])[0]\n",
    "            #display(param_group.head(10))\n",
    "            print('\\033[4m'+'\\nГистограмма значений:'+ '\\033[0m')\n",
    "            param_group.plot(x=param_name, y='cnt', kind='bar',figsize=(12,5))\n",
    "            #param_group.plot(kind='pie', x=param_name, y='count', autopct='%1.0f%%', figsize=(6,6))\n",
    "            plt.title(field)\n",
    "            plt.xlabel('') \n",
    "            plt.ylabel('Количество записей')\n",
    "            if len(param.unique())<=20:\n",
    "                plt.xticks(rotation=0)\n",
    "            else:\n",
    "                plt.xticks(rotation=90)\n",
    "            plt.show()\n",
    "    print('')\n",
    "    "
   ]
  },
  {
   "cell_type": "markdown",
   "metadata": {},
   "source": [
    "### Функция получения информации о датафрейме"
   ]
  },
  {
   "cell_type": "code",
   "execution_count": 6,
   "metadata": {},
   "outputs": [],
   "source": [
    "def df_reaper(df, df_name ='', data_fields = {}):\n",
    "    #global data_fields\n",
    "    #global df_name\n",
    "    #global descript\n",
    "    \n",
    "    # Список столюцов для гистограмм, диаграмм, корелляции и т.п.\n",
    "    cols = df.columns\n",
    "    #print(data_fields)\n",
    "    true_cols = []\n",
    "    for col in cols:\n",
    "        #print(col,data_fields.get(col))\n",
    "        if data_fields.get(col)[1]:\n",
    "            true_cols.append(col)\n",
    "\n",
    "    print('\\033[1;4m' +  df_name + '\\033[0m \\n')   \n",
    "    print('\\033[1m' +  'Количество записей:' + '\\033[0m')   \n",
    "    df_len = len(df)\n",
    "    display(df_len)\n",
    "    print('')\n",
    "    \n",
    "    print('\\033[1m' +  'Первые 5 строк данных:' + '\\033[0m')   \n",
    "    display(df.head())\n",
    "    print('')\n",
    "    \n",
    "    print('\\033[1m' +  'Информация о датафрейме:' + '\\033[0m')\n",
    "    print('')\n",
    "    display(df.info())\n",
    "    \n",
    "    print('\\033[1m' +  'Дубликаты:' + '\\033[0m')\n",
    "    if df.duplicated().sum() > 0:\n",
    "        print ('Обнаружено дубликатов', df.duplicated().sum())\n",
    "    else:    \n",
    "        print ('Дубликатов не обнаружено')\n",
    "    print('')\n",
    "    \n",
    "    print('\\033[1m' +  'Описание данных в столбцах с числовыми значениями:' + '\\033[0m')\n",
    "    #display(describer(df[true_cols]))\n",
    "    display(df.describe().T)\n",
    "\n",
    "    print('\\033[1m' +  'Диаграмма рассеивания:' + '\\033[0m')\n",
    "    pd.plotting.scatter_matrix(df[true_cols], figsize=(16, 16)); \n",
    "    plt.show()\n",
    "    \n",
    "    print('\\033[1m' +  'Корелляция данных:' + '\\033[0m')\n",
    "#    display(df[true_cols].corr())\n",
    "    \n",
    "    plt.figure(figsize=(16, 6))\n",
    "    # define the mask to set the values in the upper triangle to True\n",
    "    mask = np.triu(np.ones_like(df[true_cols].corr(), dtype=np.bool))\n",
    "    heatmap = sns.heatmap(df[true_cols].corr(), mask=mask, vmin=-1, vmax=1, annot=True, cmap='BrBG')\n",
    "    #heatmap.set_title('Корелляция данных', fontdict={'fontsize':18}, pad=16);\n",
    "    plt.show()\n",
    "    \n",
    "    print('\\033[1m' +  'Столбцы:' + '\\033[0m \\n')\n",
    " #   cols = df.columns\n",
    "\n",
    "    for col in cols:\n",
    "        if data_fields.get(col)[0] is not None:\n",
    "            field = data_fields.get(col)[0]\n",
    "        else:\n",
    "            field = ''\n",
    "        print('\\033[1;3m' +  col + ' - ' + field + '\\033[0m')\n",
    "        plot_hist = data_fields.get(col)[1]\n",
    "        col_reaper(df,col,plot_hist)"
   ]
  },
  {
   "cell_type": "markdown",
   "metadata": {},
   "source": [
    "### Функция заполнения пропуска в данных"
   ]
  },
  {
   "cell_type": "markdown",
   "metadata": {},
   "source": [
    "Функция **friendly_filler** ищет в датафрейме **df** строки с пропущенными значениями столбца **target**, <br />\n",
    "для которых в **df** есть строки с таким же значением столбца **base** c непустыми значениями,<br />\n",
    "и заполняет их в зависимости от значения параметра **agg**:\n",
    "- *'none'* (по умолчанию) - первым непустым значением;\n",
    "- *'mode'* - наиболее популярным значением;\n",
    "- *'median'* - медианным значением;\n",
    "- *'mean'* - средним значением."
   ]
  },
  {
   "cell_type": "code",
   "execution_count": 7,
   "metadata": {},
   "outputs": [],
   "source": [
    "def friendly_filler(df,base,target,agg='none'):\n",
    "    \n",
    "    target_no = df.query(target+'.isna()')[base].unique()\n",
    "    target_yes = df.query(target+'.notna()')[base].unique()\n",
    "    target_yes_no = pd.Series(list(set(target_yes).intersection(set(target_no))))\n",
    "    \n",
    "    for t in target_yes_no:\n",
    "        if agg =='none':\n",
    "            x = list(df[(data[base] == t) & (df[target].notna())][target])[0]\n",
    "        elif agg =='mode':\n",
    "            x = df[(data[base] == t) & (df[target].notna())][target].mode()[0]\n",
    "        elif agg =='median':\n",
    "            x = df[(data[base] == t) & (df[target].notna())][target].median()\n",
    "        elif agg =='mean':\n",
    "            x = df[(data[base] == t) & (df[target].notna())][target].mean()\n",
    "            \n",
    "        df.loc[(df[base] == t) & (df[target].isna()),target] = x\n",
    "    return df  "
   ]
  },
  {
   "cell_type": "markdown",
   "metadata": {},
   "source": [
    "## **Загрузка данных**"
   ]
  },
  {
   "cell_type": "markdown",
   "metadata": {},
   "source": [
    "### Загрузка"
   ]
  },
  {
   "cell_type": "code",
   "execution_count": 8,
   "metadata": {},
   "outputs": [],
   "source": [
    "try:\n",
    "    data = pd.read_csv('datasets/autos.csv')\n",
    "except:\n",
    "    data = pd.read_csv('/datasets/autos.csv')"
   ]
  },
  {
   "cell_type": "markdown",
   "metadata": {},
   "source": [
    "### Анализ датасета"
   ]
  },
  {
   "cell_type": "code",
   "execution_count": 9,
   "metadata": {
    "scrolled": false
   },
   "outputs": [
    {
     "name": "stdout",
     "output_type": "stream",
     "text": [
      "\u001b[1;4mОбъявления о продаже автомобилей\u001b[0m \n",
      "\n",
      "\u001b[1mКоличество записей:\u001b[0m\n"
     ]
    },
    {
     "data": {
      "text/plain": [
       "354369"
      ]
     },
     "metadata": {},
     "output_type": "display_data"
    },
    {
     "name": "stdout",
     "output_type": "stream",
     "text": [
      "\n",
      "\u001b[1mПервые 5 строк данных:\u001b[0m\n"
     ]
    },
    {
     "data": {
      "text/html": [
       "<div>\n",
       "<style scoped>\n",
       "    .dataframe tbody tr th:only-of-type {\n",
       "        vertical-align: middle;\n",
       "    }\n",
       "\n",
       "    .dataframe tbody tr th {\n",
       "        vertical-align: top;\n",
       "    }\n",
       "\n",
       "    .dataframe thead th {\n",
       "        text-align: right;\n",
       "    }\n",
       "</style>\n",
       "<table border=\"1\" class=\"dataframe\">\n",
       "  <thead>\n",
       "    <tr style=\"text-align: right;\">\n",
       "      <th></th>\n",
       "      <th>DateCrawled</th>\n",
       "      <th>Price</th>\n",
       "      <th>VehicleType</th>\n",
       "      <th>RegistrationYear</th>\n",
       "      <th>Gearbox</th>\n",
       "      <th>Power</th>\n",
       "      <th>Model</th>\n",
       "      <th>Kilometer</th>\n",
       "      <th>RegistrationMonth</th>\n",
       "      <th>FuelType</th>\n",
       "      <th>Brand</th>\n",
       "      <th>Repaired</th>\n",
       "      <th>DateCreated</th>\n",
       "      <th>NumberOfPictures</th>\n",
       "      <th>PostalCode</th>\n",
       "      <th>LastSeen</th>\n",
       "    </tr>\n",
       "  </thead>\n",
       "  <tbody>\n",
       "    <tr>\n",
       "      <th>0</th>\n",
       "      <td>2016-03-24 11:52:17</td>\n",
       "      <td>480</td>\n",
       "      <td>NaN</td>\n",
       "      <td>1993</td>\n",
       "      <td>manual</td>\n",
       "      <td>0</td>\n",
       "      <td>golf</td>\n",
       "      <td>150000</td>\n",
       "      <td>0</td>\n",
       "      <td>petrol</td>\n",
       "      <td>volkswagen</td>\n",
       "      <td>NaN</td>\n",
       "      <td>2016-03-24 00:00:00</td>\n",
       "      <td>0</td>\n",
       "      <td>70435</td>\n",
       "      <td>2016-04-07 03:16:57</td>\n",
       "    </tr>\n",
       "    <tr>\n",
       "      <th>1</th>\n",
       "      <td>2016-03-24 10:58:45</td>\n",
       "      <td>18300</td>\n",
       "      <td>coupe</td>\n",
       "      <td>2011</td>\n",
       "      <td>manual</td>\n",
       "      <td>190</td>\n",
       "      <td>NaN</td>\n",
       "      <td>125000</td>\n",
       "      <td>5</td>\n",
       "      <td>gasoline</td>\n",
       "      <td>audi</td>\n",
       "      <td>yes</td>\n",
       "      <td>2016-03-24 00:00:00</td>\n",
       "      <td>0</td>\n",
       "      <td>66954</td>\n",
       "      <td>2016-04-07 01:46:50</td>\n",
       "    </tr>\n",
       "    <tr>\n",
       "      <th>2</th>\n",
       "      <td>2016-03-14 12:52:21</td>\n",
       "      <td>9800</td>\n",
       "      <td>suv</td>\n",
       "      <td>2004</td>\n",
       "      <td>auto</td>\n",
       "      <td>163</td>\n",
       "      <td>grand</td>\n",
       "      <td>125000</td>\n",
       "      <td>8</td>\n",
       "      <td>gasoline</td>\n",
       "      <td>jeep</td>\n",
       "      <td>NaN</td>\n",
       "      <td>2016-03-14 00:00:00</td>\n",
       "      <td>0</td>\n",
       "      <td>90480</td>\n",
       "      <td>2016-04-05 12:47:46</td>\n",
       "    </tr>\n",
       "    <tr>\n",
       "      <th>3</th>\n",
       "      <td>2016-03-17 16:54:04</td>\n",
       "      <td>1500</td>\n",
       "      <td>small</td>\n",
       "      <td>2001</td>\n",
       "      <td>manual</td>\n",
       "      <td>75</td>\n",
       "      <td>golf</td>\n",
       "      <td>150000</td>\n",
       "      <td>6</td>\n",
       "      <td>petrol</td>\n",
       "      <td>volkswagen</td>\n",
       "      <td>no</td>\n",
       "      <td>2016-03-17 00:00:00</td>\n",
       "      <td>0</td>\n",
       "      <td>91074</td>\n",
       "      <td>2016-03-17 17:40:17</td>\n",
       "    </tr>\n",
       "    <tr>\n",
       "      <th>4</th>\n",
       "      <td>2016-03-31 17:25:20</td>\n",
       "      <td>3600</td>\n",
       "      <td>small</td>\n",
       "      <td>2008</td>\n",
       "      <td>manual</td>\n",
       "      <td>69</td>\n",
       "      <td>fabia</td>\n",
       "      <td>90000</td>\n",
       "      <td>7</td>\n",
       "      <td>gasoline</td>\n",
       "      <td>skoda</td>\n",
       "      <td>no</td>\n",
       "      <td>2016-03-31 00:00:00</td>\n",
       "      <td>0</td>\n",
       "      <td>60437</td>\n",
       "      <td>2016-04-06 10:17:21</td>\n",
       "    </tr>\n",
       "  </tbody>\n",
       "</table>\n",
       "</div>"
      ],
      "text/plain": [
       "           DateCrawled  Price VehicleType  RegistrationYear Gearbox  Power  \\\n",
       "0  2016-03-24 11:52:17    480         NaN              1993  manual      0   \n",
       "1  2016-03-24 10:58:45  18300       coupe              2011  manual    190   \n",
       "2  2016-03-14 12:52:21   9800         suv              2004    auto    163   \n",
       "3  2016-03-17 16:54:04   1500       small              2001  manual     75   \n",
       "4  2016-03-31 17:25:20   3600       small              2008  manual     69   \n",
       "\n",
       "   Model  Kilometer  RegistrationMonth  FuelType       Brand Repaired  \\\n",
       "0   golf     150000                  0    petrol  volkswagen      NaN   \n",
       "1    NaN     125000                  5  gasoline        audi      yes   \n",
       "2  grand     125000                  8  gasoline        jeep      NaN   \n",
       "3   golf     150000                  6    petrol  volkswagen       no   \n",
       "4  fabia      90000                  7  gasoline       skoda       no   \n",
       "\n",
       "           DateCreated  NumberOfPictures  PostalCode             LastSeen  \n",
       "0  2016-03-24 00:00:00                 0       70435  2016-04-07 03:16:57  \n",
       "1  2016-03-24 00:00:00                 0       66954  2016-04-07 01:46:50  \n",
       "2  2016-03-14 00:00:00                 0       90480  2016-04-05 12:47:46  \n",
       "3  2016-03-17 00:00:00                 0       91074  2016-03-17 17:40:17  \n",
       "4  2016-03-31 00:00:00                 0       60437  2016-04-06 10:17:21  "
      ]
     },
     "metadata": {},
     "output_type": "display_data"
    },
    {
     "name": "stdout",
     "output_type": "stream",
     "text": [
      "\n",
      "\u001b[1mИнформация о датафрейме:\u001b[0m\n",
      "\n",
      "<class 'pandas.core.frame.DataFrame'>\n",
      "RangeIndex: 354369 entries, 0 to 354368\n",
      "Data columns (total 16 columns):\n",
      " #   Column             Non-Null Count   Dtype \n",
      "---  ------             --------------   ----- \n",
      " 0   DateCrawled        354369 non-null  object\n",
      " 1   Price              354369 non-null  int64 \n",
      " 2   VehicleType        316879 non-null  object\n",
      " 3   RegistrationYear   354369 non-null  int64 \n",
      " 4   Gearbox            334536 non-null  object\n",
      " 5   Power              354369 non-null  int64 \n",
      " 6   Model              334664 non-null  object\n",
      " 7   Kilometer          354369 non-null  int64 \n",
      " 8   RegistrationMonth  354369 non-null  int64 \n",
      " 9   FuelType           321474 non-null  object\n",
      " 10  Brand              354369 non-null  object\n",
      " 11  Repaired           283215 non-null  object\n",
      " 12  DateCreated        354369 non-null  object\n",
      " 13  NumberOfPictures   354369 non-null  int64 \n",
      " 14  PostalCode         354369 non-null  int64 \n",
      " 15  LastSeen           354369 non-null  object\n",
      "dtypes: int64(7), object(9)\n",
      "memory usage: 43.3+ MB\n"
     ]
    },
    {
     "data": {
      "text/plain": [
       "None"
      ]
     },
     "metadata": {},
     "output_type": "display_data"
    },
    {
     "name": "stdout",
     "output_type": "stream",
     "text": [
      "\u001b[1mДубликаты:\u001b[0m\n",
      "Обнаружено дубликатов 4\n",
      "\n",
      "\u001b[1mОписание данных в столбцах с числовыми значениями:\u001b[0m\n"
     ]
    },
    {
     "data": {
      "text/html": [
       "<div>\n",
       "<style scoped>\n",
       "    .dataframe tbody tr th:only-of-type {\n",
       "        vertical-align: middle;\n",
       "    }\n",
       "\n",
       "    .dataframe tbody tr th {\n",
       "        vertical-align: top;\n",
       "    }\n",
       "\n",
       "    .dataframe thead th {\n",
       "        text-align: right;\n",
       "    }\n",
       "</style>\n",
       "<table border=\"1\" class=\"dataframe\">\n",
       "  <thead>\n",
       "    <tr style=\"text-align: right;\">\n",
       "      <th></th>\n",
       "      <th>count</th>\n",
       "      <th>mean</th>\n",
       "      <th>std</th>\n",
       "      <th>min</th>\n",
       "      <th>25%</th>\n",
       "      <th>50%</th>\n",
       "      <th>75%</th>\n",
       "      <th>max</th>\n",
       "    </tr>\n",
       "  </thead>\n",
       "  <tbody>\n",
       "    <tr>\n",
       "      <th>Price</th>\n",
       "      <td>354,369.00</td>\n",
       "      <td>4,416.66</td>\n",
       "      <td>4,514.16</td>\n",
       "      <td>0.00</td>\n",
       "      <td>1,050.00</td>\n",
       "      <td>2,700.00</td>\n",
       "      <td>6,400.00</td>\n",
       "      <td>20,000.00</td>\n",
       "    </tr>\n",
       "    <tr>\n",
       "      <th>RegistrationYear</th>\n",
       "      <td>354,369.00</td>\n",
       "      <td>2,004.23</td>\n",
       "      <td>90.23</td>\n",
       "      <td>1,000.00</td>\n",
       "      <td>1,999.00</td>\n",
       "      <td>2,003.00</td>\n",
       "      <td>2,008.00</td>\n",
       "      <td>9,999.00</td>\n",
       "    </tr>\n",
       "    <tr>\n",
       "      <th>Power</th>\n",
       "      <td>354,369.00</td>\n",
       "      <td>110.09</td>\n",
       "      <td>189.85</td>\n",
       "      <td>0.00</td>\n",
       "      <td>69.00</td>\n",
       "      <td>105.00</td>\n",
       "      <td>143.00</td>\n",
       "      <td>20,000.00</td>\n",
       "    </tr>\n",
       "    <tr>\n",
       "      <th>Kilometer</th>\n",
       "      <td>354,369.00</td>\n",
       "      <td>128,211.17</td>\n",
       "      <td>37,905.34</td>\n",
       "      <td>5,000.00</td>\n",
       "      <td>125,000.00</td>\n",
       "      <td>150,000.00</td>\n",
       "      <td>150,000.00</td>\n",
       "      <td>150,000.00</td>\n",
       "    </tr>\n",
       "    <tr>\n",
       "      <th>RegistrationMonth</th>\n",
       "      <td>354,369.00</td>\n",
       "      <td>5.71</td>\n",
       "      <td>3.73</td>\n",
       "      <td>0.00</td>\n",
       "      <td>3.00</td>\n",
       "      <td>6.00</td>\n",
       "      <td>9.00</td>\n",
       "      <td>12.00</td>\n",
       "    </tr>\n",
       "    <tr>\n",
       "      <th>NumberOfPictures</th>\n",
       "      <td>354,369.00</td>\n",
       "      <td>0.00</td>\n",
       "      <td>0.00</td>\n",
       "      <td>0.00</td>\n",
       "      <td>0.00</td>\n",
       "      <td>0.00</td>\n",
       "      <td>0.00</td>\n",
       "      <td>0.00</td>\n",
       "    </tr>\n",
       "    <tr>\n",
       "      <th>PostalCode</th>\n",
       "      <td>354,369.00</td>\n",
       "      <td>50,508.69</td>\n",
       "      <td>25,783.10</td>\n",
       "      <td>1,067.00</td>\n",
       "      <td>30,165.00</td>\n",
       "      <td>49,413.00</td>\n",
       "      <td>71,083.00</td>\n",
       "      <td>99,998.00</td>\n",
       "    </tr>\n",
       "  </tbody>\n",
       "</table>\n",
       "</div>"
      ],
      "text/plain": [
       "                       count       mean       std      min        25%  \\\n",
       "Price             354,369.00   4,416.66  4,514.16     0.00   1,050.00   \n",
       "RegistrationYear  354,369.00   2,004.23     90.23 1,000.00   1,999.00   \n",
       "Power             354,369.00     110.09    189.85     0.00      69.00   \n",
       "Kilometer         354,369.00 128,211.17 37,905.34 5,000.00 125,000.00   \n",
       "RegistrationMonth 354,369.00       5.71      3.73     0.00       3.00   \n",
       "NumberOfPictures  354,369.00       0.00      0.00     0.00       0.00   \n",
       "PostalCode        354,369.00  50,508.69 25,783.10 1,067.00  30,165.00   \n",
       "\n",
       "                         50%        75%        max  \n",
       "Price               2,700.00   6,400.00  20,000.00  \n",
       "RegistrationYear    2,003.00   2,008.00   9,999.00  \n",
       "Power                 105.00     143.00  20,000.00  \n",
       "Kilometer         150,000.00 150,000.00 150,000.00  \n",
       "RegistrationMonth       6.00       9.00      12.00  \n",
       "NumberOfPictures        0.00       0.00       0.00  \n",
       "PostalCode         49,413.00  71,083.00  99,998.00  "
      ]
     },
     "metadata": {},
     "output_type": "display_data"
    },
    {
     "name": "stdout",
     "output_type": "stream",
     "text": [
      "\u001b[1mДиаграмма рассеивания:\u001b[0m\n"
     ]
    },
    {
     "data": {
      "image/png": "[encoded data removed]",
      "text/plain": [
       "<Figure size 1152x1152 with 16 Axes>"
      ]
     },
     "metadata": {
      "needs_background": "light"
     },
     "output_type": "display_data"
    },
    {
     "name": "stdout",
     "output_type": "stream",
     "text": [
      "\u001b[1mКорелляция данных:\u001b[0m\n"
     ]
    },
    {
     "data": {
      "image/png": "[encoded data removed]",
      "text/plain": [
       "<Figure size 1152x432 with 2 Axes>"
      ]
     },
     "metadata": {
      "needs_background": "light"
     },
     "output_type": "display_data"
    },
    {
     "name": "stdout",
     "output_type": "stream",
     "text": [
      "\u001b[1mСтолбцы:\u001b[0m \n",
      "\n",
      "\u001b[1;3mDateCrawled - дата скачивания анкеты из базы\u001b[0m\n",
      "\n",
      "\u001b[4mОписание данных:\u001b[0m\n",
      "count                  354369\n",
      "unique                 271174\n",
      "top       2016-03-24 14:49:47\n",
      "freq                        7\n",
      "Name: DateCrawled, dtype: object\n",
      "\u001b[4mКоличество записей:\u001b[0m 354369 из 354369\n",
      "\u001b[4m\n",
      "Тип:\n",
      "\u001b[0m <class 'str'>\n",
      "\n",
      "\u001b[1;3mPrice - цена (евро)\u001b[0m\n",
      "\n",
      "\u001b[4mОписание данных:\u001b[0m\n",
      "count   354,369.00\n",
      "mean      4,416.66\n",
      "std       4,514.16\n",
      "min           0.00\n",
      "25%       1,050.00\n",
      "50%       2,700.00\n",
      "75%       6,400.00\n",
      "max      20,000.00\n",
      "Name: Price, dtype: float64\n",
      "\u001b[4mКоличество записей:\u001b[0m 354369 из 354369\n",
      "\u001b[4m\n",
      "Тип:\n",
      "\u001b[0m <class 'numpy.int64'>\n",
      "\u001b[4m\n",
      "Гистограмма значений:\u001b[0m\n"
     ]
    },
    {
     "data": {
      "image/png": "[encoded data removed]",
      "text/plain": [
       "<Figure size 864x360 with 1 Axes>"
      ]
     },
     "metadata": {
      "needs_background": "light"
     },
     "output_type": "display_data"
    },
    {
     "name": "stdout",
     "output_type": "stream",
     "text": [
      "\n",
      "\u001b[1;3mVehicleType - тип автомобильного кузова\u001b[0m\n",
      "\n",
      "\u001b[4mОписание данных:\u001b[0m\n",
      "count     316879\n",
      "unique         8\n",
      "top        sedan\n",
      "freq       91457\n",
      "Name: VehicleType, dtype: object\n",
      "\u001b[4mКоличество записей:\u001b[0m 316879 из 354369\n",
      "\u001b[4mПропущено:\u001b[0m 37490\n",
      "\n",
      "\u001b[4m\n",
      "Тип:\n",
      "\u001b[0m <class 'float'>\n",
      "\u001b[4m\n",
      "Распределение уникальных значений (первые 10 значений в порядке убывания):\u001b[0m\n"
     ]
    },
    {
     "data": {
      "text/html": [
       "<div>\n",
       "<style scoped>\n",
       "    .dataframe tbody tr th:only-of-type {\n",
       "        vertical-align: middle;\n",
       "    }\n",
       "\n",
       "    .dataframe tbody tr th {\n",
       "        vertical-align: top;\n",
       "    }\n",
       "\n",
       "    .dataframe thead th {\n",
       "        text-align: right;\n",
       "    }\n",
       "</style>\n",
       "<table border=\"1\" class=\"dataframe\">\n",
       "  <thead>\n",
       "    <tr style=\"text-align: right;\">\n",
       "      <th></th>\n",
       "      <th>VehicleType</th>\n",
       "      <th>cnt</th>\n",
       "    </tr>\n",
       "  </thead>\n",
       "  <tbody>\n",
       "    <tr>\n",
       "      <th>0</th>\n",
       "      <td>sedan</td>\n",
       "      <td>91457</td>\n",
       "    </tr>\n",
       "    <tr>\n",
       "      <th>1</th>\n",
       "      <td>small</td>\n",
       "      <td>79831</td>\n",
       "    </tr>\n",
       "    <tr>\n",
       "      <th>2</th>\n",
       "      <td>wagon</td>\n",
       "      <td>65166</td>\n",
       "    </tr>\n",
       "    <tr>\n",
       "      <th>3</th>\n",
       "      <td>bus</td>\n",
       "      <td>28775</td>\n",
       "    </tr>\n",
       "    <tr>\n",
       "      <th>4</th>\n",
       "      <td>convertible</td>\n",
       "      <td>20203</td>\n",
       "    </tr>\n",
       "    <tr>\n",
       "      <th>5</th>\n",
       "      <td>coupe</td>\n",
       "      <td>16163</td>\n",
       "    </tr>\n",
       "    <tr>\n",
       "      <th>6</th>\n",
       "      <td>suv</td>\n",
       "      <td>11996</td>\n",
       "    </tr>\n",
       "    <tr>\n",
       "      <th>7</th>\n",
       "      <td>other</td>\n",
       "      <td>3288</td>\n",
       "    </tr>\n",
       "  </tbody>\n",
       "</table>\n",
       "</div>"
      ],
      "text/plain": [
       "   VehicleType    cnt\n",
       "0        sedan  91457\n",
       "1        small  79831\n",
       "2        wagon  65166\n",
       "3          bus  28775\n",
       "4  convertible  20203\n",
       "5        coupe  16163\n",
       "6          suv  11996\n",
       "7        other   3288"
      ]
     },
     "metadata": {},
     "output_type": "display_data"
    },
    {
     "name": "stdout",
     "output_type": "stream",
     "text": [
      "\u001b[4m\n",
      "Гистограмма значений:\u001b[0m\n"
     ]
    },
    {
     "data": {
      "image/png": "[encoded data removed]",
      "text/plain": [
       "<Figure size 864x360 with 1 Axes>"
      ]
     },
     "metadata": {
      "needs_background": "light"
     },
     "output_type": "display_data"
    },
    {
     "name": "stdout",
     "output_type": "stream",
     "text": [
      "\n",
      "\u001b[1;3mRegistrationYear - год регистрации автомобиля\u001b[0m\n",
      "\n",
      "\u001b[4mОписание данных:\u001b[0m\n",
      "count   354,369.00\n",
      "mean      2,004.23\n",
      "std          90.23\n",
      "min       1,000.00\n",
      "25%       1,999.00\n",
      "50%       2,003.00\n",
      "75%       2,008.00\n",
      "max       9,999.00\n",
      "Name: RegistrationYear, dtype: float64\n",
      "\u001b[4mКоличество записей:\u001b[0m 354369 из 354369\n",
      "\u001b[4m\n",
      "Тип:\n",
      "\u001b[0m <class 'numpy.int64'>\n",
      "\u001b[4m\n",
      "Гистограмма значений:\u001b[0m\n"
     ]
    },
    {
     "data": {
      "image/png": "[encoded data removed]",
      "text/plain": [
       "<Figure size 864x360 with 1 Axes>"
      ]
     },
     "metadata": {
      "needs_background": "light"
     },
     "output_type": "display_data"
    },
    {
     "name": "stdout",
     "output_type": "stream",
     "text": [
      "\n",
      "\u001b[1;3mGearbox - тип коробки передач\u001b[0m\n",
      "\n",
      "\u001b[4mОписание данных:\u001b[0m\n",
      "count     334536\n",
      "unique         2\n",
      "top       manual\n",
      "freq      268251\n",
      "Name: Gearbox, dtype: object\n",
      "\u001b[4mКоличество записей:\u001b[0m 334536 из 354369\n",
      "\u001b[4mПропущено:\u001b[0m 19833\n",
      "\n",
      "\u001b[4m\n",
      "Тип:\n",
      "\u001b[0m <class 'str'>\n",
      "\u001b[4m\n",
      "Распределение уникальных значений (первые 10 значений в порядке убывания):\u001b[0m\n"
     ]
    },
    {
     "data": {
      "text/html": [
       "<div>\n",
       "<style scoped>\n",
       "    .dataframe tbody tr th:only-of-type {\n",
       "        vertical-align: middle;\n",
       "    }\n",
       "\n",
       "    .dataframe tbody tr th {\n",
       "        vertical-align: top;\n",
       "    }\n",
       "\n",
       "    .dataframe thead th {\n",
       "        text-align: right;\n",
       "    }\n",
       "</style>\n",
       "<table border=\"1\" class=\"dataframe\">\n",
       "  <thead>\n",
       "    <tr style=\"text-align: right;\">\n",
       "      <th></th>\n",
       "      <th>Gearbox</th>\n",
       "      <th>cnt</th>\n",
       "    </tr>\n",
       "  </thead>\n",
       "  <tbody>\n",
       "    <tr>\n",
       "      <th>0</th>\n",
       "      <td>manual</td>\n",
       "      <td>268251</td>\n",
       "    </tr>\n",
       "    <tr>\n",
       "      <th>1</th>\n",
       "      <td>auto</td>\n",
       "      <td>66285</td>\n",
       "    </tr>\n",
       "  </tbody>\n",
       "</table>\n",
       "</div>"
      ],
      "text/plain": [
       "  Gearbox     cnt\n",
       "0  manual  268251\n",
       "1    auto   66285"
      ]
     },
     "metadata": {},
     "output_type": "display_data"
    },
    {
     "name": "stdout",
     "output_type": "stream",
     "text": [
      "\u001b[4m\n",
      "Гистограмма значений:\u001b[0m\n"
     ]
    },
    {
     "data": {
      "image/png": "[encoded data removed]",
      "text/plain": [
       "<Figure size 864x360 with 1 Axes>"
      ]
     },
     "metadata": {
      "needs_background": "light"
     },
     "output_type": "display_data"
    },
    {
     "name": "stdout",
     "output_type": "stream",
     "text": [
      "\n",
      "\u001b[1;3mPower - мощность (л. с.)\u001b[0m\n",
      "\n",
      "\u001b[4mОписание данных:\u001b[0m\n",
      "count   354,369.00\n",
      "mean        110.09\n",
      "std         189.85\n",
      "min           0.00\n",
      "25%          69.00\n",
      "50%         105.00\n",
      "75%         143.00\n",
      "max      20,000.00\n",
      "Name: Power, dtype: float64\n",
      "\u001b[4mКоличество записей:\u001b[0m 354369 из 354369\n",
      "\u001b[4m\n",
      "Тип:\n",
      "\u001b[0m <class 'numpy.int64'>\n",
      "\u001b[4m\n",
      "Гистограмма значений:\u001b[0m\n"
     ]
    },
    {
     "data": {
      "image/png": "[encoded data removed]",
      "text/plain": [
       "<Figure size 864x360 with 1 Axes>"
      ]
     },
     "metadata": {
      "needs_background": "light"
     },
     "output_type": "display_data"
    },
    {
     "name": "stdout",
     "output_type": "stream",
     "text": [
      "\n",
      "\u001b[1;3mModel - модель автомобиля\u001b[0m\n",
      "\n",
      "\u001b[4mОписание данных:\u001b[0m\n",
      "count     334664\n",
      "unique       250\n",
      "top         golf\n",
      "freq       29232\n",
      "Name: Model, dtype: object\n",
      "\u001b[4mКоличество записей:\u001b[0m 334664 из 354369\n",
      "\u001b[4mПропущено:\u001b[0m 19705\n",
      "\n",
      "\u001b[4m\n",
      "Тип:\n",
      "\u001b[0m <class 'str'>\n",
      "\n",
      "\u001b[1;3mKilometer - пробег (км)\u001b[0m\n",
      "\n",
      "\u001b[4mОписание данных:\u001b[0m\n",
      "count   354,369.00\n",
      "mean    128,211.17\n",
      "std      37,905.34\n",
      "min       5,000.00\n",
      "25%     125,000.00\n",
      "50%     150,000.00\n",
      "75%     150,000.00\n",
      "max     150,000.00\n",
      "Name: Kilometer, dtype: float64\n",
      "\u001b[4mКоличество записей:\u001b[0m 354369 из 354369\n",
      "\u001b[4m\n",
      "Тип:\n",
      "\u001b[0m <class 'numpy.int64'>\n",
      "\u001b[4m\n",
      "Гистограмма значений:\u001b[0m\n"
     ]
    },
    {
     "data": {
      "image/png": "[encoded data removed]",
      "text/plain": [
       "<Figure size 864x360 with 1 Axes>"
      ]
     },
     "metadata": {
      "needs_background": "light"
     },
     "output_type": "display_data"
    },
    {
     "name": "stdout",
     "output_type": "stream",
     "text": [
      "\n",
      "\u001b[1;3mRegistrationMonth - месяц регистрации автомобиля\u001b[0m\n",
      "\n",
      "\u001b[4mОписание данных:\u001b[0m\n",
      "count   354,369.00\n",
      "mean          5.71\n",
      "std           3.73\n",
      "min           0.00\n",
      "25%           3.00\n",
      "50%           6.00\n",
      "75%           9.00\n",
      "max          12.00\n",
      "Name: RegistrationMonth, dtype: float64\n",
      "\u001b[4mКоличество записей:\u001b[0m 354369 из 354369\n",
      "\u001b[4m\n",
      "Тип:\n",
      "\u001b[0m <class 'numpy.int64'>\n",
      "\u001b[4m\n",
      "Распределение уникальных значений (первые 10 значений в порядке убывания):\u001b[0m\n"
     ]
    },
    {
     "data": {
      "text/html": [
       "<div>\n",
       "<style scoped>\n",
       "    .dataframe tbody tr th:only-of-type {\n",
       "        vertical-align: middle;\n",
       "    }\n",
       "\n",
       "    .dataframe tbody tr th {\n",
       "        vertical-align: top;\n",
       "    }\n",
       "\n",
       "    .dataframe thead th {\n",
       "        text-align: right;\n",
       "    }\n",
       "</style>\n",
       "<table border=\"1\" class=\"dataframe\">\n",
       "  <thead>\n",
       "    <tr style=\"text-align: right;\">\n",
       "      <th></th>\n",
       "      <th>RegistrationMonth</th>\n",
       "      <th>cnt</th>\n",
       "    </tr>\n",
       "  </thead>\n",
       "  <tbody>\n",
       "    <tr>\n",
       "      <th>0</th>\n",
       "      <td>0</td>\n",
       "      <td>37352</td>\n",
       "    </tr>\n",
       "    <tr>\n",
       "      <th>1</th>\n",
       "      <td>3</td>\n",
       "      <td>34373</td>\n",
       "    </tr>\n",
       "    <tr>\n",
       "      <th>2</th>\n",
       "      <td>6</td>\n",
       "      <td>31508</td>\n",
       "    </tr>\n",
       "    <tr>\n",
       "      <th>3</th>\n",
       "      <td>4</td>\n",
       "      <td>29270</td>\n",
       "    </tr>\n",
       "    <tr>\n",
       "      <th>4</th>\n",
       "      <td>5</td>\n",
       "      <td>29153</td>\n",
       "    </tr>\n",
       "    <tr>\n",
       "      <th>5</th>\n",
       "      <td>7</td>\n",
       "      <td>27213</td>\n",
       "    </tr>\n",
       "    <tr>\n",
       "      <th>6</th>\n",
       "      <td>10</td>\n",
       "      <td>26099</td>\n",
       "    </tr>\n",
       "    <tr>\n",
       "      <th>7</th>\n",
       "      <td>12</td>\n",
       "      <td>24289</td>\n",
       "    </tr>\n",
       "    <tr>\n",
       "      <th>8</th>\n",
       "      <td>11</td>\n",
       "      <td>24186</td>\n",
       "    </tr>\n",
       "    <tr>\n",
       "      <th>9</th>\n",
       "      <td>9</td>\n",
       "      <td>23813</td>\n",
       "    </tr>\n",
       "  </tbody>\n",
       "</table>\n",
       "</div>"
      ],
      "text/plain": [
       "   RegistrationMonth    cnt\n",
       "0                  0  37352\n",
       "1                  3  34373\n",
       "2                  6  31508\n",
       "3                  4  29270\n",
       "4                  5  29153\n",
       "5                  7  27213\n",
       "6                 10  26099\n",
       "7                 12  24289\n",
       "8                 11  24186\n",
       "9                  9  23813"
      ]
     },
     "metadata": {},
     "output_type": "display_data"
    },
    {
     "name": "stdout",
     "output_type": "stream",
     "text": [
      "\u001b[4m\n",
      "Гистограмма значений:\u001b[0m\n"
     ]
    },
    {
     "data": {
      "image/png": "[encoded data removed]",
      "text/plain": [
       "<Figure size 864x360 with 1 Axes>"
      ]
     },
     "metadata": {
      "needs_background": "light"
     },
     "output_type": "display_data"
    },
    {
     "name": "stdout",
     "output_type": "stream",
     "text": [
      "\n",
      "\u001b[1;3mFuelType - тип топлива\u001b[0m\n",
      "\n",
      "\u001b[4mОписание данных:\u001b[0m\n",
      "count     321474\n",
      "unique         7\n",
      "top       petrol\n",
      "freq      216352\n",
      "Name: FuelType, dtype: object\n",
      "\u001b[4mКоличество записей:\u001b[0m 321474 из 354369\n",
      "\u001b[4mПропущено:\u001b[0m 32895\n",
      "\n",
      "\u001b[4m\n",
      "Тип:\n",
      "\u001b[0m <class 'str'>\n",
      "\u001b[4m\n",
      "Распределение уникальных значений (первые 10 значений в порядке убывания):\u001b[0m\n"
     ]
    },
    {
     "data": {
      "text/html": [
       "<div>\n",
       "<style scoped>\n",
       "    .dataframe tbody tr th:only-of-type {\n",
       "        vertical-align: middle;\n",
       "    }\n",
       "\n",
       "    .dataframe tbody tr th {\n",
       "        vertical-align: top;\n",
       "    }\n",
       "\n",
       "    .dataframe thead th {\n",
       "        text-align: right;\n",
       "    }\n",
       "</style>\n",
       "<table border=\"1\" class=\"dataframe\">\n",
       "  <thead>\n",
       "    <tr style=\"text-align: right;\">\n",
       "      <th></th>\n",
       "      <th>FuelType</th>\n",
       "      <th>cnt</th>\n",
       "    </tr>\n",
       "  </thead>\n",
       "  <tbody>\n",
       "    <tr>\n",
       "      <th>0</th>\n",
       "      <td>petrol</td>\n",
       "      <td>216352</td>\n",
       "    </tr>\n",
       "    <tr>\n",
       "      <th>1</th>\n",
       "      <td>gasoline</td>\n",
       "      <td>98720</td>\n",
       "    </tr>\n",
       "    <tr>\n",
       "      <th>2</th>\n",
       "      <td>lpg</td>\n",
       "      <td>5310</td>\n",
       "    </tr>\n",
       "    <tr>\n",
       "      <th>3</th>\n",
       "      <td>cng</td>\n",
       "      <td>565</td>\n",
       "    </tr>\n",
       "    <tr>\n",
       "      <th>4</th>\n",
       "      <td>hybrid</td>\n",
       "      <td>233</td>\n",
       "    </tr>\n",
       "    <tr>\n",
       "      <th>5</th>\n",
       "      <td>other</td>\n",
       "      <td>204</td>\n",
       "    </tr>\n",
       "    <tr>\n",
       "      <th>6</th>\n",
       "      <td>electric</td>\n",
       "      <td>90</td>\n",
       "    </tr>\n",
       "  </tbody>\n",
       "</table>\n",
       "</div>"
      ],
      "text/plain": [
       "   FuelType     cnt\n",
       "0    petrol  216352\n",
       "1  gasoline   98720\n",
       "2       lpg    5310\n",
       "3       cng     565\n",
       "4    hybrid     233\n",
       "5     other     204\n",
       "6  electric      90"
      ]
     },
     "metadata": {},
     "output_type": "display_data"
    },
    {
     "name": "stdout",
     "output_type": "stream",
     "text": [
      "\u001b[4m\n",
      "Гистограмма значений:\u001b[0m\n"
     ]
    },
    {
     "data": {
      "image/png": "[encoded data removed]",
      "text/plain": [
       "<Figure size 864x360 with 1 Axes>"
      ]
     },
     "metadata": {
      "needs_background": "light"
     },
     "output_type": "display_data"
    },
    {
     "name": "stdout",
     "output_type": "stream",
     "text": [
      "\n",
      "\u001b[1;3mBrand - марка автомобиля\u001b[0m\n",
      "\n",
      "\u001b[4mОписание данных:\u001b[0m\n",
      "count         354369\n",
      "unique            40\n",
      "top       volkswagen\n",
      "freq           77013\n",
      "Name: Brand, dtype: object\n",
      "\u001b[4mКоличество записей:\u001b[0m 354369 из 354369\n",
      "\u001b[4m\n",
      "Тип:\n",
      "\u001b[0m <class 'str'>\n",
      "\u001b[4m\n",
      "Распределение уникальных значений (первые 10 значений в порядке убывания):\u001b[0m\n"
     ]
    },
    {
     "data": {
      "text/html": [
       "<div>\n",
       "<style scoped>\n",
       "    .dataframe tbody tr th:only-of-type {\n",
       "        vertical-align: middle;\n",
       "    }\n",
       "\n",
       "    .dataframe tbody tr th {\n",
       "        vertical-align: top;\n",
       "    }\n",
       "\n",
       "    .dataframe thead th {\n",
       "        text-align: right;\n",
       "    }\n",
       "</style>\n",
       "<table border=\"1\" class=\"dataframe\">\n",
       "  <thead>\n",
       "    <tr style=\"text-align: right;\">\n",
       "      <th></th>\n",
       "      <th>Brand</th>\n",
       "      <th>cnt</th>\n",
       "    </tr>\n",
       "  </thead>\n",
       "  <tbody>\n",
       "    <tr>\n",
       "      <th>0</th>\n",
       "      <td>volkswagen</td>\n",
       "      <td>77013</td>\n",
       "    </tr>\n",
       "    <tr>\n",
       "      <th>1</th>\n",
       "      <td>opel</td>\n",
       "      <td>39931</td>\n",
       "    </tr>\n",
       "    <tr>\n",
       "      <th>2</th>\n",
       "      <td>bmw</td>\n",
       "      <td>36914</td>\n",
       "    </tr>\n",
       "    <tr>\n",
       "      <th>3</th>\n",
       "      <td>mercedes_benz</td>\n",
       "      <td>32046</td>\n",
       "    </tr>\n",
       "    <tr>\n",
       "      <th>4</th>\n",
       "      <td>audi</td>\n",
       "      <td>29456</td>\n",
       "    </tr>\n",
       "    <tr>\n",
       "      <th>5</th>\n",
       "      <td>ford</td>\n",
       "      <td>25179</td>\n",
       "    </tr>\n",
       "    <tr>\n",
       "      <th>6</th>\n",
       "      <td>renault</td>\n",
       "      <td>17927</td>\n",
       "    </tr>\n",
       "    <tr>\n",
       "      <th>7</th>\n",
       "      <td>peugeot</td>\n",
       "      <td>10998</td>\n",
       "    </tr>\n",
       "    <tr>\n",
       "      <th>8</th>\n",
       "      <td>fiat</td>\n",
       "      <td>9643</td>\n",
       "    </tr>\n",
       "    <tr>\n",
       "      <th>9</th>\n",
       "      <td>seat</td>\n",
       "      <td>6907</td>\n",
       "    </tr>\n",
       "  </tbody>\n",
       "</table>\n",
       "</div>"
      ],
      "text/plain": [
       "           Brand    cnt\n",
       "0     volkswagen  77013\n",
       "1           opel  39931\n",
       "2            bmw  36914\n",
       "3  mercedes_benz  32046\n",
       "4           audi  29456\n",
       "5           ford  25179\n",
       "6        renault  17927\n",
       "7        peugeot  10998\n",
       "8           fiat   9643\n",
       "9           seat   6907"
      ]
     },
     "metadata": {},
     "output_type": "display_data"
    },
    {
     "name": "stdout",
     "output_type": "stream",
     "text": [
      "\u001b[4m\n",
      "Гистограмма значений:\u001b[0m\n"
     ]
    },
    {
     "data": {
      "image/png": "[encoded data removed]",
      "text/plain": [
       "<Figure size 864x360 with 1 Axes>"
      ]
     },
     "metadata": {
      "needs_background": "light"
     },
     "output_type": "display_data"
    },
    {
     "name": "stdout",
     "output_type": "stream",
     "text": [
      "\n",
      "\u001b[1;3mRepaired - была машина в ремонте или нет\u001b[0m\n",
      "\n",
      "\u001b[4mОписание данных:\u001b[0m\n",
      "count     283215\n",
      "unique         2\n",
      "top           no\n",
      "freq      247161\n",
      "Name: Repaired, dtype: object\n",
      "\u001b[4mКоличество записей:\u001b[0m 283215 из 354369\n",
      "\u001b[4mПропущено:\u001b[0m 71154\n",
      "\n",
      "\u001b[4m\n",
      "Тип:\n",
      "\u001b[0m <class 'float'>\n",
      "\u001b[4m\n",
      "Распределение уникальных значений (первые 10 значений в порядке убывания):\u001b[0m\n"
     ]
    },
    {
     "data": {
      "text/html": [
       "<div>\n",
       "<style scoped>\n",
       "    .dataframe tbody tr th:only-of-type {\n",
       "        vertical-align: middle;\n",
       "    }\n",
       "\n",
       "    .dataframe tbody tr th {\n",
       "        vertical-align: top;\n",
       "    }\n",
       "\n",
       "    .dataframe thead th {\n",
       "        text-align: right;\n",
       "    }\n",
       "</style>\n",
       "<table border=\"1\" class=\"dataframe\">\n",
       "  <thead>\n",
       "    <tr style=\"text-align: right;\">\n",
       "      <th></th>\n",
       "      <th>Repaired</th>\n",
       "      <th>cnt</th>\n",
       "    </tr>\n",
       "  </thead>\n",
       "  <tbody>\n",
       "    <tr>\n",
       "      <th>0</th>\n",
       "      <td>no</td>\n",
       "      <td>247161</td>\n",
       "    </tr>\n",
       "    <tr>\n",
       "      <th>1</th>\n",
       "      <td>yes</td>\n",
       "      <td>36054</td>\n",
       "    </tr>\n",
       "  </tbody>\n",
       "</table>\n",
       "</div>"
      ],
      "text/plain": [
       "  Repaired     cnt\n",
       "0       no  247161\n",
       "1      yes   36054"
      ]
     },
     "metadata": {},
     "output_type": "display_data"
    },
    {
     "name": "stdout",
     "output_type": "stream",
     "text": [
      "\u001b[4m\n",
      "Гистограмма значений:\u001b[0m\n"
     ]
    },
    {
     "data": {
      "image/png": "[encoded data removed]",
      "text/plain": [
       "<Figure size 864x360 with 1 Axes>"
      ]
     },
     "metadata": {
      "needs_background": "light"
     },
     "output_type": "display_data"
    },
    {
     "name": "stdout",
     "output_type": "stream",
     "text": [
      "\n",
      "\u001b[1;3mDateCreated - дата создания анкеты\u001b[0m\n",
      "\n",
      "\u001b[4mОписание данных:\u001b[0m\n",
      "count                  354369\n",
      "unique                    109\n",
      "top       2016-04-03 00:00:00\n",
      "freq                    13719\n",
      "Name: DateCreated, dtype: object\n",
      "\u001b[4mКоличество записей:\u001b[0m 354369 из 354369\n",
      "\u001b[4m\n",
      "Тип:\n",
      "\u001b[0m <class 'str'>\n",
      "\n",
      "\u001b[1;3mNumberOfPictures - количество фотографий автомобиля\u001b[0m\n",
      "\n",
      "\u001b[4mОписание данных:\u001b[0m\n",
      "count   354,369.00\n",
      "mean          0.00\n",
      "std           0.00\n",
      "min           0.00\n",
      "25%           0.00\n",
      "50%           0.00\n",
      "75%           0.00\n",
      "max           0.00\n",
      "Name: NumberOfPictures, dtype: float64\n",
      "\u001b[4mКоличество записей:\u001b[0m 354369 из 354369\n",
      "\u001b[4m\n",
      "Тип:\n",
      "\u001b[0m <class 'numpy.int64'>\n",
      "\u001b[4m\n",
      "Распределение уникальных значений (первые 10 значений в порядке убывания):\u001b[0m\n"
     ]
    },
    {
     "data": {
      "text/html": [
       "<div>\n",
       "<style scoped>\n",
       "    .dataframe tbody tr th:only-of-type {\n",
       "        vertical-align: middle;\n",
       "    }\n",
       "\n",
       "    .dataframe tbody tr th {\n",
       "        vertical-align: top;\n",
       "    }\n",
       "\n",
       "    .dataframe thead th {\n",
       "        text-align: right;\n",
       "    }\n",
       "</style>\n",
       "<table border=\"1\" class=\"dataframe\">\n",
       "  <thead>\n",
       "    <tr style=\"text-align: right;\">\n",
       "      <th></th>\n",
       "      <th>NumberOfPictures</th>\n",
       "      <th>cnt</th>\n",
       "    </tr>\n",
       "  </thead>\n",
       "  <tbody>\n",
       "    <tr>\n",
       "      <th>0</th>\n",
       "      <td>0</td>\n",
       "      <td>354369</td>\n",
       "    </tr>\n",
       "  </tbody>\n",
       "</table>\n",
       "</div>"
      ],
      "text/plain": [
       "   NumberOfPictures     cnt\n",
       "0                 0  354369"
      ]
     },
     "metadata": {},
     "output_type": "display_data"
    },
    {
     "name": "stdout",
     "output_type": "stream",
     "text": [
      "\u001b[4m\n",
      "Гистограмма значений:\u001b[0m\n"
     ]
    },
    {
     "data": {
      "image/png": "[encoded data removed]",
      "text/plain": [
       "<Figure size 864x360 with 1 Axes>"
      ]
     },
     "metadata": {
      "needs_background": "light"
     },
     "output_type": "display_data"
    },
    {
     "name": "stdout",
     "output_type": "stream",
     "text": [
      "\n",
      "\u001b[1;3mPostalCode - почтовый индекс владельца анкеты (пользователя)\u001b[0m\n",
      "\n",
      "\u001b[4mОписание данных:\u001b[0m\n",
      "count   354,369.00\n",
      "mean     50,508.69\n",
      "std      25,783.10\n",
      "min       1,067.00\n",
      "25%      30,165.00\n",
      "50%      49,413.00\n",
      "75%      71,083.00\n",
      "max      99,998.00\n",
      "Name: PostalCode, dtype: float64\n",
      "\u001b[4mКоличество записей:\u001b[0m 354369 из 354369\n",
      "\u001b[4m\n",
      "Тип:\n",
      "\u001b[0m <class 'numpy.int64'>\n",
      "\n",
      "\u001b[1;3mLastSeen - дата последней активности пользователя\u001b[0m\n",
      "\n",
      "\u001b[4mОписание данных:\u001b[0m\n",
      "count                  354369\n",
      "unique                 179150\n",
      "top       2016-04-06 13:45:54\n",
      "freq                       17\n",
      "Name: LastSeen, dtype: object\n",
      "\u001b[4mКоличество записей:\u001b[0m 354369 из 354369\n",
      "\u001b[4m\n",
      "Тип:\n",
      "\u001b[0m <class 'str'>\n",
      "\n"
     ]
    }
   ],
   "source": [
    "df_reaper(data, data_name, data_fields)"
   ]
  },
  {
   "cell_type": "markdown",
   "metadata": {},
   "source": [
    "### Итоги анализа данных:\n",
    "1. Датасет содержит 354369 записей\n",
    "2. Присутствует 4 полных дубликата\n",
    "3. Часть признаков (VehicleType, Model, FuelType, Gearbox, Repaired) содержит пропуски\n",
    "4. Присутствует  слабая обратная корелляция между пробегом и ценой, а также очень слабая корреляция между мощностью двигателя и ценой\n",
    "5. Требуется приведение типов:\n",
    "- DateCrawled - к типу DateTime;\n",
    "- RegistrationYear, RegistrationMonth - объединить \n",
    "- DateCreated - к типу DateTime;\n",
    "- PostalCode - к типу string, добавить лидирующие нули до 6 символов\n",
    "- Repaired - к типу boolean;\n",
    "- LastSeen - к типу DateTime.\n",
    "6. NumberOfPictures содержит только нулевые данные\n",
    "7. признаки RegistrationYear, Power содержат сбойные данные (RegistrationMonth - 13 месяцев, Power - мощность 0 и 20000 л.с."
   ]
  },
  {
   "cell_type": "markdown",
   "metadata": {},
   "source": [
    "## **Подготовка данных**"
   ]
  },
  {
   "cell_type": "markdown",
   "metadata": {},
   "source": [
    "### Дубликаты данных"
   ]
  },
  {
   "cell_type": "code",
   "execution_count": 10,
   "metadata": {},
   "outputs": [
    {
     "data": {
      "text/html": [
       "<div>\n",
       "<style scoped>\n",
       "    .dataframe tbody tr th:only-of-type {\n",
       "        vertical-align: middle;\n",
       "    }\n",
       "\n",
       "    .dataframe tbody tr th {\n",
       "        vertical-align: top;\n",
       "    }\n",
       "\n",
       "    .dataframe thead th {\n",
       "        text-align: right;\n",
       "    }\n",
       "</style>\n",
       "<table border=\"1\" class=\"dataframe\">\n",
       "  <thead>\n",
       "    <tr style=\"text-align: right;\">\n",
       "      <th></th>\n",
       "      <th>DateCrawled</th>\n",
       "      <th>Price</th>\n",
       "      <th>VehicleType</th>\n",
       "      <th>RegistrationYear</th>\n",
       "      <th>Gearbox</th>\n",
       "      <th>Power</th>\n",
       "      <th>Model</th>\n",
       "      <th>Kilometer</th>\n",
       "      <th>RegistrationMonth</th>\n",
       "      <th>FuelType</th>\n",
       "      <th>Brand</th>\n",
       "      <th>Repaired</th>\n",
       "      <th>DateCreated</th>\n",
       "      <th>NumberOfPictures</th>\n",
       "      <th>PostalCode</th>\n",
       "      <th>LastSeen</th>\n",
       "    </tr>\n",
       "  </thead>\n",
       "  <tbody>\n",
       "    <tr>\n",
       "      <th>90964</th>\n",
       "      <td>2016-03-28 00:56:10</td>\n",
       "      <td>1000</td>\n",
       "      <td>small</td>\n",
       "      <td>2002</td>\n",
       "      <td>manual</td>\n",
       "      <td>83</td>\n",
       "      <td>other</td>\n",
       "      <td>150000</td>\n",
       "      <td>1</td>\n",
       "      <td>petrol</td>\n",
       "      <td>suzuki</td>\n",
       "      <td>no</td>\n",
       "      <td>2016-03-28 00:00:00</td>\n",
       "      <td>0</td>\n",
       "      <td>66589</td>\n",
       "      <td>2016-03-28 08:46:21</td>\n",
       "    </tr>\n",
       "    <tr>\n",
       "      <th>231258</th>\n",
       "      <td>2016-03-28 00:56:10</td>\n",
       "      <td>1000</td>\n",
       "      <td>small</td>\n",
       "      <td>2002</td>\n",
       "      <td>manual</td>\n",
       "      <td>83</td>\n",
       "      <td>other</td>\n",
       "      <td>150000</td>\n",
       "      <td>1</td>\n",
       "      <td>petrol</td>\n",
       "      <td>suzuki</td>\n",
       "      <td>no</td>\n",
       "      <td>2016-03-28 00:00:00</td>\n",
       "      <td>0</td>\n",
       "      <td>66589</td>\n",
       "      <td>2016-03-28 08:46:21</td>\n",
       "    </tr>\n",
       "    <tr>\n",
       "      <th>88087</th>\n",
       "      <td>2016-03-08 18:42:48</td>\n",
       "      <td>1799</td>\n",
       "      <td>coupe</td>\n",
       "      <td>1999</td>\n",
       "      <td>auto</td>\n",
       "      <td>193</td>\n",
       "      <td>clk</td>\n",
       "      <td>20000</td>\n",
       "      <td>7</td>\n",
       "      <td>petrol</td>\n",
       "      <td>mercedes_benz</td>\n",
       "      <td>no</td>\n",
       "      <td>2016-03-08 00:00:00</td>\n",
       "      <td>0</td>\n",
       "      <td>89518</td>\n",
       "      <td>2016-03-09 09:46:57</td>\n",
       "    </tr>\n",
       "    <tr>\n",
       "      <th>171088</th>\n",
       "      <td>2016-03-08 18:42:48</td>\n",
       "      <td>1799</td>\n",
       "      <td>coupe</td>\n",
       "      <td>1999</td>\n",
       "      <td>auto</td>\n",
       "      <td>193</td>\n",
       "      <td>clk</td>\n",
       "      <td>20000</td>\n",
       "      <td>7</td>\n",
       "      <td>petrol</td>\n",
       "      <td>mercedes_benz</td>\n",
       "      <td>no</td>\n",
       "      <td>2016-03-08 00:00:00</td>\n",
       "      <td>0</td>\n",
       "      <td>89518</td>\n",
       "      <td>2016-03-09 09:46:57</td>\n",
       "    </tr>\n",
       "    <tr>\n",
       "      <th>41529</th>\n",
       "      <td>2016-03-18 18:46:15</td>\n",
       "      <td>1999</td>\n",
       "      <td>wagon</td>\n",
       "      <td>2001</td>\n",
       "      <td>manual</td>\n",
       "      <td>131</td>\n",
       "      <td>passat</td>\n",
       "      <td>150000</td>\n",
       "      <td>7</td>\n",
       "      <td>gasoline</td>\n",
       "      <td>volkswagen</td>\n",
       "      <td>no</td>\n",
       "      <td>2016-03-18 00:00:00</td>\n",
       "      <td>0</td>\n",
       "      <td>36391</td>\n",
       "      <td>2016-03-18 18:46:15</td>\n",
       "    </tr>\n",
       "    <tr>\n",
       "      <th>325651</th>\n",
       "      <td>2016-03-18 18:46:15</td>\n",
       "      <td>1999</td>\n",
       "      <td>wagon</td>\n",
       "      <td>2001</td>\n",
       "      <td>manual</td>\n",
       "      <td>131</td>\n",
       "      <td>passat</td>\n",
       "      <td>150000</td>\n",
       "      <td>7</td>\n",
       "      <td>gasoline</td>\n",
       "      <td>volkswagen</td>\n",
       "      <td>no</td>\n",
       "      <td>2016-03-18 00:00:00</td>\n",
       "      <td>0</td>\n",
       "      <td>36391</td>\n",
       "      <td>2016-03-18 18:46:15</td>\n",
       "    </tr>\n",
       "    <tr>\n",
       "      <th>187735</th>\n",
       "      <td>2016-04-03 09:01:15</td>\n",
       "      <td>4699</td>\n",
       "      <td>coupe</td>\n",
       "      <td>2003</td>\n",
       "      <td>auto</td>\n",
       "      <td>218</td>\n",
       "      <td>clk</td>\n",
       "      <td>125000</td>\n",
       "      <td>6</td>\n",
       "      <td>petrol</td>\n",
       "      <td>mercedes_benz</td>\n",
       "      <td>yes</td>\n",
       "      <td>2016-04-03 00:00:00</td>\n",
       "      <td>0</td>\n",
       "      <td>75196</td>\n",
       "      <td>2016-04-07 09:44:54</td>\n",
       "    </tr>\n",
       "    <tr>\n",
       "      <th>258109</th>\n",
       "      <td>2016-04-03 09:01:15</td>\n",
       "      <td>4699</td>\n",
       "      <td>coupe</td>\n",
       "      <td>2003</td>\n",
       "      <td>auto</td>\n",
       "      <td>218</td>\n",
       "      <td>clk</td>\n",
       "      <td>125000</td>\n",
       "      <td>6</td>\n",
       "      <td>petrol</td>\n",
       "      <td>mercedes_benz</td>\n",
       "      <td>yes</td>\n",
       "      <td>2016-04-03 00:00:00</td>\n",
       "      <td>0</td>\n",
       "      <td>75196</td>\n",
       "      <td>2016-04-07 09:44:54</td>\n",
       "    </tr>\n",
       "  </tbody>\n",
       "</table>\n",
       "</div>"
      ],
      "text/plain": [
       "                DateCrawled  Price VehicleType  RegistrationYear Gearbox  \\\n",
       "90964   2016-03-28 00:56:10   1000       small              2002  manual   \n",
       "231258  2016-03-28 00:56:10   1000       small              2002  manual   \n",
       "88087   2016-03-08 18:42:48   1799       coupe              1999    auto   \n",
       "171088  2016-03-08 18:42:48   1799       coupe              1999    auto   \n",
       "41529   2016-03-18 18:46:15   1999       wagon              2001  manual   \n",
       "325651  2016-03-18 18:46:15   1999       wagon              2001  manual   \n",
       "187735  2016-04-03 09:01:15   4699       coupe              2003    auto   \n",
       "258109  2016-04-03 09:01:15   4699       coupe              2003    auto   \n",
       "\n",
       "        Power   Model  Kilometer  RegistrationMonth  FuelType          Brand  \\\n",
       "90964      83   other     150000                  1    petrol         suzuki   \n",
       "231258     83   other     150000                  1    petrol         suzuki   \n",
       "88087     193     clk      20000                  7    petrol  mercedes_benz   \n",
       "171088    193     clk      20000                  7    petrol  mercedes_benz   \n",
       "41529     131  passat     150000                  7  gasoline     volkswagen   \n",
       "325651    131  passat     150000                  7  gasoline     volkswagen   \n",
       "187735    218     clk     125000                  6    petrol  mercedes_benz   \n",
       "258109    218     clk     125000                  6    petrol  mercedes_benz   \n",
       "\n",
       "       Repaired          DateCreated  NumberOfPictures  PostalCode  \\\n",
       "90964        no  2016-03-28 00:00:00                 0       66589   \n",
       "231258       no  2016-03-28 00:00:00                 0       66589   \n",
       "88087        no  2016-03-08 00:00:00                 0       89518   \n",
       "171088       no  2016-03-08 00:00:00                 0       89518   \n",
       "41529        no  2016-03-18 00:00:00                 0       36391   \n",
       "325651       no  2016-03-18 00:00:00                 0       36391   \n",
       "187735      yes  2016-04-03 00:00:00                 0       75196   \n",
       "258109      yes  2016-04-03 00:00:00                 0       75196   \n",
       "\n",
       "                   LastSeen  \n",
       "90964   2016-03-28 08:46:21  \n",
       "231258  2016-03-28 08:46:21  \n",
       "88087   2016-03-09 09:46:57  \n",
       "171088  2016-03-09 09:46:57  \n",
       "41529   2016-03-18 18:46:15  \n",
       "325651  2016-03-18 18:46:15  \n",
       "187735  2016-04-07 09:44:54  \n",
       "258109  2016-04-07 09:44:54  "
      ]
     },
     "execution_count": 10,
     "metadata": {},
     "output_type": "execute_result"
    }
   ],
   "source": [
    "data[data.duplicated(keep=False)].sort_values(by='Price')"
   ]
  },
  {
   "cell_type": "markdown",
   "metadata": {},
   "source": [
    "Похоже, это действительно дубликаты - их можно удалить"
   ]
  },
  {
   "cell_type": "code",
   "execution_count": 11,
   "metadata": {},
   "outputs": [],
   "source": [
    "data = data.drop_duplicates()"
   ]
  },
  {
   "cell_type": "code",
   "execution_count": 12,
   "metadata": {},
   "outputs": [
    {
     "data": {
      "text/plain": [
       "0"
      ]
     },
     "execution_count": 12,
     "metadata": {},
     "output_type": "execute_result"
    }
   ],
   "source": [
    "data.duplicated().sum()"
   ]
  },
  {
   "cell_type": "markdown",
   "metadata": {},
   "source": [
    "### Преобразование типов данных"
   ]
  },
  {
   "cell_type": "code",
   "execution_count": 13,
   "metadata": {},
   "outputs": [
    {
     "data": {
      "text/html": [
       "<div>\n",
       "<style scoped>\n",
       "    .dataframe tbody tr th:only-of-type {\n",
       "        vertical-align: middle;\n",
       "    }\n",
       "\n",
       "    .dataframe tbody tr th {\n",
       "        vertical-align: top;\n",
       "    }\n",
       "\n",
       "    .dataframe thead th {\n",
       "        text-align: right;\n",
       "    }\n",
       "</style>\n",
       "<table border=\"1\" class=\"dataframe\">\n",
       "  <thead>\n",
       "    <tr style=\"text-align: right;\">\n",
       "      <th></th>\n",
       "      <th>DateCrawled</th>\n",
       "      <th>Price</th>\n",
       "      <th>VehicleType</th>\n",
       "      <th>RegistrationYear</th>\n",
       "      <th>Gearbox</th>\n",
       "      <th>Power</th>\n",
       "      <th>Model</th>\n",
       "      <th>Kilometer</th>\n",
       "      <th>RegistrationMonth</th>\n",
       "      <th>FuelType</th>\n",
       "      <th>Brand</th>\n",
       "      <th>Repaired</th>\n",
       "      <th>DateCreated</th>\n",
       "      <th>NumberOfPictures</th>\n",
       "      <th>PostalCode</th>\n",
       "      <th>LastSeen</th>\n",
       "    </tr>\n",
       "  </thead>\n",
       "  <tbody>\n",
       "    <tr>\n",
       "      <th>0</th>\n",
       "      <td>2016-03-24 11:52:17</td>\n",
       "      <td>480</td>\n",
       "      <td>NaN</td>\n",
       "      <td>1993</td>\n",
       "      <td>manual</td>\n",
       "      <td>0</td>\n",
       "      <td>golf</td>\n",
       "      <td>150000</td>\n",
       "      <td>0</td>\n",
       "      <td>petrol</td>\n",
       "      <td>volkswagen</td>\n",
       "      <td>NaN</td>\n",
       "      <td>2016-03-24 00:00:00</td>\n",
       "      <td>0</td>\n",
       "      <td>70435</td>\n",
       "      <td>2016-04-07 03:16:57</td>\n",
       "    </tr>\n",
       "    <tr>\n",
       "      <th>1</th>\n",
       "      <td>2016-03-24 10:58:45</td>\n",
       "      <td>18300</td>\n",
       "      <td>coupe</td>\n",
       "      <td>2011</td>\n",
       "      <td>manual</td>\n",
       "      <td>190</td>\n",
       "      <td>NaN</td>\n",
       "      <td>125000</td>\n",
       "      <td>5</td>\n",
       "      <td>gasoline</td>\n",
       "      <td>audi</td>\n",
       "      <td>yes</td>\n",
       "      <td>2016-03-24 00:00:00</td>\n",
       "      <td>0</td>\n",
       "      <td>66954</td>\n",
       "      <td>2016-04-07 01:46:50</td>\n",
       "    </tr>\n",
       "    <tr>\n",
       "      <th>2</th>\n",
       "      <td>2016-03-14 12:52:21</td>\n",
       "      <td>9800</td>\n",
       "      <td>suv</td>\n",
       "      <td>2004</td>\n",
       "      <td>auto</td>\n",
       "      <td>163</td>\n",
       "      <td>grand</td>\n",
       "      <td>125000</td>\n",
       "      <td>8</td>\n",
       "      <td>gasoline</td>\n",
       "      <td>jeep</td>\n",
       "      <td>NaN</td>\n",
       "      <td>2016-03-14 00:00:00</td>\n",
       "      <td>0</td>\n",
       "      <td>90480</td>\n",
       "      <td>2016-04-05 12:47:46</td>\n",
       "    </tr>\n",
       "    <tr>\n",
       "      <th>3</th>\n",
       "      <td>2016-03-17 16:54:04</td>\n",
       "      <td>1500</td>\n",
       "      <td>small</td>\n",
       "      <td>2001</td>\n",
       "      <td>manual</td>\n",
       "      <td>75</td>\n",
       "      <td>golf</td>\n",
       "      <td>150000</td>\n",
       "      <td>6</td>\n",
       "      <td>petrol</td>\n",
       "      <td>volkswagen</td>\n",
       "      <td>no</td>\n",
       "      <td>2016-03-17 00:00:00</td>\n",
       "      <td>0</td>\n",
       "      <td>91074</td>\n",
       "      <td>2016-03-17 17:40:17</td>\n",
       "    </tr>\n",
       "    <tr>\n",
       "      <th>4</th>\n",
       "      <td>2016-03-31 17:25:20</td>\n",
       "      <td>3600</td>\n",
       "      <td>small</td>\n",
       "      <td>2008</td>\n",
       "      <td>manual</td>\n",
       "      <td>69</td>\n",
       "      <td>fabia</td>\n",
       "      <td>90000</td>\n",
       "      <td>7</td>\n",
       "      <td>gasoline</td>\n",
       "      <td>skoda</td>\n",
       "      <td>no</td>\n",
       "      <td>2016-03-31 00:00:00</td>\n",
       "      <td>0</td>\n",
       "      <td>60437</td>\n",
       "      <td>2016-04-06 10:17:21</td>\n",
       "    </tr>\n",
       "  </tbody>\n",
       "</table>\n",
       "</div>"
      ],
      "text/plain": [
       "           DateCrawled  Price VehicleType  RegistrationYear Gearbox  Power  \\\n",
       "0  2016-03-24 11:52:17    480         NaN              1993  manual      0   \n",
       "1  2016-03-24 10:58:45  18300       coupe              2011  manual    190   \n",
       "2  2016-03-14 12:52:21   9800         suv              2004    auto    163   \n",
       "3  2016-03-17 16:54:04   1500       small              2001  manual     75   \n",
       "4  2016-03-31 17:25:20   3600       small              2008  manual     69   \n",
       "\n",
       "   Model  Kilometer  RegistrationMonth  FuelType       Brand Repaired  \\\n",
       "0   golf     150000                  0    petrol  volkswagen      NaN   \n",
       "1    NaN     125000                  5  gasoline        audi      yes   \n",
       "2  grand     125000                  8  gasoline        jeep      NaN   \n",
       "3   golf     150000                  6    petrol  volkswagen       no   \n",
       "4  fabia      90000                  7  gasoline       skoda       no   \n",
       "\n",
       "           DateCreated  NumberOfPictures  PostalCode             LastSeen  \n",
       "0  2016-03-24 00:00:00                 0       70435  2016-04-07 03:16:57  \n",
       "1  2016-03-24 00:00:00                 0       66954  2016-04-07 01:46:50  \n",
       "2  2016-03-14 00:00:00                 0       90480  2016-04-05 12:47:46  \n",
       "3  2016-03-17 00:00:00                 0       91074  2016-03-17 17:40:17  \n",
       "4  2016-03-31 00:00:00                 0       60437  2016-04-06 10:17:21  "
      ]
     },
     "execution_count": 13,
     "metadata": {},
     "output_type": "execute_result"
    }
   ],
   "source": [
    "data.head()"
   ]
  },
  {
   "cell_type": "markdown",
   "metadata": {},
   "source": [
    "#### Преобразование временных признаков"
   ]
  },
  {
   "cell_type": "code",
   "execution_count": 14,
   "metadata": {},
   "outputs": [
    {
     "data": {
      "text/plain": [
       "0   2016-03-24 11:52:17\n",
       "1   2016-03-24 10:58:45\n",
       "2   2016-03-14 12:52:21\n",
       "3   2016-03-17 16:54:04\n",
       "4   2016-03-31 17:25:20\n",
       "Name: DateCrawled, dtype: datetime64[ns]"
      ]
     },
     "execution_count": 14,
     "metadata": {},
     "output_type": "execute_result"
    }
   ],
   "source": [
    "data['DateCrawled'] = pd.to_datetime(data['DateCrawled'], format='%Y-%m-%d %H:%M:%S')\n",
    "data['DateCrawled'].head()"
   ]
  },
  {
   "cell_type": "code",
   "execution_count": 15,
   "metadata": {},
   "outputs": [
    {
     "data": {
      "text/plain": [
       "0   2016-03-24 11:52:17\n",
       "1   2016-03-24 10:58:45\n",
       "2   2016-03-14 12:52:21\n",
       "3   2016-03-17 16:54:04\n",
       "4   2016-03-31 17:25:20\n",
       "Name: DateCrawled, dtype: datetime64[ns]"
      ]
     },
     "execution_count": 15,
     "metadata": {},
     "output_type": "execute_result"
    }
   ],
   "source": [
    "data['DateCrawled'] = pd.to_datetime(data['DateCrawled'], format='%Y-%m-%d %H:%M:%S')\n",
    "data['DateCrawled'].head()"
   ]
  },
  {
   "cell_type": "code",
   "execution_count": 16,
   "metadata": {},
   "outputs": [
    {
     "data": {
      "text/plain": [
       "0   2016-03-24\n",
       "1   2016-03-24\n",
       "2   2016-03-14\n",
       "3   2016-03-17\n",
       "4   2016-03-31\n",
       "Name: DateCreated, dtype: datetime64[ns]"
      ]
     },
     "execution_count": 16,
     "metadata": {},
     "output_type": "execute_result"
    }
   ],
   "source": [
    "data['DateCreated'] = pd.to_datetime(data['DateCreated'], format='%Y-%m-%d %H:%M:%S')\n",
    "data['DateCreated'].head()"
   ]
  },
  {
   "cell_type": "code",
   "execution_count": 17,
   "metadata": {
    "scrolled": true
   },
   "outputs": [
    {
     "data": {
      "text/plain": [
       "0   2016-04-07 03:16:57\n",
       "1   2016-04-07 01:46:50\n",
       "2   2016-04-05 12:47:46\n",
       "3   2016-03-17 17:40:17\n",
       "4   2016-04-06 10:17:21\n",
       "Name: LastSeen, dtype: datetime64[ns]"
      ]
     },
     "execution_count": 17,
     "metadata": {},
     "output_type": "execute_result"
    }
   ],
   "source": [
    "data['LastSeen'] = pd.to_datetime(data['LastSeen'], format='%Y-%m-%d %H:%M:%S')\n",
    "data['LastSeen'].head()"
   ]
  },
  {
   "cell_type": "markdown",
   "metadata": {},
   "source": [
    "#### Данные о регистрации"
   ]
  },
  {
   "cell_type": "markdown",
   "metadata": {},
   "source": [
    "Максимальный год скачивания анкеты 2016.\n",
    "Часть автомобилей зарегистрированны в будущем - после ее скачивания: :)"
   ]
  },
  {
   "cell_type": "code",
   "execution_count": 18,
   "metadata": {},
   "outputs": [
    {
     "data": {
      "text/plain": [
       "14530"
      ]
     },
     "execution_count": 18,
     "metadata": {},
     "output_type": "execute_result"
    }
   ],
   "source": [
    "len(data.query('RegistrationYear > 2016'))"
   ]
  },
  {
   "cell_type": "markdown",
   "metadata": {},
   "source": [
    "а часть в 11-19 веках:"
   ]
  },
  {
   "cell_type": "code",
   "execution_count": 19,
   "metadata": {},
   "outputs": [
    {
     "data": {
      "text/plain": [
       "66"
      ]
     },
     "execution_count": 19,
     "metadata": {},
     "output_type": "execute_result"
    }
   ],
   "source": [
    "len(data.query('RegistrationYear < 1900'))"
   ]
  },
  {
   "cell_type": "markdown",
   "metadata": {},
   "source": [
    "Поскольку цена на такие автомобили непредсказуема - записи о них тоже придется удалить!"
   ]
  },
  {
   "cell_type": "code",
   "execution_count": 20,
   "metadata": {},
   "outputs": [],
   "source": [
    "data = data[(data['RegistrationYear'] >= 1900) & (data['RegistrationYear'] <= 2016)]"
   ]
  },
  {
   "cell_type": "code",
   "execution_count": 21,
   "metadata": {},
   "outputs": [
    {
     "data": {
      "text/plain": [
       "array([ 0,  1,  2,  3,  4,  5,  6,  7,  8,  9, 10, 11, 12])"
      ]
     },
     "execution_count": 21,
     "metadata": {},
     "output_type": "execute_result"
    }
   ],
   "source": [
    "np.sort(data['RegistrationMonth'].unique())"
   ]
  },
  {
   "cell_type": "markdown",
   "metadata": {},
   "source": [
    "У признака RegistrationMonth 13 значений. И каждому из значений большое количество записей.<br>\n",
    "Есть два варианта причины этого:\n",
    "1. Сливали 2 базы данных, в одной месяцы нумеровали от 0, а во второй - от 1\n",
    "2. 0 помечены те объявления, где не был указан масяц.<br />\n",
    "Поскольку нет возможности уточнить это у постановщика задачи, примем за рабочий второй вариант, как более вероятный.<br />\n",
    "В этом случае стоит поступить по правилу, которым руководствуются страховые компании: если месяц не указан, значит это январь."
   ]
  },
  {
   "cell_type": "markdown",
   "metadata": {},
   "source": [
    "Кроме того, для модели будет хорошо, если мы объединим месяц и год регистрации в 1 признак: количество месяцев от какой-либо даты, например 1 января 1900 года."
   ]
  },
  {
   "cell_type": "markdown",
   "metadata": {},
   "source": [
    "Пересчёт месяца в число:"
   ]
  },
  {
   "cell_type": "code",
   "execution_count": 22,
   "metadata": {},
   "outputs": [],
   "source": [
    "def month_to_int(row):\n",
    "    month = row['RegistrationMonth']\n",
    "    if month == 0:\n",
    "        month = 1\n",
    "    years = row['RegistrationYear'] - 1900   \n",
    "    row['reg_month'] = years*12 + month - 1\n",
    "    return row"
   ]
  },
  {
   "cell_type": "code",
   "execution_count": 23,
   "metadata": {},
   "outputs": [
    {
     "name": "stdout",
     "output_type": "stream",
     "text": [
      "CPU times: user 3min 7s, sys: 2.03 s, total: 3min 9s\n",
      "Wall time: 3min 10s\n"
     ]
    }
   ],
   "source": [
    "%%time\n",
    "data = data.apply(month_to_int, axis=1)"
   ]
  },
  {
   "cell_type": "code",
   "execution_count": 24,
   "metadata": {},
   "outputs": [
    {
     "data": {
      "text/html": [
       "<div>\n",
       "<style scoped>\n",
       "    .dataframe tbody tr th:only-of-type {\n",
       "        vertical-align: middle;\n",
       "    }\n",
       "\n",
       "    .dataframe tbody tr th {\n",
       "        vertical-align: top;\n",
       "    }\n",
       "\n",
       "    .dataframe thead th {\n",
       "        text-align: right;\n",
       "    }\n",
       "</style>\n",
       "<table border=\"1\" class=\"dataframe\">\n",
       "  <thead>\n",
       "    <tr style=\"text-align: right;\">\n",
       "      <th></th>\n",
       "      <th>DateCrawled</th>\n",
       "      <th>Price</th>\n",
       "      <th>VehicleType</th>\n",
       "      <th>RegistrationYear</th>\n",
       "      <th>Gearbox</th>\n",
       "      <th>Power</th>\n",
       "      <th>Model</th>\n",
       "      <th>Kilometer</th>\n",
       "      <th>RegistrationMonth</th>\n",
       "      <th>FuelType</th>\n",
       "      <th>Brand</th>\n",
       "      <th>Repaired</th>\n",
       "      <th>DateCreated</th>\n",
       "      <th>NumberOfPictures</th>\n",
       "      <th>PostalCode</th>\n",
       "      <th>LastSeen</th>\n",
       "      <th>reg_month</th>\n",
       "    </tr>\n",
       "  </thead>\n",
       "  <tbody>\n",
       "    <tr>\n",
       "      <th>0</th>\n",
       "      <td>2016-03-24 11:52:17</td>\n",
       "      <td>480</td>\n",
       "      <td>NaN</td>\n",
       "      <td>1993</td>\n",
       "      <td>manual</td>\n",
       "      <td>0</td>\n",
       "      <td>golf</td>\n",
       "      <td>150000</td>\n",
       "      <td>0</td>\n",
       "      <td>petrol</td>\n",
       "      <td>volkswagen</td>\n",
       "      <td>NaN</td>\n",
       "      <td>2016-03-24</td>\n",
       "      <td>0</td>\n",
       "      <td>70435</td>\n",
       "      <td>2016-04-07 03:16:57</td>\n",
       "      <td>1116</td>\n",
       "    </tr>\n",
       "    <tr>\n",
       "      <th>1</th>\n",
       "      <td>2016-03-24 10:58:45</td>\n",
       "      <td>18300</td>\n",
       "      <td>coupe</td>\n",
       "      <td>2011</td>\n",
       "      <td>manual</td>\n",
       "      <td>190</td>\n",
       "      <td>NaN</td>\n",
       "      <td>125000</td>\n",
       "      <td>5</td>\n",
       "      <td>gasoline</td>\n",
       "      <td>audi</td>\n",
       "      <td>yes</td>\n",
       "      <td>2016-03-24</td>\n",
       "      <td>0</td>\n",
       "      <td>66954</td>\n",
       "      <td>2016-04-07 01:46:50</td>\n",
       "      <td>1336</td>\n",
       "    </tr>\n",
       "    <tr>\n",
       "      <th>2</th>\n",
       "      <td>2016-03-14 12:52:21</td>\n",
       "      <td>9800</td>\n",
       "      <td>suv</td>\n",
       "      <td>2004</td>\n",
       "      <td>auto</td>\n",
       "      <td>163</td>\n",
       "      <td>grand</td>\n",
       "      <td>125000</td>\n",
       "      <td>8</td>\n",
       "      <td>gasoline</td>\n",
       "      <td>jeep</td>\n",
       "      <td>NaN</td>\n",
       "      <td>2016-03-14</td>\n",
       "      <td>0</td>\n",
       "      <td>90480</td>\n",
       "      <td>2016-04-05 12:47:46</td>\n",
       "      <td>1255</td>\n",
       "    </tr>\n",
       "    <tr>\n",
       "      <th>3</th>\n",
       "      <td>2016-03-17 16:54:04</td>\n",
       "      <td>1500</td>\n",
       "      <td>small</td>\n",
       "      <td>2001</td>\n",
       "      <td>manual</td>\n",
       "      <td>75</td>\n",
       "      <td>golf</td>\n",
       "      <td>150000</td>\n",
       "      <td>6</td>\n",
       "      <td>petrol</td>\n",
       "      <td>volkswagen</td>\n",
       "      <td>no</td>\n",
       "      <td>2016-03-17</td>\n",
       "      <td>0</td>\n",
       "      <td>91074</td>\n",
       "      <td>2016-03-17 17:40:17</td>\n",
       "      <td>1217</td>\n",
       "    </tr>\n",
       "    <tr>\n",
       "      <th>4</th>\n",
       "      <td>2016-03-31 17:25:20</td>\n",
       "      <td>3600</td>\n",
       "      <td>small</td>\n",
       "      <td>2008</td>\n",
       "      <td>manual</td>\n",
       "      <td>69</td>\n",
       "      <td>fabia</td>\n",
       "      <td>90000</td>\n",
       "      <td>7</td>\n",
       "      <td>gasoline</td>\n",
       "      <td>skoda</td>\n",
       "      <td>no</td>\n",
       "      <td>2016-03-31</td>\n",
       "      <td>0</td>\n",
       "      <td>60437</td>\n",
       "      <td>2016-04-06 10:17:21</td>\n",
       "      <td>1302</td>\n",
       "    </tr>\n",
       "  </tbody>\n",
       "</table>\n",
       "</div>"
      ],
      "text/plain": [
       "          DateCrawled  Price VehicleType  RegistrationYear Gearbox  Power  \\\n",
       "0 2016-03-24 11:52:17    480         NaN              1993  manual      0   \n",
       "1 2016-03-24 10:58:45  18300       coupe              2011  manual    190   \n",
       "2 2016-03-14 12:52:21   9800         suv              2004    auto    163   \n",
       "3 2016-03-17 16:54:04   1500       small              2001  manual     75   \n",
       "4 2016-03-31 17:25:20   3600       small              2008  manual     69   \n",
       "\n",
       "   Model  Kilometer  RegistrationMonth  FuelType       Brand Repaired  \\\n",
       "0   golf     150000                  0    petrol  volkswagen      NaN   \n",
       "1    NaN     125000                  5  gasoline        audi      yes   \n",
       "2  grand     125000                  8  gasoline        jeep      NaN   \n",
       "3   golf     150000                  6    petrol  volkswagen       no   \n",
       "4  fabia      90000                  7  gasoline       skoda       no   \n",
       "\n",
       "  DateCreated  NumberOfPictures  PostalCode            LastSeen  reg_month  \n",
       "0  2016-03-24                 0       70435 2016-04-07 03:16:57       1116  \n",
       "1  2016-03-24                 0       66954 2016-04-07 01:46:50       1336  \n",
       "2  2016-03-14                 0       90480 2016-04-05 12:47:46       1255  \n",
       "3  2016-03-17                 0       91074 2016-03-17 17:40:17       1217  \n",
       "4  2016-03-31                 0       60437 2016-04-06 10:17:21       1302  "
      ]
     },
     "execution_count": 24,
     "metadata": {},
     "output_type": "execute_result"
    }
   ],
   "source": [
    "data.head()"
   ]
  },
  {
   "cell_type": "markdown",
   "metadata": {},
   "source": [
    "#### Преобразование PostalCode в текст"
   ]
  },
  {
   "cell_type": "markdown",
   "metadata": {},
   "source": [
    "Индексы состоят из чисел, и модель может индекс за числовой параметр. Чтобы этого не допустить, сделаем его текстом"
   ]
  },
  {
   "cell_type": "code",
   "execution_count": 25,
   "metadata": {},
   "outputs": [],
   "source": [
    "def indexer(row):\n",
    "    PostalCode = str(row['PostalCode'])\n",
    "    index=''\n",
    "    for i in range(6-len(PostalCode)):\n",
    "        index = index + '0'\n",
    "    index = index + PostalCode\n",
    "    row['PostalCode'] = index    \n",
    "    return row"
   ]
  },
  {
   "cell_type": "code",
   "execution_count": 26,
   "metadata": {},
   "outputs": [
    {
     "name": "stdout",
     "output_type": "stream",
     "text": [
      "CPU times: user 25.4 s, sys: 99.9 ms, total: 25.5 s\n",
      "Wall time: 25.7 s\n"
     ]
    },
    {
     "data": {
      "text/plain": [
       "0    070435\n",
       "1    066954\n",
       "2    090480\n",
       "3    091074\n",
       "4    060437\n",
       "Name: PostalCode, dtype: object"
      ]
     },
     "execution_count": 26,
     "metadata": {},
     "output_type": "execute_result"
    }
   ],
   "source": [
    "%%time\n",
    "data = data.apply(indexer, axis=1)\n",
    "data['PostalCode'].head()"
   ]
  },
  {
   "cell_type": "markdown",
   "metadata": {},
   "source": [
    "#### Преобразование Repaired в Bool"
   ]
  },
  {
   "cell_type": "code",
   "execution_count": 27,
   "metadata": {},
   "outputs": [
    {
     "data": {
      "text/plain": [
       "0    True\n",
       "1    True\n",
       "2    True\n",
       "3    True\n",
       "4    True\n",
       "Name: Repaired, dtype: bool"
      ]
     },
     "execution_count": 27,
     "metadata": {},
     "output_type": "execute_result"
    }
   ],
   "source": [
    "data['Repaired'] = data['Repaired'].astype(bool)\n",
    "data['Repaired'].head()"
   ]
  },
  {
   "cell_type": "markdown",
   "metadata": {},
   "source": [
    "#### Результат преобразования типов"
   ]
  },
  {
   "cell_type": "code",
   "execution_count": 28,
   "metadata": {},
   "outputs": [
    {
     "data": {
      "text/html": [
       "<div>\n",
       "<style scoped>\n",
       "    .dataframe tbody tr th:only-of-type {\n",
       "        vertical-align: middle;\n",
       "    }\n",
       "\n",
       "    .dataframe tbody tr th {\n",
       "        vertical-align: top;\n",
       "    }\n",
       "\n",
       "    .dataframe thead th {\n",
       "        text-align: right;\n",
       "    }\n",
       "</style>\n",
       "<table border=\"1\" class=\"dataframe\">\n",
       "  <thead>\n",
       "    <tr style=\"text-align: right;\">\n",
       "      <th></th>\n",
       "      <th>DateCrawled</th>\n",
       "      <th>Price</th>\n",
       "      <th>VehicleType</th>\n",
       "      <th>RegistrationYear</th>\n",
       "      <th>Gearbox</th>\n",
       "      <th>Power</th>\n",
       "      <th>Model</th>\n",
       "      <th>Kilometer</th>\n",
       "      <th>RegistrationMonth</th>\n",
       "      <th>FuelType</th>\n",
       "      <th>Brand</th>\n",
       "      <th>Repaired</th>\n",
       "      <th>DateCreated</th>\n",
       "      <th>NumberOfPictures</th>\n",
       "      <th>PostalCode</th>\n",
       "      <th>LastSeen</th>\n",
       "      <th>reg_month</th>\n",
       "    </tr>\n",
       "  </thead>\n",
       "  <tbody>\n",
       "    <tr>\n",
       "      <th>0</th>\n",
       "      <td>2016-03-24 11:52:17</td>\n",
       "      <td>480</td>\n",
       "      <td>NaN</td>\n",
       "      <td>1993</td>\n",
       "      <td>manual</td>\n",
       "      <td>0</td>\n",
       "      <td>golf</td>\n",
       "      <td>150000</td>\n",
       "      <td>0</td>\n",
       "      <td>petrol</td>\n",
       "      <td>volkswagen</td>\n",
       "      <td>True</td>\n",
       "      <td>2016-03-24</td>\n",
       "      <td>0</td>\n",
       "      <td>070435</td>\n",
       "      <td>2016-04-07 03:16:57</td>\n",
       "      <td>1116</td>\n",
       "    </tr>\n",
       "    <tr>\n",
       "      <th>1</th>\n",
       "      <td>2016-03-24 10:58:45</td>\n",
       "      <td>18300</td>\n",
       "      <td>coupe</td>\n",
       "      <td>2011</td>\n",
       "      <td>manual</td>\n",
       "      <td>190</td>\n",
       "      <td>NaN</td>\n",
       "      <td>125000</td>\n",
       "      <td>5</td>\n",
       "      <td>gasoline</td>\n",
       "      <td>audi</td>\n",
       "      <td>True</td>\n",
       "      <td>2016-03-24</td>\n",
       "      <td>0</td>\n",
       "      <td>066954</td>\n",
       "      <td>2016-04-07 01:46:50</td>\n",
       "      <td>1336</td>\n",
       "    </tr>\n",
       "    <tr>\n",
       "      <th>2</th>\n",
       "      <td>2016-03-14 12:52:21</td>\n",
       "      <td>9800</td>\n",
       "      <td>suv</td>\n",
       "      <td>2004</td>\n",
       "      <td>auto</td>\n",
       "      <td>163</td>\n",
       "      <td>grand</td>\n",
       "      <td>125000</td>\n",
       "      <td>8</td>\n",
       "      <td>gasoline</td>\n",
       "      <td>jeep</td>\n",
       "      <td>True</td>\n",
       "      <td>2016-03-14</td>\n",
       "      <td>0</td>\n",
       "      <td>090480</td>\n",
       "      <td>2016-04-05 12:47:46</td>\n",
       "      <td>1255</td>\n",
       "    </tr>\n",
       "    <tr>\n",
       "      <th>3</th>\n",
       "      <td>2016-03-17 16:54:04</td>\n",
       "      <td>1500</td>\n",
       "      <td>small</td>\n",
       "      <td>2001</td>\n",
       "      <td>manual</td>\n",
       "      <td>75</td>\n",
       "      <td>golf</td>\n",
       "      <td>150000</td>\n",
       "      <td>6</td>\n",
       "      <td>petrol</td>\n",
       "      <td>volkswagen</td>\n",
       "      <td>True</td>\n",
       "      <td>2016-03-17</td>\n",
       "      <td>0</td>\n",
       "      <td>091074</td>\n",
       "      <td>2016-03-17 17:40:17</td>\n",
       "      <td>1217</td>\n",
       "    </tr>\n",
       "    <tr>\n",
       "      <th>4</th>\n",
       "      <td>2016-03-31 17:25:20</td>\n",
       "      <td>3600</td>\n",
       "      <td>small</td>\n",
       "      <td>2008</td>\n",
       "      <td>manual</td>\n",
       "      <td>69</td>\n",
       "      <td>fabia</td>\n",
       "      <td>90000</td>\n",
       "      <td>7</td>\n",
       "      <td>gasoline</td>\n",
       "      <td>skoda</td>\n",
       "      <td>True</td>\n",
       "      <td>2016-03-31</td>\n",
       "      <td>0</td>\n",
       "      <td>060437</td>\n",
       "      <td>2016-04-06 10:17:21</td>\n",
       "      <td>1302</td>\n",
       "    </tr>\n",
       "  </tbody>\n",
       "</table>\n",
       "</div>"
      ],
      "text/plain": [
       "          DateCrawled  Price VehicleType  RegistrationYear Gearbox  Power  \\\n",
       "0 2016-03-24 11:52:17    480         NaN              1993  manual      0   \n",
       "1 2016-03-24 10:58:45  18300       coupe              2011  manual    190   \n",
       "2 2016-03-14 12:52:21   9800         suv              2004    auto    163   \n",
       "3 2016-03-17 16:54:04   1500       small              2001  manual     75   \n",
       "4 2016-03-31 17:25:20   3600       small              2008  manual     69   \n",
       "\n",
       "   Model  Kilometer  RegistrationMonth  FuelType       Brand  Repaired  \\\n",
       "0   golf     150000                  0    petrol  volkswagen      True   \n",
       "1    NaN     125000                  5  gasoline        audi      True   \n",
       "2  grand     125000                  8  gasoline        jeep      True   \n",
       "3   golf     150000                  6    petrol  volkswagen      True   \n",
       "4  fabia      90000                  7  gasoline       skoda      True   \n",
       "\n",
       "  DateCreated  NumberOfPictures PostalCode            LastSeen  reg_month  \n",
       "0  2016-03-24                 0     070435 2016-04-07 03:16:57       1116  \n",
       "1  2016-03-24                 0     066954 2016-04-07 01:46:50       1336  \n",
       "2  2016-03-14                 0     090480 2016-04-05 12:47:46       1255  \n",
       "3  2016-03-17                 0     091074 2016-03-17 17:40:17       1217  \n",
       "4  2016-03-31                 0     060437 2016-04-06 10:17:21       1302  "
      ]
     },
     "execution_count": 28,
     "metadata": {},
     "output_type": "execute_result"
    }
   ],
   "source": [
    "data.head()"
   ]
  },
  {
   "cell_type": "markdown",
   "metadata": {},
   "source": [
    "### Пропущенные данные"
   ]
  },
  {
   "cell_type": "markdown",
   "metadata": {},
   "source": [
    "Признаки VehicleType, Model, FuelType, Repaired содержит пропуски"
   ]
  },
  {
   "cell_type": "markdown",
   "metadata": {},
   "source": [
    "Функция **friendly_filler** ищет в датафрейме **df** строки с пропущенными значениями столбца **target**, <br />\n",
    "для которых в **df** есть строки с таким же значением столбца **base** c непустыми значениями,<br />\n",
    "и заполняет их в зависимости от значения параметра **agg**:\n",
    "- *'none'* (по умолчанию) - первым непустым значением;\n",
    "- *'mode'* - наиболее популярным значением;\n",
    "- *'median'* - медианным значением;\n",
    "- *'mean'* - средним значением."
   ]
  },
  {
   "cell_type": "markdown",
   "metadata": {},
   "source": [
    "#### Model"
   ]
  },
  {
   "cell_type": "code",
   "execution_count": 29,
   "metadata": {
    "scrolled": true
   },
   "outputs": [
    {
     "data": {
      "text/html": [
       "<div>\n",
       "<style scoped>\n",
       "    .dataframe tbody tr th:only-of-type {\n",
       "        vertical-align: middle;\n",
       "    }\n",
       "\n",
       "    .dataframe tbody tr th {\n",
       "        vertical-align: top;\n",
       "    }\n",
       "\n",
       "    .dataframe thead th {\n",
       "        text-align: right;\n",
       "    }\n",
       "</style>\n",
       "<table border=\"1\" class=\"dataframe\">\n",
       "  <thead>\n",
       "    <tr style=\"text-align: right;\">\n",
       "      <th></th>\n",
       "      <th>DateCrawled</th>\n",
       "      <th>Price</th>\n",
       "      <th>VehicleType</th>\n",
       "      <th>RegistrationYear</th>\n",
       "      <th>Gearbox</th>\n",
       "      <th>Power</th>\n",
       "      <th>Model</th>\n",
       "      <th>Kilometer</th>\n",
       "      <th>RegistrationMonth</th>\n",
       "      <th>FuelType</th>\n",
       "      <th>Brand</th>\n",
       "      <th>Repaired</th>\n",
       "      <th>DateCreated</th>\n",
       "      <th>NumberOfPictures</th>\n",
       "      <th>PostalCode</th>\n",
       "      <th>LastSeen</th>\n",
       "      <th>reg_month</th>\n",
       "    </tr>\n",
       "  </thead>\n",
       "  <tbody>\n",
       "    <tr>\n",
       "      <th>1</th>\n",
       "      <td>2016-03-24 10:58:45</td>\n",
       "      <td>18300</td>\n",
       "      <td>coupe</td>\n",
       "      <td>2011</td>\n",
       "      <td>manual</td>\n",
       "      <td>190</td>\n",
       "      <td>NaN</td>\n",
       "      <td>125000</td>\n",
       "      <td>5</td>\n",
       "      <td>gasoline</td>\n",
       "      <td>audi</td>\n",
       "      <td>True</td>\n",
       "      <td>2016-03-24</td>\n",
       "      <td>0</td>\n",
       "      <td>066954</td>\n",
       "      <td>2016-04-07 01:46:50</td>\n",
       "      <td>1336</td>\n",
       "    </tr>\n",
       "    <tr>\n",
       "      <th>59</th>\n",
       "      <td>2016-03-29 15:48:15</td>\n",
       "      <td>1</td>\n",
       "      <td>suv</td>\n",
       "      <td>1994</td>\n",
       "      <td>manual</td>\n",
       "      <td>286</td>\n",
       "      <td>NaN</td>\n",
       "      <td>150000</td>\n",
       "      <td>11</td>\n",
       "      <td>NaN</td>\n",
       "      <td>sonstige_autos</td>\n",
       "      <td>True</td>\n",
       "      <td>2016-03-29</td>\n",
       "      <td>0</td>\n",
       "      <td>053721</td>\n",
       "      <td>2016-04-06 01:44:38</td>\n",
       "      <td>1138</td>\n",
       "    </tr>\n",
       "    <tr>\n",
       "      <th>81</th>\n",
       "      <td>2016-04-03 12:56:45</td>\n",
       "      <td>350</td>\n",
       "      <td>small</td>\n",
       "      <td>1997</td>\n",
       "      <td>manual</td>\n",
       "      <td>54</td>\n",
       "      <td>NaN</td>\n",
       "      <td>150000</td>\n",
       "      <td>3</td>\n",
       "      <td>NaN</td>\n",
       "      <td>fiat</td>\n",
       "      <td>True</td>\n",
       "      <td>2016-04-03</td>\n",
       "      <td>0</td>\n",
       "      <td>045665</td>\n",
       "      <td>2016-04-05 11:47:13</td>\n",
       "      <td>1166</td>\n",
       "    </tr>\n",
       "    <tr>\n",
       "      <th>115</th>\n",
       "      <td>2016-03-20 18:53:27</td>\n",
       "      <td>0</td>\n",
       "      <td>small</td>\n",
       "      <td>1999</td>\n",
       "      <td>NaN</td>\n",
       "      <td>0</td>\n",
       "      <td>NaN</td>\n",
       "      <td>5000</td>\n",
       "      <td>0</td>\n",
       "      <td>petrol</td>\n",
       "      <td>volkswagen</td>\n",
       "      <td>True</td>\n",
       "      <td>2016-03-20</td>\n",
       "      <td>0</td>\n",
       "      <td>037520</td>\n",
       "      <td>2016-04-07 02:45:22</td>\n",
       "      <td>1188</td>\n",
       "    </tr>\n",
       "    <tr>\n",
       "      <th>135</th>\n",
       "      <td>2016-03-27 20:51:23</td>\n",
       "      <td>1450</td>\n",
       "      <td>sedan</td>\n",
       "      <td>1992</td>\n",
       "      <td>manual</td>\n",
       "      <td>136</td>\n",
       "      <td>NaN</td>\n",
       "      <td>150000</td>\n",
       "      <td>0</td>\n",
       "      <td>NaN</td>\n",
       "      <td>audi</td>\n",
       "      <td>True</td>\n",
       "      <td>2016-03-27</td>\n",
       "      <td>0</td>\n",
       "      <td>038709</td>\n",
       "      <td>2016-04-05 20:17:31</td>\n",
       "      <td>1104</td>\n",
       "    </tr>\n",
       "  </tbody>\n",
       "</table>\n",
       "</div>"
      ],
      "text/plain": [
       "            DateCrawled  Price VehicleType  RegistrationYear Gearbox  Power  \\\n",
       "1   2016-03-24 10:58:45  18300       coupe              2011  manual    190   \n",
       "59  2016-03-29 15:48:15      1         suv              1994  manual    286   \n",
       "81  2016-04-03 12:56:45    350       small              1997  manual     54   \n",
       "115 2016-03-20 18:53:27      0       small              1999     NaN      0   \n",
       "135 2016-03-27 20:51:23   1450       sedan              1992  manual    136   \n",
       "\n",
       "    Model  Kilometer  RegistrationMonth  FuelType           Brand  Repaired  \\\n",
       "1     NaN     125000                  5  gasoline            audi      True   \n",
       "59    NaN     150000                 11       NaN  sonstige_autos      True   \n",
       "81    NaN     150000                  3       NaN            fiat      True   \n",
       "115   NaN       5000                  0    petrol      volkswagen      True   \n",
       "135   NaN     150000                  0       NaN            audi      True   \n",
       "\n",
       "    DateCreated  NumberOfPictures PostalCode            LastSeen  reg_month  \n",
       "1    2016-03-24                 0     066954 2016-04-07 01:46:50       1336  \n",
       "59   2016-03-29                 0     053721 2016-04-06 01:44:38       1138  \n",
       "81   2016-04-03                 0     045665 2016-04-05 11:47:13       1166  \n",
       "115  2016-03-20                 0     037520 2016-04-07 02:45:22       1188  \n",
       "135  2016-03-27                 0     038709 2016-04-05 20:17:31       1104  "
      ]
     },
     "execution_count": 29,
     "metadata": {},
     "output_type": "execute_result"
    }
   ],
   "source": [
    "data.query('Model.isna()').head()"
   ]
  },
  {
   "cell_type": "code",
   "execution_count": 30,
   "metadata": {},
   "outputs": [
    {
     "data": {
      "text/plain": [
       "17625"
      ]
     },
     "execution_count": 30,
     "metadata": {},
     "output_type": "execute_result"
    }
   ],
   "source": [
    "len(data.query('Model.isna()'))"
   ]
  },
  {
   "cell_type": "markdown",
   "metadata": {},
   "source": [
    "У 5% данных отсутствуют данные о модели ТС. Такие данные очень трудно восстановить, поэтому их придется удалить"
   ]
  },
  {
   "cell_type": "code",
   "execution_count": 31,
   "metadata": {},
   "outputs": [],
   "source": [
    "data = data.dropna(subset=['Model'])"
   ]
  },
  {
   "cell_type": "code",
   "execution_count": 32,
   "metadata": {
    "scrolled": true
   },
   "outputs": [
    {
     "data": {
      "text/plain": [
       "0"
      ]
     },
     "execution_count": 32,
     "metadata": {},
     "output_type": "execute_result"
    }
   ],
   "source": [
    "len(data.query('Model.isna()'))"
   ]
  },
  {
   "cell_type": "markdown",
   "metadata": {},
   "source": [
    "#### VehicleType"
   ]
  },
  {
   "cell_type": "code",
   "execution_count": 33,
   "metadata": {},
   "outputs": [
    {
     "data": {
      "text/plain": [
       "18165"
      ]
     },
     "execution_count": 33,
     "metadata": {},
     "output_type": "execute_result"
    }
   ],
   "source": [
    "len(data.query('VehicleType.isna()'))"
   ]
  },
  {
   "cell_type": "markdown",
   "metadata": {},
   "source": [
    "6 процентов данных!<br />\n",
    "Попробуем заполнить данные наиболее популярными значениями для каждой из моделей"
   ]
  },
  {
   "cell_type": "code",
   "execution_count": 34,
   "metadata": {},
   "outputs": [],
   "source": [
    "data = friendly_filler(data,'Model','VehicleType','mode')"
   ]
  },
  {
   "cell_type": "code",
   "execution_count": 35,
   "metadata": {},
   "outputs": [
    {
     "data": {
      "text/plain": [
       "0"
      ]
     },
     "execution_count": 35,
     "metadata": {},
     "output_type": "execute_result"
    }
   ],
   "source": [
    "len(data.query('VehicleType.isna()'))"
   ]
  },
  {
   "cell_type": "markdown",
   "metadata": {},
   "source": [
    "Все пропуски в признаке VehicleType заполнены"
   ]
  },
  {
   "cell_type": "markdown",
   "metadata": {},
   "source": [
    "#### FuelType"
   ]
  },
  {
   "cell_type": "code",
   "execution_count": 36,
   "metadata": {
    "scrolled": true
   },
   "outputs": [
    {
     "data": {
      "text/plain": [
       "21187"
      ]
     },
     "execution_count": 36,
     "metadata": {},
     "output_type": "execute_result"
    }
   ],
   "source": [
    "len(data.query('FuelType.isna()'))"
   ]
  },
  {
   "cell_type": "markdown",
   "metadata": {},
   "source": [
    "Попробуем заполнить данные наиболее популярными значениями для каждой из моделей"
   ]
  },
  {
   "cell_type": "code",
   "execution_count": 37,
   "metadata": {},
   "outputs": [],
   "source": [
    "data = friendly_filler(data,'Model','FuelType','mode')"
   ]
  },
  {
   "cell_type": "code",
   "execution_count": 38,
   "metadata": {},
   "outputs": [
    {
     "data": {
      "text/plain": [
       "0"
      ]
     },
     "execution_count": 38,
     "metadata": {},
     "output_type": "execute_result"
    }
   ],
   "source": [
    "len(data.query('FuelType.isna()'))"
   ]
  },
  {
   "cell_type": "markdown",
   "metadata": {},
   "source": [
    "Все пропуски в признаке FuelType заполнены"
   ]
  },
  {
   "cell_type": "markdown",
   "metadata": {},
   "source": [
    "Посмотрим на то, какие виды топлива присутствуют у машин:"
   ]
  },
  {
   "cell_type": "code",
   "execution_count": 39,
   "metadata": {
    "scrolled": true
   },
   "outputs": [
    {
     "data": {
      "text/plain": [
       "array(['petrol', 'gasoline', 'lpg', 'other', 'hybrid', 'cng', 'electric'],\n",
       "      dtype=object)"
      ]
     },
     "execution_count": 39,
     "metadata": {},
     "output_type": "execute_result"
    }
   ],
   "source": [
    "data['FuelType'].unique()"
   ]
  },
  {
   "cell_type": "markdown",
   "metadata": {},
   "source": [
    "\"petrol\" и \"gasoline\" - это синонимы, в переводе - \"бензин\". Налицо - не явный дубликат."
   ]
  },
  {
   "cell_type": "code",
   "execution_count": 40,
   "metadata": {},
   "outputs": [],
   "source": [
    "data.loc[data['FuelType'] == 'gasoline','FuelType'] = 'petrol'"
   ]
  },
  {
   "cell_type": "markdown",
   "metadata": {},
   "source": [
    "#### Gearbox"
   ]
  },
  {
   "cell_type": "code",
   "execution_count": 41,
   "metadata": {},
   "outputs": [
    {
     "data": {
      "text/plain": [
       "14225"
      ]
     },
     "execution_count": 41,
     "metadata": {},
     "output_type": "execute_result"
    }
   ],
   "source": [
    "len(data.query('Gearbox.isna()'))"
   ]
  },
  {
   "cell_type": "markdown",
   "metadata": {},
   "source": [
    "Попробуем заполнить данные наиболее популярными значениями для каждой из моделей"
   ]
  },
  {
   "cell_type": "code",
   "execution_count": 42,
   "metadata": {},
   "outputs": [],
   "source": [
    "data = friendly_filler(data,'Model','Gearbox','mode')"
   ]
  },
  {
   "cell_type": "code",
   "execution_count": 43,
   "metadata": {},
   "outputs": [
    {
     "data": {
      "text/plain": [
       "0"
      ]
     },
     "execution_count": 43,
     "metadata": {},
     "output_type": "execute_result"
    }
   ],
   "source": [
    "len(data.query('Gearbox.isna()'))"
   ]
  },
  {
   "cell_type": "markdown",
   "metadata": {},
   "source": [
    "Все пропуски в признаке Gearbox заполнены"
   ]
  },
  {
   "cell_type": "markdown",
   "metadata": {},
   "source": [
    "#### Repaired"
   ]
  },
  {
   "cell_type": "code",
   "execution_count": 44,
   "metadata": {},
   "outputs": [
    {
     "data": {
      "text/plain": [
       "0"
      ]
     },
     "execution_count": 44,
     "metadata": {},
     "output_type": "execute_result"
    }
   ],
   "source": [
    "len(data.query('Repaired.isna()'))"
   ]
  },
  {
   "cell_type": "markdown",
   "metadata": {},
   "source": [
    "Все пропущенные данные удалены раньше"
   ]
  },
  {
   "cell_type": "markdown",
   "metadata": {},
   "source": [
    "#### Итог обработки пропусков:"
   ]
  },
  {
   "cell_type": "markdown",
   "metadata": {},
   "source": [
    "Проверка пропусков в датасете:"
   ]
  },
  {
   "cell_type": "code",
   "execution_count": 45,
   "metadata": {},
   "outputs": [
    {
     "data": {
      "text/plain": [
       "0"
      ]
     },
     "execution_count": 45,
     "metadata": {},
     "output_type": "execute_result"
    }
   ],
   "source": [
    "data.isna().sum().sum()"
   ]
  },
  {
   "cell_type": "markdown",
   "metadata": {},
   "source": [
    "Пропущенных данных нет"
   ]
  },
  {
   "cell_type": "markdown",
   "metadata": {},
   "source": [
    "### Аномальные значения"
   ]
  },
  {
   "cell_type": "markdown",
   "metadata": {},
   "source": [
    "#### Поиск аномальных значений"
   ]
  },
  {
   "cell_type": "markdown",
   "metadata": {},
   "source": [
    "В поле Power присутствуют анормально высокие и аномально низкие значения"
   ]
  },
  {
   "cell_type": "markdown",
   "metadata": {},
   "source": [
    "Можно, конечно предположить, что среди объявлений есть суперкары, но, с большей вероятностью, владельцы указали в объявлениях не мощность, а объём двигателя.<br />\n",
    "Граничным значением можно считать 650 - все двигатели имеют объём больше, чем 650 куб.см, а автомобили мощьностью больше 650 л.с можно по пальцам пересчитать"
   ]
  },
  {
   "cell_type": "code",
   "execution_count": 46,
   "metadata": {},
   "outputs": [
    {
     "data": {
      "text/plain": [
       "289"
      ]
     },
     "execution_count": 46,
     "metadata": {},
     "output_type": "execute_result"
    }
   ],
   "source": [
    "len(data.query('Power > 650'))"
   ]
  },
  {
   "cell_type": "markdown",
   "metadata": {},
   "source": [
    "Посмотрим, какие бренды претендуют на мощь:"
   ]
  },
  {
   "cell_type": "code",
   "execution_count": 47,
   "metadata": {},
   "outputs": [
    {
     "data": {
      "text/plain": [
       "array(['toyota', 'opel', 'mitsubishi', 'fiat', 'volkswagen', 'ford',\n",
       "       'seat', 'bmw', 'nissan', 'mercedes_benz', 'citroen', 'skoda',\n",
       "       'volvo', 'chevrolet', 'peugeot', 'smart', 'audi', 'kia', 'renault',\n",
       "       'chrysler', 'mazda', 'suzuki', 'mini', 'alfa_romeo', 'honda',\n",
       "       'daewoo', 'hyundai', 'lancia'], dtype=object)"
      ]
     },
     "execution_count": 47,
     "metadata": {},
     "output_type": "execute_result"
    }
   ],
   "source": [
    "data.query('Power > 650')['Brand'].unique()"
   ]
  },
  {
   "cell_type": "markdown",
   "metadata": {},
   "source": [
    "Посмотрим теперь на машины тех из них, которые реально имеют в своей линейке машины с двигателями больше 1000 л.с."
   ]
  },
  {
   "cell_type": "code",
   "execution_count": 48,
   "metadata": {},
   "outputs": [],
   "source": [
    "top_brand = ['bmw','nissan', 'mercedes_benz''mini']"
   ]
  },
  {
   "cell_type": "code",
   "execution_count": 49,
   "metadata": {
    "scrolled": true
   },
   "outputs": [
    {
     "data": {
      "text/html": [
       "<div>\n",
       "<style scoped>\n",
       "    .dataframe tbody tr th:only-of-type {\n",
       "        vertical-align: middle;\n",
       "    }\n",
       "\n",
       "    .dataframe tbody tr th {\n",
       "        vertical-align: top;\n",
       "    }\n",
       "\n",
       "    .dataframe thead th {\n",
       "        text-align: right;\n",
       "    }\n",
       "</style>\n",
       "<table border=\"1\" class=\"dataframe\">\n",
       "  <thead>\n",
       "    <tr style=\"text-align: right;\">\n",
       "      <th></th>\n",
       "      <th>Brand</th>\n",
       "      <th>Model</th>\n",
       "      <th>Power</th>\n",
       "    </tr>\n",
       "  </thead>\n",
       "  <tbody>\n",
       "    <tr>\n",
       "      <th>91568</th>\n",
       "      <td>bmw</td>\n",
       "      <td>1er</td>\n",
       "      <td>1223</td>\n",
       "    </tr>\n",
       "    <tr>\n",
       "      <th>114106</th>\n",
       "      <td>bmw</td>\n",
       "      <td>1er</td>\n",
       "      <td>19211</td>\n",
       "    </tr>\n",
       "    <tr>\n",
       "      <th>22281</th>\n",
       "      <td>bmw</td>\n",
       "      <td>3er</td>\n",
       "      <td>1993</td>\n",
       "    </tr>\n",
       "    <tr>\n",
       "      <th>78059</th>\n",
       "      <td>bmw</td>\n",
       "      <td>3er</td>\n",
       "      <td>1500</td>\n",
       "    </tr>\n",
       "    <tr>\n",
       "      <th>79981</th>\n",
       "      <td>bmw</td>\n",
       "      <td>3er</td>\n",
       "      <td>2016</td>\n",
       "    </tr>\n",
       "    <tr>\n",
       "      <th>80682</th>\n",
       "      <td>bmw</td>\n",
       "      <td>3er</td>\n",
       "      <td>1436</td>\n",
       "    </tr>\n",
       "    <tr>\n",
       "      <th>148269</th>\n",
       "      <td>bmw</td>\n",
       "      <td>3er</td>\n",
       "      <td>1506</td>\n",
       "    </tr>\n",
       "    <tr>\n",
       "      <th>177706</th>\n",
       "      <td>bmw</td>\n",
       "      <td>3er</td>\n",
       "      <td>1103</td>\n",
       "    </tr>\n",
       "    <tr>\n",
       "      <th>187330</th>\n",
       "      <td>bmw</td>\n",
       "      <td>3er</td>\n",
       "      <td>17019</td>\n",
       "    </tr>\n",
       "    <tr>\n",
       "      <th>188785</th>\n",
       "      <td>bmw</td>\n",
       "      <td>3er</td>\n",
       "      <td>1895</td>\n",
       "    </tr>\n",
       "    <tr>\n",
       "      <th>240248</th>\n",
       "      <td>bmw</td>\n",
       "      <td>3er</td>\n",
       "      <td>1500</td>\n",
       "    </tr>\n",
       "    <tr>\n",
       "      <th>254819</th>\n",
       "      <td>bmw</td>\n",
       "      <td>3er</td>\n",
       "      <td>1600</td>\n",
       "    </tr>\n",
       "    <tr>\n",
       "      <th>255268</th>\n",
       "      <td>bmw</td>\n",
       "      <td>3er</td>\n",
       "      <td>1432</td>\n",
       "    </tr>\n",
       "    <tr>\n",
       "      <th>260799</th>\n",
       "      <td>bmw</td>\n",
       "      <td>3er</td>\n",
       "      <td>15017</td>\n",
       "    </tr>\n",
       "    <tr>\n",
       "      <th>264940</th>\n",
       "      <td>bmw</td>\n",
       "      <td>3er</td>\n",
       "      <td>1433</td>\n",
       "    </tr>\n",
       "    <tr>\n",
       "      <th>270974</th>\n",
       "      <td>bmw</td>\n",
       "      <td>3er</td>\n",
       "      <td>1160</td>\n",
       "    </tr>\n",
       "    <tr>\n",
       "      <th>354260</th>\n",
       "      <td>bmw</td>\n",
       "      <td>3er</td>\n",
       "      <td>1103</td>\n",
       "    </tr>\n",
       "    <tr>\n",
       "      <th>19092</th>\n",
       "      <td>bmw</td>\n",
       "      <td>5er</td>\n",
       "      <td>2729</td>\n",
       "    </tr>\n",
       "    <tr>\n",
       "      <th>125086</th>\n",
       "      <td>bmw</td>\n",
       "      <td>5er</td>\n",
       "      <td>1000</td>\n",
       "    </tr>\n",
       "    <tr>\n",
       "      <th>132485</th>\n",
       "      <td>bmw</td>\n",
       "      <td>5er</td>\n",
       "      <td>19208</td>\n",
       "    </tr>\n",
       "    <tr>\n",
       "      <th>196532</th>\n",
       "      <td>bmw</td>\n",
       "      <td>5er</td>\n",
       "      <td>17700</td>\n",
       "    </tr>\n",
       "    <tr>\n",
       "      <th>200944</th>\n",
       "      <td>bmw</td>\n",
       "      <td>5er</td>\n",
       "      <td>1500</td>\n",
       "    </tr>\n",
       "    <tr>\n",
       "      <th>299180</th>\n",
       "      <td>bmw</td>\n",
       "      <td>5er</td>\n",
       "      <td>19312</td>\n",
       "    </tr>\n",
       "    <tr>\n",
       "      <th>308234</th>\n",
       "      <td>bmw</td>\n",
       "      <td>5er</td>\n",
       "      <td>1933</td>\n",
       "    </tr>\n",
       "    <tr>\n",
       "      <th>311399</th>\n",
       "      <td>bmw</td>\n",
       "      <td>5er</td>\n",
       "      <td>16311</td>\n",
       "    </tr>\n",
       "    <tr>\n",
       "      <th>19826</th>\n",
       "      <td>nissan</td>\n",
       "      <td>micra</td>\n",
       "      <td>1240</td>\n",
       "    </tr>\n",
       "    <tr>\n",
       "      <th>240661</th>\n",
       "      <td>nissan</td>\n",
       "      <td>micra</td>\n",
       "      <td>1275</td>\n",
       "    </tr>\n",
       "    <tr>\n",
       "      <th>301843</th>\n",
       "      <td>nissan</td>\n",
       "      <td>micra</td>\n",
       "      <td>998</td>\n",
       "    </tr>\n",
       "    <tr>\n",
       "      <th>324069</th>\n",
       "      <td>nissan</td>\n",
       "      <td>x_trail</td>\n",
       "      <td>1416</td>\n",
       "    </tr>\n",
       "  </tbody>\n",
       "</table>\n",
       "</div>"
      ],
      "text/plain": [
       "         Brand    Model  Power\n",
       "91568      bmw      1er   1223\n",
       "114106     bmw      1er  19211\n",
       "22281      bmw      3er   1993\n",
       "78059      bmw      3er   1500\n",
       "79981      bmw      3er   2016\n",
       "80682      bmw      3er   1436\n",
       "148269     bmw      3er   1506\n",
       "177706     bmw      3er   1103\n",
       "187330     bmw      3er  17019\n",
       "188785     bmw      3er   1895\n",
       "240248     bmw      3er   1500\n",
       "254819     bmw      3er   1600\n",
       "255268     bmw      3er   1432\n",
       "260799     bmw      3er  15017\n",
       "264940     bmw      3er   1433\n",
       "270974     bmw      3er   1160\n",
       "354260     bmw      3er   1103\n",
       "19092      bmw      5er   2729\n",
       "125086     bmw      5er   1000\n",
       "132485     bmw      5er  19208\n",
       "196532     bmw      5er  17700\n",
       "200944     bmw      5er   1500\n",
       "299180     bmw      5er  19312\n",
       "308234     bmw      5er   1933\n",
       "311399     bmw      5er  16311\n",
       "19826   nissan    micra   1240\n",
       "240661  nissan    micra   1275\n",
       "301843  nissan    micra    998\n",
       "324069  nissan  x_trail   1416"
      ]
     },
     "execution_count": 49,
     "metadata": {},
     "output_type": "execute_result"
    }
   ],
   "source": [
    "data.query('(Power > 650) and Brand in @top_brand')[['Brand','Model','Power']].sort_values(by=['Brand','Model'])"
   ]
  },
  {
   "cell_type": "markdown",
   "metadata": {},
   "source": [
    "У BMW самый мощный серийный двигатель 626 л.с., а уж у Nissan Micra....   "
   ]
  },
  {
   "cell_type": "markdown",
   "metadata": {},
   "source": [
    "Следовательно, записи, у которых Power > 650, сбойные."
   ]
  },
  {
   "cell_type": "markdown",
   "metadata": {},
   "source": [
    "Аналогично, посмотрим на модели с неожиданно низкой мощностью двигателя:"
   ]
  },
  {
   "cell_type": "markdown",
   "metadata": {},
   "source": [
    "Рассмотрим сначала нулевые значения:"
   ]
  },
  {
   "cell_type": "code",
   "execution_count": 50,
   "metadata": {},
   "outputs": [
    {
     "data": {
      "text/plain": [
       "30886"
      ]
     },
     "execution_count": 50,
     "metadata": {},
     "output_type": "execute_result"
    }
   ],
   "source": [
    "len(data.query('Power == 0'))"
   ]
  },
  {
   "cell_type": "markdown",
   "metadata": {},
   "source": [
    "У этих машин скорее всего нет информации по мощности двигателя. "
   ]
  },
  {
   "cell_type": "markdown",
   "metadata": {},
   "source": [
    "Мощность двигателя \"Оки\" была 29 л.с. Скорее всего, меньше 25 л.с. сейчас машин не найти...."
   ]
  },
  {
   "cell_type": "code",
   "execution_count": 51,
   "metadata": {},
   "outputs": [
    {
     "data": {
      "text/html": [
       "<div>\n",
       "<style scoped>\n",
       "    .dataframe tbody tr th:only-of-type {\n",
       "        vertical-align: middle;\n",
       "    }\n",
       "\n",
       "    .dataframe tbody tr th {\n",
       "        vertical-align: top;\n",
       "    }\n",
       "\n",
       "    .dataframe thead th {\n",
       "        text-align: right;\n",
       "    }\n",
       "</style>\n",
       "<table border=\"1\" class=\"dataframe\">\n",
       "  <thead>\n",
       "    <tr style=\"text-align: right;\">\n",
       "      <th></th>\n",
       "      <th>DateCrawled</th>\n",
       "      <th>Price</th>\n",
       "      <th>VehicleType</th>\n",
       "      <th>RegistrationYear</th>\n",
       "      <th>Gearbox</th>\n",
       "      <th>Power</th>\n",
       "      <th>Model</th>\n",
       "      <th>Kilometer</th>\n",
       "      <th>RegistrationMonth</th>\n",
       "      <th>FuelType</th>\n",
       "      <th>Brand</th>\n",
       "      <th>Repaired</th>\n",
       "      <th>DateCreated</th>\n",
       "      <th>NumberOfPictures</th>\n",
       "      <th>PostalCode</th>\n",
       "      <th>LastSeen</th>\n",
       "      <th>reg_month</th>\n",
       "    </tr>\n",
       "  </thead>\n",
       "  <tbody>\n",
       "    <tr>\n",
       "      <th>1235</th>\n",
       "      <td>2016-03-08 20:43:16</td>\n",
       "      <td>4450</td>\n",
       "      <td>small</td>\n",
       "      <td>1971</td>\n",
       "      <td>manual</td>\n",
       "      <td>23</td>\n",
       "      <td>500</td>\n",
       "      <td>70000</td>\n",
       "      <td>5</td>\n",
       "      <td>petrol</td>\n",
       "      <td>fiat</td>\n",
       "      <td>True</td>\n",
       "      <td>2016-03-08</td>\n",
       "      <td>0</td>\n",
       "      <td>033729</td>\n",
       "      <td>2016-04-05 18:44:51</td>\n",
       "      <td>856</td>\n",
       "    </tr>\n",
       "    <tr>\n",
       "      <th>3349</th>\n",
       "      <td>2016-03-29 17:37:58</td>\n",
       "      <td>1990</td>\n",
       "      <td>small</td>\n",
       "      <td>2004</td>\n",
       "      <td>manual</td>\n",
       "      <td>7</td>\n",
       "      <td>polo</td>\n",
       "      <td>150000</td>\n",
       "      <td>5</td>\n",
       "      <td>petrol</td>\n",
       "      <td>volkswagen</td>\n",
       "      <td>True</td>\n",
       "      <td>2016-03-29</td>\n",
       "      <td>0</td>\n",
       "      <td>037124</td>\n",
       "      <td>2016-04-02 05:16:40</td>\n",
       "      <td>1252</td>\n",
       "    </tr>\n",
       "    <tr>\n",
       "      <th>4637</th>\n",
       "      <td>2016-03-21 00:36:23</td>\n",
       "      <td>870</td>\n",
       "      <td>wagon</td>\n",
       "      <td>2000</td>\n",
       "      <td>manual</td>\n",
       "      <td>16</td>\n",
       "      <td>focus</td>\n",
       "      <td>150000</td>\n",
       "      <td>0</td>\n",
       "      <td>petrol</td>\n",
       "      <td>ford</td>\n",
       "      <td>True</td>\n",
       "      <td>2016-03-21</td>\n",
       "      <td>0</td>\n",
       "      <td>066693</td>\n",
       "      <td>2016-03-21 08:40:31</td>\n",
       "      <td>1200</td>\n",
       "    </tr>\n",
       "    <tr>\n",
       "      <th>9561</th>\n",
       "      <td>2016-04-04 07:58:34</td>\n",
       "      <td>9000</td>\n",
       "      <td>sedan</td>\n",
       "      <td>2009</td>\n",
       "      <td>manual</td>\n",
       "      <td>2</td>\n",
       "      <td>a4</td>\n",
       "      <td>5000</td>\n",
       "      <td>12</td>\n",
       "      <td>petrol</td>\n",
       "      <td>audi</td>\n",
       "      <td>True</td>\n",
       "      <td>2016-04-04</td>\n",
       "      <td>0</td>\n",
       "      <td>012045</td>\n",
       "      <td>2016-04-06 10:17:01</td>\n",
       "      <td>1319</td>\n",
       "    </tr>\n",
       "    <tr>\n",
       "      <th>11228</th>\n",
       "      <td>2016-03-10 15:39:12</td>\n",
       "      <td>9900</td>\n",
       "      <td>small</td>\n",
       "      <td>1970</td>\n",
       "      <td>manual</td>\n",
       "      <td>18</td>\n",
       "      <td>500</td>\n",
       "      <td>30000</td>\n",
       "      <td>0</td>\n",
       "      <td>petrol</td>\n",
       "      <td>fiat</td>\n",
       "      <td>True</td>\n",
       "      <td>2016-03-10</td>\n",
       "      <td>0</td>\n",
       "      <td>073278</td>\n",
       "      <td>2016-04-05 11:49:04</td>\n",
       "      <td>840</td>\n",
       "    </tr>\n",
       "  </tbody>\n",
       "</table>\n",
       "</div>"
      ],
      "text/plain": [
       "              DateCrawled  Price VehicleType  RegistrationYear Gearbox  Power  \\\n",
       "1235  2016-03-08 20:43:16   4450       small              1971  manual     23   \n",
       "3349  2016-03-29 17:37:58   1990       small              2004  manual      7   \n",
       "4637  2016-03-21 00:36:23    870       wagon              2000  manual     16   \n",
       "9561  2016-04-04 07:58:34   9000       sedan              2009  manual      2   \n",
       "11228 2016-03-10 15:39:12   9900       small              1970  manual     18   \n",
       "\n",
       "       Model  Kilometer  RegistrationMonth FuelType       Brand  Repaired  \\\n",
       "1235     500      70000                  5   petrol        fiat      True   \n",
       "3349    polo     150000                  5   petrol  volkswagen      True   \n",
       "4637   focus     150000                  0   petrol        ford      True   \n",
       "9561      a4       5000                 12   petrol        audi      True   \n",
       "11228    500      30000                  0   petrol        fiat      True   \n",
       "\n",
       "      DateCreated  NumberOfPictures PostalCode            LastSeen  reg_month  \n",
       "1235   2016-03-08                 0     033729 2016-04-05 18:44:51        856  \n",
       "3349   2016-03-29                 0     037124 2016-04-02 05:16:40       1252  \n",
       "4637   2016-03-21                 0     066693 2016-03-21 08:40:31       1200  \n",
       "9561   2016-04-04                 0     012045 2016-04-06 10:17:01       1319  \n",
       "11228  2016-03-10                 0     073278 2016-04-05 11:49:04        840  "
      ]
     },
     "execution_count": 51,
     "metadata": {},
     "output_type": "execute_result"
    }
   ],
   "source": [
    "data.query('(Power > 0) and (Power < 25) ').head()"
   ]
  },
  {
   "cell_type": "code",
   "execution_count": 52,
   "metadata": {},
   "outputs": [
    {
     "data": {
      "text/plain": [
       "194"
      ]
     },
     "execution_count": 52,
     "metadata": {},
     "output_type": "execute_result"
    }
   ],
   "source": [
    "len(data.query('(Power > 0) and (Power < 20) '))"
   ]
  },
  {
   "cell_type": "markdown",
   "metadata": {},
   "source": [
    "Скорее всего, это тоже сбой"
   ]
  },
  {
   "cell_type": "markdown",
   "metadata": {},
   "source": [
    "#### Заполнение аномальных значений"
   ]
  },
  {
   "cell_type": "markdown",
   "metadata": {},
   "source": [
    "Стоит заполнить битые данные наиболее популярными значениями для этих моделей."
   ]
  },
  {
   "cell_type": "markdown",
   "metadata": {},
   "source": [
    "Для заполнения используем принцип, изложенный в классическом анекдоте:<br />\n",
    "\"Выливаем из чайника воду, и задача сводится к предыдущей\""
   ]
  },
  {
   "cell_type": "code",
   "execution_count": 53,
   "metadata": {},
   "outputs": [],
   "source": [
    "def noner(row):\n",
    "    if (row['Power']  < 25) or (row['Power']  > 650):\n",
    "        row['Power'] = np.nan\n",
    "    return row"
   ]
  },
  {
   "cell_type": "code",
   "execution_count": 54,
   "metadata": {},
   "outputs": [
    {
     "name": "stdout",
     "output_type": "stream",
     "text": [
      "CPU times: user 19.9 s, sys: 172 ms, total: 20 s\n",
      "Wall time: 20 s\n"
     ]
    }
   ],
   "source": [
    "%%time\n",
    "data = data.apply(noner, axis=1)"
   ]
  },
  {
   "cell_type": "code",
   "execution_count": 55,
   "metadata": {},
   "outputs": [
    {
     "name": "stdout",
     "output_type": "stream",
     "text": [
      "CPU times: user 8.08 s, sys: 24 ms, total: 8.1 s\n",
      "Wall time: 8.11 s\n"
     ]
    }
   ],
   "source": [
    "%%time\n",
    "data = friendly_filler(data,'Model','Power','mode')"
   ]
  },
  {
   "cell_type": "markdown",
   "metadata": {},
   "source": [
    "Оставшиеся пустыми записи (для моделей, для которых не было записей с нормальными значениями):"
   ]
  },
  {
   "cell_type": "code",
   "execution_count": 56,
   "metadata": {},
   "outputs": [
    {
     "data": {
      "text/html": [
       "<div>\n",
       "<style scoped>\n",
       "    .dataframe tbody tr th:only-of-type {\n",
       "        vertical-align: middle;\n",
       "    }\n",
       "\n",
       "    .dataframe tbody tr th {\n",
       "        vertical-align: top;\n",
       "    }\n",
       "\n",
       "    .dataframe thead th {\n",
       "        text-align: right;\n",
       "    }\n",
       "</style>\n",
       "<table border=\"1\" class=\"dataframe\">\n",
       "  <thead>\n",
       "    <tr style=\"text-align: right;\">\n",
       "      <th></th>\n",
       "      <th>DateCrawled</th>\n",
       "      <th>Price</th>\n",
       "      <th>VehicleType</th>\n",
       "      <th>RegistrationYear</th>\n",
       "      <th>Gearbox</th>\n",
       "      <th>Power</th>\n",
       "      <th>Model</th>\n",
       "      <th>Kilometer</th>\n",
       "      <th>RegistrationMonth</th>\n",
       "      <th>FuelType</th>\n",
       "      <th>Brand</th>\n",
       "      <th>Repaired</th>\n",
       "      <th>DateCreated</th>\n",
       "      <th>NumberOfPictures</th>\n",
       "      <th>PostalCode</th>\n",
       "      <th>LastSeen</th>\n",
       "      <th>reg_month</th>\n",
       "    </tr>\n",
       "  </thead>\n",
       "  <tbody>\n",
       "    <tr>\n",
       "      <th>234296</th>\n",
       "      <td>2016-03-30 11:39:08</td>\n",
       "      <td>3800</td>\n",
       "      <td>wagon</td>\n",
       "      <td>1978</td>\n",
       "      <td>manual</td>\n",
       "      <td>NaN</td>\n",
       "      <td>serie_1</td>\n",
       "      <td>30000</td>\n",
       "      <td>0</td>\n",
       "      <td>petrol</td>\n",
       "      <td>land_rover</td>\n",
       "      <td>True</td>\n",
       "      <td>2016-03-30</td>\n",
       "      <td>0</td>\n",
       "      <td>049824</td>\n",
       "      <td>2016-03-30 11:39:08</td>\n",
       "      <td>936</td>\n",
       "    </tr>\n",
       "    <tr>\n",
       "      <th>280216</th>\n",
       "      <td>2016-04-02 10:53:15</td>\n",
       "      <td>0</td>\n",
       "      <td>wagon</td>\n",
       "      <td>1970</td>\n",
       "      <td>manual</td>\n",
       "      <td>NaN</td>\n",
       "      <td>serie_1</td>\n",
       "      <td>100000</td>\n",
       "      <td>0</td>\n",
       "      <td>petrol</td>\n",
       "      <td>land_rover</td>\n",
       "      <td>True</td>\n",
       "      <td>2016-04-02</td>\n",
       "      <td>0</td>\n",
       "      <td>088634</td>\n",
       "      <td>2016-04-06 09:16:22</td>\n",
       "      <td>840</td>\n",
       "    </tr>\n",
       "  </tbody>\n",
       "</table>\n",
       "</div>"
      ],
      "text/plain": [
       "               DateCrawled  Price VehicleType  RegistrationYear Gearbox  \\\n",
       "234296 2016-03-30 11:39:08   3800       wagon              1978  manual   \n",
       "280216 2016-04-02 10:53:15      0       wagon              1970  manual   \n",
       "\n",
       "        Power    Model  Kilometer  RegistrationMonth FuelType       Brand  \\\n",
       "234296    NaN  serie_1      30000                  0   petrol  land_rover   \n",
       "280216    NaN  serie_1     100000                  0   petrol  land_rover   \n",
       "\n",
       "        Repaired DateCreated  NumberOfPictures PostalCode            LastSeen  \\\n",
       "234296      True  2016-03-30                 0     049824 2016-03-30 11:39:08   \n",
       "280216      True  2016-04-02                 0     088634 2016-04-06 09:16:22   \n",
       "\n",
       "        reg_month  \n",
       "234296        936  \n",
       "280216        840  "
      ]
     },
     "execution_count": 56,
     "metadata": {},
     "output_type": "execute_result"
    }
   ],
   "source": [
    "data[data['Power'].isna()]"
   ]
  },
  {
   "cell_type": "markdown",
   "metadata": {},
   "source": [
    "Land Rover Series I комплектовался двигателем 52 л.с."
   ]
  },
  {
   "cell_type": "code",
   "execution_count": 57,
   "metadata": {},
   "outputs": [],
   "source": [
    "data = data.fillna(value={'Power':52})"
   ]
  },
  {
   "cell_type": "code",
   "execution_count": 58,
   "metadata": {},
   "outputs": [
    {
     "data": {
      "text/plain": [
       "0"
      ]
     },
     "execution_count": 58,
     "metadata": {},
     "output_type": "execute_result"
    }
   ],
   "source": [
    "data['Power'].isna().sum()"
   ]
  },
  {
   "cell_type": "markdown",
   "metadata": {},
   "source": [
    "### Разделение признаков"
   ]
  },
  {
   "cell_type": "markdown",
   "metadata": {},
   "source": [
    "Посмотрим на столбцы в датафрейме:"
   ]
  },
  {
   "cell_type": "code",
   "execution_count": 59,
   "metadata": {},
   "outputs": [
    {
     "data": {
      "text/plain": [
       "Index(['DateCrawled', 'Price', 'VehicleType', 'RegistrationYear', 'Gearbox',\n",
       "       'Power', 'Model', 'Kilometer', 'RegistrationMonth', 'FuelType', 'Brand',\n",
       "       'Repaired', 'DateCreated', 'NumberOfPictures', 'PostalCode', 'LastSeen',\n",
       "       'reg_month'],\n",
       "      dtype='object')"
      ]
     },
     "execution_count": 59,
     "metadata": {},
     "output_type": "execute_result"
    }
   ],
   "source": [
    "data.columns"
   ]
  },
  {
   "cell_type": "markdown",
   "metadata": {},
   "source": [
    "Целевой признак - **Price** (цена)"
   ]
  },
  {
   "cell_type": "markdown",
   "metadata": {},
   "source": [
    "Так же из признаков исключаем:\n",
    "- RegistrationYear и RegistrationMonth: их заменит RegistrationDate;\n",
    "- NumberOfPictures: все значения - нулевые;\n",
    "- DateCrawled и DateCreated: вряд ли даты создания объявления и скачивания анкеты из базы влияет на результат;\n",
    "- LastSeen: дата последней активности пользователя - по той же причине;\n",
    "- PostalCode: индексы относятся к слишком мелкой разбивке территории, чтобы по можно было делать выводы.<br /> \n",
    "Если бы это были российские индексы, то можно было бы выделить территории по фасете. <br />\n",
    "Но в России нет индексов, начинающихся с 0, да и цены в евро как бы намекают...."
   ]
  },
  {
   "cell_type": "code",
   "execution_count": 60,
   "metadata": {},
   "outputs": [],
   "source": [
    "target = data['Price'] \n",
    "features = data.drop(['Price', 'DateCrawled','DateCreated','RegistrationYear', 'RegistrationMonth',\n",
    "                     'PostalCode','LastSeen','NumberOfPictures'], axis=1)"
   ]
  },
  {
   "cell_type": "markdown",
   "metadata": {},
   "source": [
    "Разбиваем выборки на тренировочную и тестовую в пропорции 75:25. <br />\n",
    "Валидационную не выделяем, так как будем использовать кросс-валидацию"
   ]
  },
  {
   "cell_type": "code",
   "execution_count": 61,
   "metadata": {},
   "outputs": [],
   "source": [
    "features_train, features_test, target_train, target_test = train_test_split(\n",
    "    features, target, test_size=0.25, random_state=1176)"
   ]
  },
  {
   "cell_type": "code",
   "execution_count": 62,
   "metadata": {},
   "outputs": [
    {
     "name": "stdout",
     "output_type": "stream",
     "text": [
      "Размерность выборок\n",
      "Обучающая выборка:\n",
      "Признаки: (241608, 9)\n",
      "Целевой признак: (241608,)\n",
      "\n",
      "Тестовая выборка:\n",
      "Признаки: (80536, 9)\n",
      "Целевой признак: (80536,)\n"
     ]
    }
   ],
   "source": [
    "print('Размерность выборок')\n",
    "print('Обучающая выборка:')\n",
    "print('Признаки:',features_train.shape)\n",
    "print('Целевой признак:',target_train.shape)\n",
    "print()\n",
    "print('Тестовая выборка:')\n",
    "print('Признаки:',features_test.shape)\n",
    "print('Целевой признак:',target_test.shape)"
   ]
  },
  {
   "cell_type": "markdown",
   "metadata": {},
   "source": [
    "Сбросим индексы у выборок (для упрощения кодирования признаков):"
   ]
  },
  {
   "cell_type": "code",
   "execution_count": 63,
   "metadata": {},
   "outputs": [],
   "source": [
    "features_train = features_train.reset_index(drop=True)\n",
    "features_test = features_test.reset_index(drop=True)\n",
    "target_train = target_train.reset_index(drop=True) \n",
    "target_test = target_test.reset_index(drop=True)"
   ]
  },
  {
   "cell_type": "markdown",
   "metadata": {},
   "source": [
    "Выделим 3 группы признаков:\n",
    "- Количественные\n",
    "- Категориальные, кодируемые OrdinalEncoder (содержащие большое количество разнообразных данных - чтобы не нагружать модель)\n",
    "- Категориальные, кодируемые OneHotEncoder (содержащие небольшое количество разнообразных данных)\n"
   ]
  },
  {
   "cell_type": "code",
   "execution_count": 64,
   "metadata": {},
   "outputs": [],
   "source": [
    "numeric = ['Power', 'Kilometer', 'reg_month']"
   ]
  },
  {
   "cell_type": "code",
   "execution_count": 65,
   "metadata": {},
   "outputs": [],
   "source": [
    "oe_columns = ['Model','Brand']"
   ]
  },
  {
   "cell_type": "code",
   "execution_count": 66,
   "metadata": {},
   "outputs": [],
   "source": [
    "ohe_columns = ['VehicleType','Gearbox','FuelType']"
   ]
  },
  {
   "cell_type": "markdown",
   "metadata": {},
   "source": [
    "### Масштабирование количественных признаков:"
   ]
  },
  {
   "cell_type": "code",
   "execution_count": 67,
   "metadata": {},
   "outputs": [],
   "source": [
    "scaler = StandardScaler()\n",
    "scaler.fit(features_train[numeric]) \n",
    "features_train[numeric] = scaler.transform(features_train[numeric])\n",
    "features_test[numeric] = scaler.transform(features_test[numeric])"
   ]
  },
  {
   "cell_type": "code",
   "execution_count": 68,
   "metadata": {},
   "outputs": [
    {
     "data": {
      "text/html": [
       "<div>\n",
       "<style scoped>\n",
       "    .dataframe tbody tr th:only-of-type {\n",
       "        vertical-align: middle;\n",
       "    }\n",
       "\n",
       "    .dataframe tbody tr th {\n",
       "        vertical-align: top;\n",
       "    }\n",
       "\n",
       "    .dataframe thead th {\n",
       "        text-align: right;\n",
       "    }\n",
       "</style>\n",
       "<table border=\"1\" class=\"dataframe\">\n",
       "  <thead>\n",
       "    <tr style=\"text-align: right;\">\n",
       "      <th></th>\n",
       "      <th>VehicleType</th>\n",
       "      <th>Gearbox</th>\n",
       "      <th>Power</th>\n",
       "      <th>Model</th>\n",
       "      <th>Kilometer</th>\n",
       "      <th>FuelType</th>\n",
       "      <th>Brand</th>\n",
       "      <th>Repaired</th>\n",
       "      <th>reg_month</th>\n",
       "    </tr>\n",
       "  </thead>\n",
       "  <tbody>\n",
       "    <tr>\n",
       "      <th>0</th>\n",
       "      <td>sedan</td>\n",
       "      <td>auto</td>\n",
       "      <td>3.53</td>\n",
       "      <td>3er</td>\n",
       "      <td>-1.03</td>\n",
       "      <td>petrol</td>\n",
       "      <td>bmw</td>\n",
       "      <td>True</td>\n",
       "      <td>0.79</td>\n",
       "    </tr>\n",
       "    <tr>\n",
       "      <th>1</th>\n",
       "      <td>wagon</td>\n",
       "      <td>manual</td>\n",
       "      <td>1.40</td>\n",
       "      <td>a6</td>\n",
       "      <td>0.58</td>\n",
       "      <td>petrol</td>\n",
       "      <td>audi</td>\n",
       "      <td>True</td>\n",
       "      <td>-0.54</td>\n",
       "    </tr>\n",
       "    <tr>\n",
       "      <th>2</th>\n",
       "      <td>wagon</td>\n",
       "      <td>manual</td>\n",
       "      <td>-0.07</td>\n",
       "      <td>mondeo</td>\n",
       "      <td>0.58</td>\n",
       "      <td>petrol</td>\n",
       "      <td>ford</td>\n",
       "      <td>True</td>\n",
       "      <td>0.55</td>\n",
       "    </tr>\n",
       "    <tr>\n",
       "      <th>3</th>\n",
       "      <td>sedan</td>\n",
       "      <td>manual</td>\n",
       "      <td>-0.31</td>\n",
       "      <td>a4</td>\n",
       "      <td>0.58</td>\n",
       "      <td>petrol</td>\n",
       "      <td>audi</td>\n",
       "      <td>True</td>\n",
       "      <td>0.20</td>\n",
       "    </tr>\n",
       "    <tr>\n",
       "      <th>4</th>\n",
       "      <td>convertible</td>\n",
       "      <td>manual</td>\n",
       "      <td>-0.01</td>\n",
       "      <td>z_reihe</td>\n",
       "      <td>0.58</td>\n",
       "      <td>petrol</td>\n",
       "      <td>bmw</td>\n",
       "      <td>True</td>\n",
       "      <td>-0.37</td>\n",
       "    </tr>\n",
       "  </tbody>\n",
       "</table>\n",
       "</div>"
      ],
      "text/plain": [
       "   VehicleType Gearbox  Power    Model  Kilometer FuelType Brand  Repaired  \\\n",
       "0        sedan    auto   3.53      3er      -1.03   petrol   bmw      True   \n",
       "1        wagon  manual   1.40       a6       0.58   petrol  audi      True   \n",
       "2        wagon  manual  -0.07   mondeo       0.58   petrol  ford      True   \n",
       "3        sedan  manual  -0.31       a4       0.58   petrol  audi      True   \n",
       "4  convertible  manual  -0.01  z_reihe       0.58   petrol   bmw      True   \n",
       "\n",
       "   reg_month  \n",
       "0       0.79  \n",
       "1      -0.54  \n",
       "2       0.55  \n",
       "3       0.20  \n",
       "4      -0.37  "
      ]
     },
     "execution_count": 68,
     "metadata": {},
     "output_type": "execute_result"
    }
   ],
   "source": [
    "features_train.head()"
   ]
  },
  {
   "cell_type": "markdown",
   "metadata": {},
   "source": [
    "### Кодирование признаков"
   ]
  },
  {
   "cell_type": "markdown",
   "metadata": {},
   "source": [
    "#### Кодирование OrdinalEncoder"
   ]
  },
  {
   "cell_type": "code",
   "execution_count": 69,
   "metadata": {},
   "outputs": [
    {
     "data": {
      "text/plain": [
       "OrdinalEncoder()"
      ]
     },
     "execution_count": 69,
     "metadata": {},
     "output_type": "execute_result"
    }
   ],
   "source": [
    "encoder_oe = OrdinalEncoder()\n",
    "encoder_oe.fit(features_train[oe_columns])"
   ]
  },
  {
   "cell_type": "code",
   "execution_count": 70,
   "metadata": {},
   "outputs": [],
   "source": [
    "oe_cols = pd.DataFrame(data=encoder_oe.transform(features_train[oe_columns]),columns=oe_columns)\n",
    "features_train = features_train.drop(oe_columns, axis=1)\n",
    "features_train[oe_columns] = oe_cols\n",
    "\n",
    "oe_cols = pd.DataFrame(data=encoder_oe.transform(features_test[oe_columns]),columns=oe_columns)\n",
    "features_test = features_test.drop(oe_columns, axis=1)\n",
    "features_test[oe_columns] = oe_cols"
   ]
  },
  {
   "cell_type": "code",
   "execution_count": 71,
   "metadata": {
    "scrolled": false
   },
   "outputs": [
    {
     "data": {
      "text/html": [
       "<div>\n",
       "<style scoped>\n",
       "    .dataframe tbody tr th:only-of-type {\n",
       "        vertical-align: middle;\n",
       "    }\n",
       "\n",
       "    .dataframe tbody tr th {\n",
       "        vertical-align: top;\n",
       "    }\n",
       "\n",
       "    .dataframe thead th {\n",
       "        text-align: right;\n",
       "    }\n",
       "</style>\n",
       "<table border=\"1\" class=\"dataframe\">\n",
       "  <thead>\n",
       "    <tr style=\"text-align: right;\">\n",
       "      <th></th>\n",
       "      <th>VehicleType</th>\n",
       "      <th>Gearbox</th>\n",
       "      <th>Power</th>\n",
       "      <th>Kilometer</th>\n",
       "      <th>FuelType</th>\n",
       "      <th>Repaired</th>\n",
       "      <th>reg_month</th>\n",
       "      <th>Model</th>\n",
       "      <th>Brand</th>\n",
       "    </tr>\n",
       "  </thead>\n",
       "  <tbody>\n",
       "    <tr>\n",
       "      <th>0</th>\n",
       "      <td>sedan</td>\n",
       "      <td>auto</td>\n",
       "      <td>3.53</td>\n",
       "      <td>-1.03</td>\n",
       "      <td>petrol</td>\n",
       "      <td>True</td>\n",
       "      <td>0.79</td>\n",
       "      <td>11.00</td>\n",
       "      <td>2.00</td>\n",
       "    </tr>\n",
       "    <tr>\n",
       "      <th>1</th>\n",
       "      <td>wagon</td>\n",
       "      <td>manual</td>\n",
       "      <td>1.40</td>\n",
       "      <td>0.58</td>\n",
       "      <td>petrol</td>\n",
       "      <td>True</td>\n",
       "      <td>-0.54</td>\n",
       "      <td>31.00</td>\n",
       "      <td>1.00</td>\n",
       "    </tr>\n",
       "    <tr>\n",
       "      <th>2</th>\n",
       "      <td>wagon</td>\n",
       "      <td>manual</td>\n",
       "      <td>-0.07</td>\n",
       "      <td>0.58</td>\n",
       "      <td>petrol</td>\n",
       "      <td>True</td>\n",
       "      <td>0.55</td>\n",
       "      <td>154.00</td>\n",
       "      <td>10.00</td>\n",
       "    </tr>\n",
       "    <tr>\n",
       "      <th>3</th>\n",
       "      <td>sedan</td>\n",
       "      <td>manual</td>\n",
       "      <td>-0.31</td>\n",
       "      <td>0.58</td>\n",
       "      <td>petrol</td>\n",
       "      <td>True</td>\n",
       "      <td>0.20</td>\n",
       "      <td>29.00</td>\n",
       "      <td>1.00</td>\n",
       "    </tr>\n",
       "    <tr>\n",
       "      <th>4</th>\n",
       "      <td>convertible</td>\n",
       "      <td>manual</td>\n",
       "      <td>-0.01</td>\n",
       "      <td>0.58</td>\n",
       "      <td>petrol</td>\n",
       "      <td>True</td>\n",
       "      <td>-0.37</td>\n",
       "      <td>248.00</td>\n",
       "      <td>2.00</td>\n",
       "    </tr>\n",
       "  </tbody>\n",
       "</table>\n",
       "</div>"
      ],
      "text/plain": [
       "   VehicleType Gearbox  Power  Kilometer FuelType  Repaired  reg_month  Model  \\\n",
       "0        sedan    auto   3.53      -1.03   petrol      True       0.79  11.00   \n",
       "1        wagon  manual   1.40       0.58   petrol      True      -0.54  31.00   \n",
       "2        wagon  manual  -0.07       0.58   petrol      True       0.55 154.00   \n",
       "3        sedan  manual  -0.31       0.58   petrol      True       0.20  29.00   \n",
       "4  convertible  manual  -0.01       0.58   petrol      True      -0.37 248.00   \n",
       "\n",
       "   Brand  \n",
       "0   2.00  \n",
       "1   1.00  \n",
       "2  10.00  \n",
       "3   1.00  \n",
       "4   2.00  "
      ]
     },
     "execution_count": 71,
     "metadata": {},
     "output_type": "execute_result"
    }
   ],
   "source": [
    "features_train.head()"
   ]
  },
  {
   "cell_type": "code",
   "execution_count": 72,
   "metadata": {},
   "outputs": [
    {
     "data": {
      "text/html": [
       "<div>\n",
       "<style scoped>\n",
       "    .dataframe tbody tr th:only-of-type {\n",
       "        vertical-align: middle;\n",
       "    }\n",
       "\n",
       "    .dataframe tbody tr th {\n",
       "        vertical-align: top;\n",
       "    }\n",
       "\n",
       "    .dataframe thead th {\n",
       "        text-align: right;\n",
       "    }\n",
       "</style>\n",
       "<table border=\"1\" class=\"dataframe\">\n",
       "  <thead>\n",
       "    <tr style=\"text-align: right;\">\n",
       "      <th></th>\n",
       "      <th>VehicleType</th>\n",
       "      <th>Gearbox</th>\n",
       "      <th>Power</th>\n",
       "      <th>Kilometer</th>\n",
       "      <th>FuelType</th>\n",
       "      <th>Repaired</th>\n",
       "      <th>reg_month</th>\n",
       "      <th>Model</th>\n",
       "      <th>Brand</th>\n",
       "    </tr>\n",
       "  </thead>\n",
       "  <tbody>\n",
       "    <tr>\n",
       "      <th>0</th>\n",
       "      <td>wagon</td>\n",
       "      <td>auto</td>\n",
       "      <td>2.89</td>\n",
       "      <td>0.58</td>\n",
       "      <td>petrol</td>\n",
       "      <td>True</td>\n",
       "      <td>0.45</td>\n",
       "      <td>15.00</td>\n",
       "      <td>2.00</td>\n",
       "    </tr>\n",
       "    <tr>\n",
       "      <th>1</th>\n",
       "      <td>bus</td>\n",
       "      <td>manual</td>\n",
       "      <td>0.59</td>\n",
       "      <td>0.58</td>\n",
       "      <td>petrol</td>\n",
       "      <td>True</td>\n",
       "      <td>0.42</td>\n",
       "      <td>249.00</td>\n",
       "      <td>24.00</td>\n",
       "    </tr>\n",
       "    <tr>\n",
       "      <th>2</th>\n",
       "      <td>wagon</td>\n",
       "      <td>manual</td>\n",
       "      <td>0.59</td>\n",
       "      <td>0.58</td>\n",
       "      <td>petrol</td>\n",
       "      <td>True</td>\n",
       "      <td>0.24</td>\n",
       "      <td>170.00</td>\n",
       "      <td>37.00</td>\n",
       "    </tr>\n",
       "    <tr>\n",
       "      <th>3</th>\n",
       "      <td>other</td>\n",
       "      <td>manual</td>\n",
       "      <td>0.12</td>\n",
       "      <td>-0.76</td>\n",
       "      <td>petrol</td>\n",
       "      <td>True</td>\n",
       "      <td>-2.24</td>\n",
       "      <td>166.00</td>\n",
       "      <td>27.00</td>\n",
       "    </tr>\n",
       "    <tr>\n",
       "      <th>4</th>\n",
       "      <td>sedan</td>\n",
       "      <td>manual</td>\n",
       "      <td>-0.31</td>\n",
       "      <td>-1.03</td>\n",
       "      <td>petrol</td>\n",
       "      <td>True</td>\n",
       "      <td>-0.44</td>\n",
       "      <td>33.00</td>\n",
       "      <td>20.00</td>\n",
       "    </tr>\n",
       "  </tbody>\n",
       "</table>\n",
       "</div>"
      ],
      "text/plain": [
       "  VehicleType Gearbox  Power  Kilometer FuelType  Repaired  reg_month  Model  \\\n",
       "0       wagon    auto   2.89       0.58   petrol      True       0.45  15.00   \n",
       "1         bus  manual   0.59       0.58   petrol      True       0.42 249.00   \n",
       "2       wagon  manual   0.59       0.58   petrol      True       0.24 170.00   \n",
       "3       other  manual   0.12      -0.76   petrol      True      -2.24 166.00   \n",
       "4       sedan  manual  -0.31      -1.03   petrol      True      -0.44  33.00   \n",
       "\n",
       "   Brand  \n",
       "0   2.00  \n",
       "1  24.00  \n",
       "2  37.00  \n",
       "3  27.00  \n",
       "4  20.00  "
      ]
     },
     "execution_count": 72,
     "metadata": {},
     "output_type": "execute_result"
    }
   ],
   "source": [
    "features_test.head()"
   ]
  },
  {
   "cell_type": "code",
   "execution_count": 73,
   "metadata": {
    "scrolled": false
   },
   "outputs": [
    {
     "data": {
      "text/plain": [
       "VehicleType    0\n",
       "Gearbox        0\n",
       "Power          0\n",
       "Kilometer      0\n",
       "FuelType       0\n",
       "Repaired       0\n",
       "reg_month      0\n",
       "Model          0\n",
       "Brand          0\n",
       "dtype: int64"
      ]
     },
     "execution_count": 73,
     "metadata": {},
     "output_type": "execute_result"
    }
   ],
   "source": [
    "features_train.isna().sum()"
   ]
  },
  {
   "cell_type": "markdown",
   "metadata": {},
   "source": [
    "#### Кодирование OHE"
   ]
  },
  {
   "cell_type": "code",
   "execution_count": 74,
   "metadata": {},
   "outputs": [
    {
     "data": {
      "text/plain": [
       "OneHotEncoder(drop='first', sparse=False)"
      ]
     },
     "execution_count": 74,
     "metadata": {},
     "output_type": "execute_result"
    }
   ],
   "source": [
    "encoder_ohe = OneHotEncoder(drop='first', handle_unknown='error', sparse=False)\n",
    "encoder_ohe.fit(features_train[ohe_columns])"
   ]
  },
  {
   "cell_type": "code",
   "execution_count": 75,
   "metadata": {},
   "outputs": [],
   "source": [
    "try:\n",
    "    new_columns = encoder_ohe.get_feature_names_out()\n",
    "    new_columns\n",
    "except:\n",
    "    new_columns = encoder_ohe.get_feature_names()\n",
    "    new_columns\n",
    "    "
   ]
  },
  {
   "cell_type": "code",
   "execution_count": 76,
   "metadata": {},
   "outputs": [],
   "source": [
    "features_train[new_columns] = encoder_ohe.transform(features_train[ohe_columns])\n",
    "features_train = features_train.drop(ohe_columns, axis=1)"
   ]
  },
  {
   "cell_type": "code",
   "execution_count": 77,
   "metadata": {},
   "outputs": [],
   "source": [
    "features_test[new_columns] = encoder_ohe.transform(features_test[ohe_columns])\n",
    "features_test = features_test.drop(ohe_columns, axis=1)"
   ]
  },
  {
   "cell_type": "code",
   "execution_count": 78,
   "metadata": {
    "scrolled": false
   },
   "outputs": [
    {
     "data": {
      "text/html": [
       "<div>\n",
       "<style scoped>\n",
       "    .dataframe tbody tr th:only-of-type {\n",
       "        vertical-align: middle;\n",
       "    }\n",
       "\n",
       "    .dataframe tbody tr th {\n",
       "        vertical-align: top;\n",
       "    }\n",
       "\n",
       "    .dataframe thead th {\n",
       "        text-align: right;\n",
       "    }\n",
       "</style>\n",
       "<table border=\"1\" class=\"dataframe\">\n",
       "  <thead>\n",
       "    <tr style=\"text-align: right;\">\n",
       "      <th></th>\n",
       "      <th>Power</th>\n",
       "      <th>Kilometer</th>\n",
       "      <th>Repaired</th>\n",
       "      <th>reg_month</th>\n",
       "      <th>Model</th>\n",
       "      <th>Brand</th>\n",
       "      <th>x0_convertible</th>\n",
       "      <th>x0_coupe</th>\n",
       "      <th>x0_other</th>\n",
       "      <th>x0_sedan</th>\n",
       "      <th>x0_small</th>\n",
       "      <th>x0_suv</th>\n",
       "      <th>x0_wagon</th>\n",
       "      <th>x1_manual</th>\n",
       "      <th>x2_electric</th>\n",
       "      <th>x2_hybrid</th>\n",
       "      <th>x2_lpg</th>\n",
       "      <th>x2_other</th>\n",
       "      <th>x2_petrol</th>\n",
       "    </tr>\n",
       "  </thead>\n",
       "  <tbody>\n",
       "    <tr>\n",
       "      <th>0</th>\n",
       "      <td>3.53</td>\n",
       "      <td>-1.03</td>\n",
       "      <td>True</td>\n",
       "      <td>0.79</td>\n",
       "      <td>11.00</td>\n",
       "      <td>2.00</td>\n",
       "      <td>0.00</td>\n",
       "      <td>0.00</td>\n",
       "      <td>0.00</td>\n",
       "      <td>1.00</td>\n",
       "      <td>0.00</td>\n",
       "      <td>0.00</td>\n",
       "      <td>0.00</td>\n",
       "      <td>0.00</td>\n",
       "      <td>0.00</td>\n",
       "      <td>0.00</td>\n",
       "      <td>0.00</td>\n",
       "      <td>0.00</td>\n",
       "      <td>1.00</td>\n",
       "    </tr>\n",
       "    <tr>\n",
       "      <th>1</th>\n",
       "      <td>1.40</td>\n",
       "      <td>0.58</td>\n",
       "      <td>True</td>\n",
       "      <td>-0.54</td>\n",
       "      <td>31.00</td>\n",
       "      <td>1.00</td>\n",
       "      <td>0.00</td>\n",
       "      <td>0.00</td>\n",
       "      <td>0.00</td>\n",
       "      <td>0.00</td>\n",
       "      <td>0.00</td>\n",
       "      <td>0.00</td>\n",
       "      <td>1.00</td>\n",
       "      <td>1.00</td>\n",
       "      <td>0.00</td>\n",
       "      <td>0.00</td>\n",
       "      <td>0.00</td>\n",
       "      <td>0.00</td>\n",
       "      <td>1.00</td>\n",
       "    </tr>\n",
       "    <tr>\n",
       "      <th>2</th>\n",
       "      <td>-0.07</td>\n",
       "      <td>0.58</td>\n",
       "      <td>True</td>\n",
       "      <td>0.55</td>\n",
       "      <td>154.00</td>\n",
       "      <td>10.00</td>\n",
       "      <td>0.00</td>\n",
       "      <td>0.00</td>\n",
       "      <td>0.00</td>\n",
       "      <td>0.00</td>\n",
       "      <td>0.00</td>\n",
       "      <td>0.00</td>\n",
       "      <td>1.00</td>\n",
       "      <td>1.00</td>\n",
       "      <td>0.00</td>\n",
       "      <td>0.00</td>\n",
       "      <td>0.00</td>\n",
       "      <td>0.00</td>\n",
       "      <td>1.00</td>\n",
       "    </tr>\n",
       "    <tr>\n",
       "      <th>3</th>\n",
       "      <td>-0.31</td>\n",
       "      <td>0.58</td>\n",
       "      <td>True</td>\n",
       "      <td>0.20</td>\n",
       "      <td>29.00</td>\n",
       "      <td>1.00</td>\n",
       "      <td>0.00</td>\n",
       "      <td>0.00</td>\n",
       "      <td>0.00</td>\n",
       "      <td>1.00</td>\n",
       "      <td>0.00</td>\n",
       "      <td>0.00</td>\n",
       "      <td>0.00</td>\n",
       "      <td>1.00</td>\n",
       "      <td>0.00</td>\n",
       "      <td>0.00</td>\n",
       "      <td>0.00</td>\n",
       "      <td>0.00</td>\n",
       "      <td>1.00</td>\n",
       "    </tr>\n",
       "    <tr>\n",
       "      <th>4</th>\n",
       "      <td>-0.01</td>\n",
       "      <td>0.58</td>\n",
       "      <td>True</td>\n",
       "      <td>-0.37</td>\n",
       "      <td>248.00</td>\n",
       "      <td>2.00</td>\n",
       "      <td>1.00</td>\n",
       "      <td>0.00</td>\n",
       "      <td>0.00</td>\n",
       "      <td>0.00</td>\n",
       "      <td>0.00</td>\n",
       "      <td>0.00</td>\n",
       "      <td>0.00</td>\n",
       "      <td>1.00</td>\n",
       "      <td>0.00</td>\n",
       "      <td>0.00</td>\n",
       "      <td>0.00</td>\n",
       "      <td>0.00</td>\n",
       "      <td>1.00</td>\n",
       "    </tr>\n",
       "  </tbody>\n",
       "</table>\n",
       "</div>"
      ],
      "text/plain": [
       "   Power  Kilometer  Repaired  reg_month  Model  Brand  x0_convertible  \\\n",
       "0   3.53      -1.03      True       0.79  11.00   2.00            0.00   \n",
       "1   1.40       0.58      True      -0.54  31.00   1.00            0.00   \n",
       "2  -0.07       0.58      True       0.55 154.00  10.00            0.00   \n",
       "3  -0.31       0.58      True       0.20  29.00   1.00            0.00   \n",
       "4  -0.01       0.58      True      -0.37 248.00   2.00            1.00   \n",
       "\n",
       "   x0_coupe  x0_other  x0_sedan  x0_small  x0_suv  x0_wagon  x1_manual  \\\n",
       "0      0.00      0.00      1.00      0.00    0.00      0.00       0.00   \n",
       "1      0.00      0.00      0.00      0.00    0.00      1.00       1.00   \n",
       "2      0.00      0.00      0.00      0.00    0.00      1.00       1.00   \n",
       "3      0.00      0.00      1.00      0.00    0.00      0.00       1.00   \n",
       "4      0.00      0.00      0.00      0.00    0.00      0.00       1.00   \n",
       "\n",
       "   x2_electric  x2_hybrid  x2_lpg  x2_other  x2_petrol  \n",
       "0         0.00       0.00    0.00      0.00       1.00  \n",
       "1         0.00       0.00    0.00      0.00       1.00  \n",
       "2         0.00       0.00    0.00      0.00       1.00  \n",
       "3         0.00       0.00    0.00      0.00       1.00  \n",
       "4         0.00       0.00    0.00      0.00       1.00  "
      ]
     },
     "execution_count": 78,
     "metadata": {},
     "output_type": "execute_result"
    }
   ],
   "source": [
    "features_train.head()"
   ]
  },
  {
   "cell_type": "code",
   "execution_count": 79,
   "metadata": {
    "scrolled": false
   },
   "outputs": [
    {
     "data": {
      "text/html": [
       "<div>\n",
       "<style scoped>\n",
       "    .dataframe tbody tr th:only-of-type {\n",
       "        vertical-align: middle;\n",
       "    }\n",
       "\n",
       "    .dataframe tbody tr th {\n",
       "        vertical-align: top;\n",
       "    }\n",
       "\n",
       "    .dataframe thead th {\n",
       "        text-align: right;\n",
       "    }\n",
       "</style>\n",
       "<table border=\"1\" class=\"dataframe\">\n",
       "  <thead>\n",
       "    <tr style=\"text-align: right;\">\n",
       "      <th></th>\n",
       "      <th>Power</th>\n",
       "      <th>Kilometer</th>\n",
       "      <th>Repaired</th>\n",
       "      <th>reg_month</th>\n",
       "      <th>Model</th>\n",
       "      <th>Brand</th>\n",
       "      <th>x0_convertible</th>\n",
       "      <th>x0_coupe</th>\n",
       "      <th>x0_other</th>\n",
       "      <th>x0_sedan</th>\n",
       "      <th>x0_small</th>\n",
       "      <th>x0_suv</th>\n",
       "      <th>x0_wagon</th>\n",
       "      <th>x1_manual</th>\n",
       "      <th>x2_electric</th>\n",
       "      <th>x2_hybrid</th>\n",
       "      <th>x2_lpg</th>\n",
       "      <th>x2_other</th>\n",
       "      <th>x2_petrol</th>\n",
       "    </tr>\n",
       "  </thead>\n",
       "  <tbody>\n",
       "    <tr>\n",
       "      <th>0</th>\n",
       "      <td>2.89</td>\n",
       "      <td>0.58</td>\n",
       "      <td>True</td>\n",
       "      <td>0.45</td>\n",
       "      <td>15.00</td>\n",
       "      <td>2.00</td>\n",
       "      <td>0.00</td>\n",
       "      <td>0.00</td>\n",
       "      <td>0.00</td>\n",
       "      <td>0.00</td>\n",
       "      <td>0.00</td>\n",
       "      <td>0.00</td>\n",
       "      <td>1.00</td>\n",
       "      <td>0.00</td>\n",
       "      <td>0.00</td>\n",
       "      <td>0.00</td>\n",
       "      <td>0.00</td>\n",
       "      <td>0.00</td>\n",
       "      <td>1.00</td>\n",
       "    </tr>\n",
       "    <tr>\n",
       "      <th>1</th>\n",
       "      <td>0.59</td>\n",
       "      <td>0.58</td>\n",
       "      <td>True</td>\n",
       "      <td>0.42</td>\n",
       "      <td>249.00</td>\n",
       "      <td>24.00</td>\n",
       "      <td>0.00</td>\n",
       "      <td>0.00</td>\n",
       "      <td>0.00</td>\n",
       "      <td>0.00</td>\n",
       "      <td>0.00</td>\n",
       "      <td>0.00</td>\n",
       "      <td>0.00</td>\n",
       "      <td>1.00</td>\n",
       "      <td>0.00</td>\n",
       "      <td>0.00</td>\n",
       "      <td>0.00</td>\n",
       "      <td>0.00</td>\n",
       "      <td>1.00</td>\n",
       "    </tr>\n",
       "    <tr>\n",
       "      <th>2</th>\n",
       "      <td>0.59</td>\n",
       "      <td>0.58</td>\n",
       "      <td>True</td>\n",
       "      <td>0.24</td>\n",
       "      <td>170.00</td>\n",
       "      <td>37.00</td>\n",
       "      <td>0.00</td>\n",
       "      <td>0.00</td>\n",
       "      <td>0.00</td>\n",
       "      <td>0.00</td>\n",
       "      <td>0.00</td>\n",
       "      <td>0.00</td>\n",
       "      <td>1.00</td>\n",
       "      <td>1.00</td>\n",
       "      <td>0.00</td>\n",
       "      <td>0.00</td>\n",
       "      <td>0.00</td>\n",
       "      <td>0.00</td>\n",
       "      <td>1.00</td>\n",
       "    </tr>\n",
       "    <tr>\n",
       "      <th>3</th>\n",
       "      <td>0.12</td>\n",
       "      <td>-0.76</td>\n",
       "      <td>True</td>\n",
       "      <td>-2.24</td>\n",
       "      <td>166.00</td>\n",
       "      <td>27.00</td>\n",
       "      <td>0.00</td>\n",
       "      <td>0.00</td>\n",
       "      <td>1.00</td>\n",
       "      <td>0.00</td>\n",
       "      <td>0.00</td>\n",
       "      <td>0.00</td>\n",
       "      <td>0.00</td>\n",
       "      <td>1.00</td>\n",
       "      <td>0.00</td>\n",
       "      <td>0.00</td>\n",
       "      <td>0.00</td>\n",
       "      <td>0.00</td>\n",
       "      <td>1.00</td>\n",
       "    </tr>\n",
       "    <tr>\n",
       "      <th>4</th>\n",
       "      <td>-0.31</td>\n",
       "      <td>-1.03</td>\n",
       "      <td>True</td>\n",
       "      <td>-0.44</td>\n",
       "      <td>33.00</td>\n",
       "      <td>20.00</td>\n",
       "      <td>0.00</td>\n",
       "      <td>0.00</td>\n",
       "      <td>0.00</td>\n",
       "      <td>1.00</td>\n",
       "      <td>0.00</td>\n",
       "      <td>0.00</td>\n",
       "      <td>0.00</td>\n",
       "      <td>1.00</td>\n",
       "      <td>0.00</td>\n",
       "      <td>0.00</td>\n",
       "      <td>0.00</td>\n",
       "      <td>0.00</td>\n",
       "      <td>1.00</td>\n",
       "    </tr>\n",
       "  </tbody>\n",
       "</table>\n",
       "</div>"
      ],
      "text/plain": [
       "   Power  Kilometer  Repaired  reg_month  Model  Brand  x0_convertible  \\\n",
       "0   2.89       0.58      True       0.45  15.00   2.00            0.00   \n",
       "1   0.59       0.58      True       0.42 249.00  24.00            0.00   \n",
       "2   0.59       0.58      True       0.24 170.00  37.00            0.00   \n",
       "3   0.12      -0.76      True      -2.24 166.00  27.00            0.00   \n",
       "4  -0.31      -1.03      True      -0.44  33.00  20.00            0.00   \n",
       "\n",
       "   x0_coupe  x0_other  x0_sedan  x0_small  x0_suv  x0_wagon  x1_manual  \\\n",
       "0      0.00      0.00      0.00      0.00    0.00      1.00       0.00   \n",
       "1      0.00      0.00      0.00      0.00    0.00      0.00       1.00   \n",
       "2      0.00      0.00      0.00      0.00    0.00      1.00       1.00   \n",
       "3      0.00      1.00      0.00      0.00    0.00      0.00       1.00   \n",
       "4      0.00      0.00      1.00      0.00    0.00      0.00       1.00   \n",
       "\n",
       "   x2_electric  x2_hybrid  x2_lpg  x2_other  x2_petrol  \n",
       "0         0.00       0.00    0.00      0.00       1.00  \n",
       "1         0.00       0.00    0.00      0.00       1.00  \n",
       "2         0.00       0.00    0.00      0.00       1.00  \n",
       "3         0.00       0.00    0.00      0.00       1.00  \n",
       "4         0.00       0.00    0.00      0.00       1.00  "
      ]
     },
     "execution_count": 79,
     "metadata": {},
     "output_type": "execute_result"
    }
   ],
   "source": [
    "features_test.head()"
   ]
  },
  {
   "cell_type": "markdown",
   "metadata": {},
   "source": [
    "#### Корелляция признаков"
   ]
  },
  {
   "cell_type": "markdown",
   "metadata": {},
   "source": [
    "Проверим корелляцию признаков после преобразования:"
   ]
  },
  {
   "cell_type": "code",
   "execution_count": 80,
   "metadata": {},
   "outputs": [
    {
     "data": {
      "image/png": "[encoded data removed]",
      "text/plain": [
       "<Figure size 1152x432 with 2 Axes>"
      ]
     },
     "metadata": {
      "needs_background": "light"
     },
     "output_type": "display_data"
    }
   ],
   "source": [
    "plt.figure(figsize=(16, 6))\n",
    "mask = np.triu(np.ones_like(features_train.corr(), dtype=np.bool))\n",
    "heatmap = sns.heatmap(features_train.corr(), mask=mask, vmin=-1, vmax=1, annot=True, cmap='BrBG')\n",
    "plt.show()"
   ]
  },
  {
   "cell_type": "markdown",
   "metadata": {},
   "source": [
    "Очень высокая обратная корелляция между признаками petrol и lpg (-0.92)<br />\n",
    "Во избежание Dummy-ловушки, один из них надо убрать.\n",
    "Кроме того, чисто логически, есть взаимосвязь между брендом и моделью автомобиля. Имеет смысл убрать признак Brand"
   ]
  },
  {
   "cell_type": "code",
   "execution_count": 81,
   "metadata": {},
   "outputs": [],
   "source": [
    "try:\n",
    "    features_train = features_train.drop(['Brand', 'FuelType_lpg'], axis=1)\n",
    "    features_test = features_test.drop(['Brand', 'FuelType_lpg'], axis=1)\n",
    "except:\n",
    "    features_train = features_train.drop(['Brand', 'x2_lpg'], axis=1)\n",
    "    features_test = features_test.drop(['Brand', 'x2_lpg'], axis=1)"
   ]
  },
  {
   "cell_type": "markdown",
   "metadata": {},
   "source": [
    "Данные готовы к обучению моделей"
   ]
  },
  {
   "cell_type": "markdown",
   "metadata": {},
   "source": [
    "### Итоги подготовки данных:"
   ]
  },
  {
   "cell_type": "code",
   "execution_count": 82,
   "metadata": {
    "scrolled": true
   },
   "outputs": [
    {
     "data": {
      "text/html": [
       "<div>\n",
       "<style scoped>\n",
       "    .dataframe tbody tr th:only-of-type {\n",
       "        vertical-align: middle;\n",
       "    }\n",
       "\n",
       "    .dataframe tbody tr th {\n",
       "        vertical-align: top;\n",
       "    }\n",
       "\n",
       "    .dataframe thead th {\n",
       "        text-align: right;\n",
       "    }\n",
       "</style>\n",
       "<table border=\"1\" class=\"dataframe\">\n",
       "  <thead>\n",
       "    <tr style=\"text-align: right;\">\n",
       "      <th></th>\n",
       "      <th>Power</th>\n",
       "      <th>Kilometer</th>\n",
       "      <th>Repaired</th>\n",
       "      <th>reg_month</th>\n",
       "      <th>Model</th>\n",
       "      <th>x0_convertible</th>\n",
       "      <th>x0_coupe</th>\n",
       "      <th>x0_other</th>\n",
       "      <th>x0_sedan</th>\n",
       "      <th>x0_small</th>\n",
       "      <th>x0_suv</th>\n",
       "      <th>x0_wagon</th>\n",
       "      <th>x1_manual</th>\n",
       "      <th>x2_electric</th>\n",
       "      <th>x2_hybrid</th>\n",
       "      <th>x2_other</th>\n",
       "      <th>x2_petrol</th>\n",
       "    </tr>\n",
       "  </thead>\n",
       "  <tbody>\n",
       "    <tr>\n",
       "      <th>0</th>\n",
       "      <td>3.53</td>\n",
       "      <td>-1.03</td>\n",
       "      <td>True</td>\n",
       "      <td>0.79</td>\n",
       "      <td>11.00</td>\n",
       "      <td>0.00</td>\n",
       "      <td>0.00</td>\n",
       "      <td>0.00</td>\n",
       "      <td>1.00</td>\n",
       "      <td>0.00</td>\n",
       "      <td>0.00</td>\n",
       "      <td>0.00</td>\n",
       "      <td>0.00</td>\n",
       "      <td>0.00</td>\n",
       "      <td>0.00</td>\n",
       "      <td>0.00</td>\n",
       "      <td>1.00</td>\n",
       "    </tr>\n",
       "    <tr>\n",
       "      <th>1</th>\n",
       "      <td>1.40</td>\n",
       "      <td>0.58</td>\n",
       "      <td>True</td>\n",
       "      <td>-0.54</td>\n",
       "      <td>31.00</td>\n",
       "      <td>0.00</td>\n",
       "      <td>0.00</td>\n",
       "      <td>0.00</td>\n",
       "      <td>0.00</td>\n",
       "      <td>0.00</td>\n",
       "      <td>0.00</td>\n",
       "      <td>1.00</td>\n",
       "      <td>1.00</td>\n",
       "      <td>0.00</td>\n",
       "      <td>0.00</td>\n",
       "      <td>0.00</td>\n",
       "      <td>1.00</td>\n",
       "    </tr>\n",
       "    <tr>\n",
       "      <th>2</th>\n",
       "      <td>-0.07</td>\n",
       "      <td>0.58</td>\n",
       "      <td>True</td>\n",
       "      <td>0.55</td>\n",
       "      <td>154.00</td>\n",
       "      <td>0.00</td>\n",
       "      <td>0.00</td>\n",
       "      <td>0.00</td>\n",
       "      <td>0.00</td>\n",
       "      <td>0.00</td>\n",
       "      <td>0.00</td>\n",
       "      <td>1.00</td>\n",
       "      <td>1.00</td>\n",
       "      <td>0.00</td>\n",
       "      <td>0.00</td>\n",
       "      <td>0.00</td>\n",
       "      <td>1.00</td>\n",
       "    </tr>\n",
       "    <tr>\n",
       "      <th>3</th>\n",
       "      <td>-0.31</td>\n",
       "      <td>0.58</td>\n",
       "      <td>True</td>\n",
       "      <td>0.20</td>\n",
       "      <td>29.00</td>\n",
       "      <td>0.00</td>\n",
       "      <td>0.00</td>\n",
       "      <td>0.00</td>\n",
       "      <td>1.00</td>\n",
       "      <td>0.00</td>\n",
       "      <td>0.00</td>\n",
       "      <td>0.00</td>\n",
       "      <td>1.00</td>\n",
       "      <td>0.00</td>\n",
       "      <td>0.00</td>\n",
       "      <td>0.00</td>\n",
       "      <td>1.00</td>\n",
       "    </tr>\n",
       "    <tr>\n",
       "      <th>4</th>\n",
       "      <td>-0.01</td>\n",
       "      <td>0.58</td>\n",
       "      <td>True</td>\n",
       "      <td>-0.37</td>\n",
       "      <td>248.00</td>\n",
       "      <td>1.00</td>\n",
       "      <td>0.00</td>\n",
       "      <td>0.00</td>\n",
       "      <td>0.00</td>\n",
       "      <td>0.00</td>\n",
       "      <td>0.00</td>\n",
       "      <td>0.00</td>\n",
       "      <td>1.00</td>\n",
       "      <td>0.00</td>\n",
       "      <td>0.00</td>\n",
       "      <td>0.00</td>\n",
       "      <td>1.00</td>\n",
       "    </tr>\n",
       "  </tbody>\n",
       "</table>\n",
       "</div>"
      ],
      "text/plain": [
       "   Power  Kilometer  Repaired  reg_month  Model  x0_convertible  x0_coupe  \\\n",
       "0   3.53      -1.03      True       0.79  11.00            0.00      0.00   \n",
       "1   1.40       0.58      True      -0.54  31.00            0.00      0.00   \n",
       "2  -0.07       0.58      True       0.55 154.00            0.00      0.00   \n",
       "3  -0.31       0.58      True       0.20  29.00            0.00      0.00   \n",
       "4  -0.01       0.58      True      -0.37 248.00            1.00      0.00   \n",
       "\n",
       "   x0_other  x0_sedan  x0_small  x0_suv  x0_wagon  x1_manual  x2_electric  \\\n",
       "0      0.00      1.00      0.00    0.00      0.00       0.00         0.00   \n",
       "1      0.00      0.00      0.00    0.00      1.00       1.00         0.00   \n",
       "2      0.00      0.00      0.00    0.00      1.00       1.00         0.00   \n",
       "3      0.00      1.00      0.00    0.00      0.00       1.00         0.00   \n",
       "4      0.00      0.00      0.00    0.00      0.00       1.00         0.00   \n",
       "\n",
       "   x2_hybrid  x2_other  x2_petrol  \n",
       "0       0.00      0.00       1.00  \n",
       "1       0.00      0.00       1.00  \n",
       "2       0.00      0.00       1.00  \n",
       "3       0.00      0.00       1.00  \n",
       "4       0.00      0.00       1.00  "
      ]
     },
     "execution_count": 82,
     "metadata": {},
     "output_type": "execute_result"
    }
   ],
   "source": [
    "features_train.head()"
   ]
  },
  {
   "cell_type": "code",
   "execution_count": 83,
   "metadata": {},
   "outputs": [
    {
     "data": {
      "text/html": [
       "<div>\n",
       "<style scoped>\n",
       "    .dataframe tbody tr th:only-of-type {\n",
       "        vertical-align: middle;\n",
       "    }\n",
       "\n",
       "    .dataframe tbody tr th {\n",
       "        vertical-align: top;\n",
       "    }\n",
       "\n",
       "    .dataframe thead th {\n",
       "        text-align: right;\n",
       "    }\n",
       "</style>\n",
       "<table border=\"1\" class=\"dataframe\">\n",
       "  <thead>\n",
       "    <tr style=\"text-align: right;\">\n",
       "      <th></th>\n",
       "      <th>Power</th>\n",
       "      <th>Kilometer</th>\n",
       "      <th>Repaired</th>\n",
       "      <th>reg_month</th>\n",
       "      <th>Model</th>\n",
       "      <th>x0_convertible</th>\n",
       "      <th>x0_coupe</th>\n",
       "      <th>x0_other</th>\n",
       "      <th>x0_sedan</th>\n",
       "      <th>x0_small</th>\n",
       "      <th>x0_suv</th>\n",
       "      <th>x0_wagon</th>\n",
       "      <th>x1_manual</th>\n",
       "      <th>x2_electric</th>\n",
       "      <th>x2_hybrid</th>\n",
       "      <th>x2_other</th>\n",
       "      <th>x2_petrol</th>\n",
       "    </tr>\n",
       "  </thead>\n",
       "  <tbody>\n",
       "    <tr>\n",
       "      <th>0</th>\n",
       "      <td>2.89</td>\n",
       "      <td>0.58</td>\n",
       "      <td>True</td>\n",
       "      <td>0.45</td>\n",
       "      <td>15.00</td>\n",
       "      <td>0.00</td>\n",
       "      <td>0.00</td>\n",
       "      <td>0.00</td>\n",
       "      <td>0.00</td>\n",
       "      <td>0.00</td>\n",
       "      <td>0.00</td>\n",
       "      <td>1.00</td>\n",
       "      <td>0.00</td>\n",
       "      <td>0.00</td>\n",
       "      <td>0.00</td>\n",
       "      <td>0.00</td>\n",
       "      <td>1.00</td>\n",
       "    </tr>\n",
       "    <tr>\n",
       "      <th>1</th>\n",
       "      <td>0.59</td>\n",
       "      <td>0.58</td>\n",
       "      <td>True</td>\n",
       "      <td>0.42</td>\n",
       "      <td>249.00</td>\n",
       "      <td>0.00</td>\n",
       "      <td>0.00</td>\n",
       "      <td>0.00</td>\n",
       "      <td>0.00</td>\n",
       "      <td>0.00</td>\n",
       "      <td>0.00</td>\n",
       "      <td>0.00</td>\n",
       "      <td>1.00</td>\n",
       "      <td>0.00</td>\n",
       "      <td>0.00</td>\n",
       "      <td>0.00</td>\n",
       "      <td>1.00</td>\n",
       "    </tr>\n",
       "    <tr>\n",
       "      <th>2</th>\n",
       "      <td>0.59</td>\n",
       "      <td>0.58</td>\n",
       "      <td>True</td>\n",
       "      <td>0.24</td>\n",
       "      <td>170.00</td>\n",
       "      <td>0.00</td>\n",
       "      <td>0.00</td>\n",
       "      <td>0.00</td>\n",
       "      <td>0.00</td>\n",
       "      <td>0.00</td>\n",
       "      <td>0.00</td>\n",
       "      <td>1.00</td>\n",
       "      <td>1.00</td>\n",
       "      <td>0.00</td>\n",
       "      <td>0.00</td>\n",
       "      <td>0.00</td>\n",
       "      <td>1.00</td>\n",
       "    </tr>\n",
       "    <tr>\n",
       "      <th>3</th>\n",
       "      <td>0.12</td>\n",
       "      <td>-0.76</td>\n",
       "      <td>True</td>\n",
       "      <td>-2.24</td>\n",
       "      <td>166.00</td>\n",
       "      <td>0.00</td>\n",
       "      <td>0.00</td>\n",
       "      <td>1.00</td>\n",
       "      <td>0.00</td>\n",
       "      <td>0.00</td>\n",
       "      <td>0.00</td>\n",
       "      <td>0.00</td>\n",
       "      <td>1.00</td>\n",
       "      <td>0.00</td>\n",
       "      <td>0.00</td>\n",
       "      <td>0.00</td>\n",
       "      <td>1.00</td>\n",
       "    </tr>\n",
       "    <tr>\n",
       "      <th>4</th>\n",
       "      <td>-0.31</td>\n",
       "      <td>-1.03</td>\n",
       "      <td>True</td>\n",
       "      <td>-0.44</td>\n",
       "      <td>33.00</td>\n",
       "      <td>0.00</td>\n",
       "      <td>0.00</td>\n",
       "      <td>0.00</td>\n",
       "      <td>1.00</td>\n",
       "      <td>0.00</td>\n",
       "      <td>0.00</td>\n",
       "      <td>0.00</td>\n",
       "      <td>1.00</td>\n",
       "      <td>0.00</td>\n",
       "      <td>0.00</td>\n",
       "      <td>0.00</td>\n",
       "      <td>1.00</td>\n",
       "    </tr>\n",
       "  </tbody>\n",
       "</table>\n",
       "</div>"
      ],
      "text/plain": [
       "   Power  Kilometer  Repaired  reg_month  Model  x0_convertible  x0_coupe  \\\n",
       "0   2.89       0.58      True       0.45  15.00            0.00      0.00   \n",
       "1   0.59       0.58      True       0.42 249.00            0.00      0.00   \n",
       "2   0.59       0.58      True       0.24 170.00            0.00      0.00   \n",
       "3   0.12      -0.76      True      -2.24 166.00            0.00      0.00   \n",
       "4  -0.31      -1.03      True      -0.44  33.00            0.00      0.00   \n",
       "\n",
       "   x0_other  x0_sedan  x0_small  x0_suv  x0_wagon  x1_manual  x2_electric  \\\n",
       "0      0.00      0.00      0.00    0.00      1.00       0.00         0.00   \n",
       "1      0.00      0.00      0.00    0.00      0.00       1.00         0.00   \n",
       "2      0.00      0.00      0.00    0.00      1.00       1.00         0.00   \n",
       "3      1.00      0.00      0.00    0.00      0.00       1.00         0.00   \n",
       "4      0.00      1.00      0.00    0.00      0.00       1.00         0.00   \n",
       "\n",
       "   x2_hybrid  x2_other  x2_petrol  \n",
       "0       0.00      0.00       1.00  \n",
       "1       0.00      0.00       1.00  \n",
       "2       0.00      0.00       1.00  \n",
       "3       0.00      0.00       1.00  \n",
       "4       0.00      0.00       1.00  "
      ]
     },
     "execution_count": 83,
     "metadata": {},
     "output_type": "execute_result"
    }
   ],
   "source": [
    "features_test.head()"
   ]
  },
  {
   "cell_type": "markdown",
   "metadata": {},
   "source": [
    "1. Удалены дубликаты записей\n",
    "2. Исправлены типы данных\n",
    "3. Данные о времени регистрации преобразованы в столбец с числом месяцев, прошедших с 1900 года\n",
    "4. Восстановлены пропущенные данные в признаках VehicleType, FuelType, Gearbox\n",
    "5. Удалены пропущенные данные в признаке Model\n",
    "6. Исправлены аномальные значения в признаке Power\n",
    "7. Данные разбиты на обучающую и тестовую выборки\n",
    "8. Выделены признаки и целевой признак\n",
    "9. Произведено масштабирование количественных признаков\n",
    "10. Произведено кодирование категориальных признаков\n",
    "11. Удалены признаки с высокой корелляцией\n",
    "12. Данные готовы к обучению моделей"
   ]
  },
  {
   "cell_type": "markdown",
   "metadata": {},
   "source": [
    "## Обучение моделей"
   ]
  },
  {
   "cell_type": "markdown",
   "metadata": {},
   "source": [
    "Поскольку часть данных кодировано OrdinalEncoder, мы не можем использовать модель \"Линейная регрессия\".<br />\n",
    "Поэтому для решения задачи будем использовать модели \"DummyRegressor\" (в качестве меры адекватности моделей), \"Решающее дерево\", \"LightGBM\" и \"CatBoost\". "
   ]
  },
  {
   "cell_type": "markdown",
   "metadata": {},
   "source": [
    "### Модель \"DummyRegressor\""
   ]
  },
  {
   "cell_type": "code",
   "execution_count": 84,
   "metadata": {
    "scrolled": false
   },
   "outputs": [
    {
     "name": "stdout",
     "output_type": "stream",
     "text": [
      "Стратегия \"mean\". Средняя оценка качества модели: 4559.85, время обучения: 0.07 сек.\n",
      "Стратегия \"median\". Средняя оценка качества модели: 4852.26, время обучения: 0.09 сек.\n",
      "CPU times: user 140 ms, sys: 16 ms, total: 156 ms\n",
      "Wall time: 155 ms\n"
     ]
    }
   ],
   "source": [
    "%%time\n",
    "strategies = ['mean','median']\n",
    "dummy_time = []\n",
    "dummy_score= []\n",
    "for s in strategies:\n",
    "    start = time()\n",
    "    dummy = DummyRegressor(strategy = s)\n",
    "    dummy.fit(features_train, target_train)\n",
    "    scores = abs(cross_val_score(dummy, features_train,target_train, cv=5, scoring='neg_mean_squared_error'))**0.5\n",
    "    final_score = abs(sum(scores) / len(scores))\n",
    "    time_dummy = time() - start\n",
    "    print('Стратегия \"'+s+'\". Средняя оценка качества модели: {:.2f}, время обучения: {:.2f} сек.'.format(final_score, time_dummy))"
   ]
  },
  {
   "cell_type": "code",
   "execution_count": 85,
   "metadata": {
    "scrolled": false
   },
   "outputs": [
    {
     "name": "stdout",
     "output_type": "stream",
     "text": [
      "Стратегия \"median\". Средняя оценка качества модели: 4559.85, время обучения: 0.08 сек.\n",
      "Стратегия \"median\". Средняя оценка качества модели: 4852.26, время обучения: 0.08 сек.\n",
      "CPU times: user 160 ms, sys: 0 ns, total: 160 ms\n",
      "Wall time: 165 ms\n"
     ]
    }
   ],
   "source": [
    "%%time\n",
    "strategies = ['mean','median']\n",
    "dummy_time = []\n",
    "dummy_score= []\n",
    "min_score = 1000000\n",
    "for i in range(len(strategies)):\n",
    "    start = time()\n",
    "    dummy = DummyRegressor(strategy = strategies[i])\n",
    "    dummy.fit(features_train, target_train)\n",
    "    scores = abs(cross_val_score(dummy, features_train,target_train, cv=5, scoring='neg_mean_squared_error'))**0.5\n",
    "    dummy_score.append(abs(sum(scores) / len(scores)))\n",
    "    dummy_time.append(time() - start)\n",
    "    if dummy_score[i] < min_score:\n",
    "        min_score = dummy_score[i]\n",
    "        min_index = i\n",
    "        \n",
    "    print('Стратегия \"'+s+'\". Средняя оценка качества модели: {:.2f}, время обучения: {:.2f} сек.'.\n",
    "          format(dummy_score[i], dummy_time[i]))\n",
    "strategy_dummy = strategies[min_index]\n",
    "result_dummy = dummy_score[min_index]\n",
    "time_dummy = dummy_time[min_index]"
   ]
  },
  {
   "cell_type": "code",
   "execution_count": 86,
   "metadata": {},
   "outputs": [
    {
     "name": "stdout",
     "output_type": "stream",
     "text": [
      "Наилучший результат показывает модель \"DummyRegressor\" со стратегией \"mean\":\n",
      "\n",
      "Средняя оценка качества модели: 4559.85, время обучения: 0.08 сек.\n"
     ]
    }
   ],
   "source": [
    "print('Наилучший результат показывает модель \"DummyRegressor\" со стратегией \"{0}\":'.format(strategy_dummy))\n",
    "print('\\nСредняя оценка качества модели: {:.2f}, время обучения: {:.2f} сек.'.format(result_dummy, time_dummy))"
   ]
  },
  {
   "cell_type": "markdown",
   "metadata": {},
   "source": [
    "### Модель \"Решающее дерево\""
   ]
  },
  {
   "cell_type": "code",
   "execution_count": 87,
   "metadata": {
    "scrolled": false
   },
   "outputs": [
    {
     "name": "stdout",
     "output_type": "stream",
     "text": [
      "Fitting 5 folds for each of 10 candidates, totalling 50 fits\n",
      "CPU times: user 38.7 s, sys: 2.35 s, total: 41 s\n",
      "Wall time: 41.3 s\n"
     ]
    }
   ],
   "source": [
    "%%time\n",
    "start = time()\n",
    "dtr = DecisionTreeRegressor(random_state=1176)\n",
    "max_depth = [int(x) for x in np.linspace(start = 1, stop = 30, num = 10)]\n",
    "param_dist = {'max_depth': max_depth}\n",
    "rs = RandomizedSearchCV(dtr, \n",
    "                        param_dist, \n",
    "                        n_iter = 10, \n",
    "                        scoring = 'neg_mean_squared_error',\n",
    "                        cv = 5, \n",
    "                        verbose = 1, \n",
    "                        n_jobs=-1, \n",
    "                        random_state=1176)\n",
    "rs.fit(features_train, target_train)\n",
    "model_tree = rs.best_estimator_\n",
    "model_tree.params = rs.best_params_\n",
    "result_tree = abs(rs.best_score_)**0.5\n",
    "time_tree = time() - start"
   ]
  },
  {
   "cell_type": "code",
   "execution_count": 88,
   "metadata": {},
   "outputs": [
    {
     "name": "stdout",
     "output_type": "stream",
     "text": [
      "Ветвей: 13.\n",
      "\n",
      "Средняя оценка качества модели: 2074.56, время обучения: 41.28 сек.\n"
     ]
    }
   ],
   "source": [
    "print('Ветвей: {:.0f}.'.format(model_tree.params['max_depth']))\n",
    "print('\\nСредняя оценка качества модели: {:.2f}, время обучения: {:.2f} сек.'.format(result_tree, time_tree))"
   ]
  },
  {
   "cell_type": "markdown",
   "metadata": {},
   "source": [
    "### Модель \" LightGBM\""
   ]
  },
  {
   "cell_type": "code",
   "execution_count": 89,
   "metadata": {
    "scrolled": true
   },
   "outputs": [
    {
     "name": "stdout",
     "output_type": "stream",
     "text": [
      "Fitting 5 folds for each of 10 candidates, totalling 50 fits\n",
      "CPU times: user 6min 50s, sys: 3.26 s, total: 6min 53s\n",
      "Wall time: 7min 5s\n"
     ]
    }
   ],
   "source": [
    "%%time\n",
    "start = time()\n",
    "lgbm = LGBMRegressor()\n",
    "n_estimators = [int(x) for x in np.linspace(start = 1, stop = 101, num = 10)]\n",
    "max_depth = [int(x) for x in np.linspace(start = 1, stop = 30, num = 10)]\n",
    "learning_rate = [0.1, 0.25, 0.5, 0.75, 1]\n",
    "\n",
    "param_dist = {'n_estimators': n_estimators,\n",
    "              'max_depth':max_depth,\n",
    "              'learning_rate': learning_rate\n",
    "             }\n",
    "rs = RandomizedSearchCV(lgbm, \n",
    "                        param_dist, \n",
    "                        n_iter = 10, \n",
    "                        scoring = 'neg_mean_squared_error',\n",
    "                        cv = 5, \n",
    "                        verbose = 1, \n",
    "                        n_jobs=-1, \n",
    "                        random_state=1176)\n",
    "rs.fit(features_train, target_train)\n",
    "model_lgbm = rs.best_estimator_\n",
    "model_lgbm.params = rs.best_params_\n",
    "result_lgbm = abs(rs.best_score_)**0.5\n",
    "time_lgbm = time() - start"
   ]
  },
  {
   "cell_type": "code",
   "execution_count": 90,
   "metadata": {},
   "outputs": [
    {
     "name": "stdout",
     "output_type": "stream",
     "text": [
      "Деревьев: 89.\n",
      "Ветвей: 7.\n",
      "Скорость обучения: 0.75.\n",
      "\n",
      "Средняя оценка качества модели: 1854.88, время обучения: 425.21 сек.\n"
     ]
    }
   ],
   "source": [
    "print('Деревьев: {:.0f}.'.format(model_lgbm.params['n_estimators']))\n",
    "print('Ветвей: {:.0f}.'.format(model_lgbm.params['max_depth']))\n",
    "print('Скорость обучения: {:.2f}.'.format(model_lgbm.params['learning_rate']))\n",
    "print('\\nСредняя оценка качества модели: {:.2f}, время обучения: {:.2f} сек.'.format(result_lgbm, time_lgbm))"
   ]
  },
  {
   "cell_type": "markdown",
   "metadata": {},
   "source": [
    "### Модель \" CatBoost\""
   ]
  },
  {
   "cell_type": "code",
   "execution_count": 91,
   "metadata": {
    "scrolled": true
   },
   "outputs": [
    {
     "name": "stdout",
     "output_type": "stream",
     "text": [
      "Fitting 5 folds for each of 10 candidates, totalling 50 fits\n",
      "0:\tlearn: 3430.4790115\ttotal: 71.2ms\tremaining: 784ms\n",
      "1:\tlearn: 2874.5250597\ttotal: 92.5ms\tremaining: 462ms\n",
      "2:\tlearn: 2622.4147179\ttotal: 114ms\tremaining: 342ms\n",
      "3:\tlearn: 2499.8576684\ttotal: 134ms\tremaining: 269ms\n",
      "4:\tlearn: 2413.1892577\ttotal: 154ms\tremaining: 215ms\n",
      "5:\tlearn: 2376.7551279\ttotal: 173ms\tremaining: 173ms\n",
      "6:\tlearn: 2337.7242459\ttotal: 194ms\tremaining: 139ms\n",
      "7:\tlearn: 2306.6469229\ttotal: 216ms\tremaining: 108ms\n",
      "8:\tlearn: 2286.7580119\ttotal: 236ms\tremaining: 78.7ms\n",
      "9:\tlearn: 2268.9103583\ttotal: 256ms\tremaining: 51.2ms\n",
      "10:\tlearn: 2255.8612282\ttotal: 276ms\tremaining: 25.1ms\n",
      "11:\tlearn: 2244.9777706\ttotal: 296ms\tremaining: 0us\n",
      "0:\tlearn: 3432.6869281\ttotal: 21.1ms\tremaining: 233ms\n",
      "1:\tlearn: 2871.7082703\ttotal: 45.2ms\tremaining: 226ms\n",
      "2:\tlearn: 2612.6572046\ttotal: 69.3ms\tremaining: 208ms\n",
      "3:\tlearn: 2484.9196247\ttotal: 94ms\tremaining: 188ms\n",
      "4:\tlearn: 2419.1918023\ttotal: 115ms\tremaining: 161ms\n",
      "5:\tlearn: 2380.0747795\ttotal: 136ms\tremaining: 136ms\n",
      "6:\tlearn: 2336.1775333\ttotal: 156ms\tremaining: 111ms\n",
      "7:\tlearn: 2300.7481498\ttotal: 176ms\tremaining: 88ms\n",
      "8:\tlearn: 2280.8030247\ttotal: 200ms\tremaining: 66.6ms\n",
      "9:\tlearn: 2262.9346035\ttotal: 223ms\tremaining: 44.5ms\n",
      "10:\tlearn: 2245.6579934\ttotal: 242ms\tremaining: 22ms\n",
      "11:\tlearn: 2234.5457802\ttotal: 261ms\tremaining: 0us\n",
      "0:\tlearn: 3441.8287267\ttotal: 21ms\tremaining: 231ms\n",
      "1:\tlearn: 2869.1342037\ttotal: 42.7ms\tremaining: 214ms\n",
      "2:\tlearn: 2632.7689559\ttotal: 62.9ms\tremaining: 189ms\n",
      "3:\tlearn: 2491.1774531\ttotal: 83.6ms\tremaining: 167ms\n",
      "4:\tlearn: 2429.5679906\ttotal: 103ms\tremaining: 145ms\n",
      "5:\tlearn: 2383.2391870\ttotal: 122ms\tremaining: 122ms\n",
      "6:\tlearn: 2341.9273202\ttotal: 141ms\tremaining: 101ms\n",
      "7:\tlearn: 2311.7538415\ttotal: 160ms\tremaining: 80.1ms\n",
      "8:\tlearn: 2292.6881430\ttotal: 181ms\tremaining: 60.3ms\n",
      "9:\tlearn: 2267.4973416\ttotal: 201ms\tremaining: 40.2ms\n",
      "10:\tlearn: 2250.8248682\ttotal: 220ms\tremaining: 20ms\n",
      "11:\tlearn: 2237.5020910\ttotal: 240ms\tremaining: 0us\n",
      "0:\tlearn: 3377.3406183\ttotal: 22.2ms\tremaining: 245ms\n",
      "1:\tlearn: 2858.0506041\ttotal: 43ms\tremaining: 215ms\n",
      "2:\tlearn: 2590.2628324\ttotal: 65.7ms\tremaining: 197ms\n",
      "3:\tlearn: 2461.3618456\ttotal: 86ms\tremaining: 172ms\n",
      "4:\tlearn: 2396.9578231\ttotal: 106ms\tremaining: 148ms\n",
      "5:\tlearn: 2354.8482541\ttotal: 125ms\tremaining: 125ms\n",
      "6:\tlearn: 2317.8769303\ttotal: 144ms\tremaining: 103ms\n",
      "7:\tlearn: 2296.4378053\ttotal: 163ms\tremaining: 81.4ms\n",
      "8:\tlearn: 2265.7794839\ttotal: 182ms\tremaining: 60.7ms\n",
      "9:\tlearn: 2245.8149500\ttotal: 203ms\tremaining: 40.6ms\n",
      "10:\tlearn: 2230.4912125\ttotal: 223ms\tremaining: 20.3ms\n",
      "11:\tlearn: 2220.4567090\ttotal: 242ms\tremaining: 0us\n",
      "0:\tlearn: 3432.1871811\ttotal: 22.8ms\tremaining: 251ms\n",
      "1:\tlearn: 2882.2061942\ttotal: 43.4ms\tremaining: 217ms\n",
      "2:\tlearn: 2628.8505228\ttotal: 65.2ms\tremaining: 195ms\n",
      "3:\tlearn: 2498.4092715\ttotal: 85.8ms\tremaining: 172ms\n",
      "4:\tlearn: 2426.1236664\ttotal: 107ms\tremaining: 150ms\n",
      "5:\tlearn: 2389.0930610\ttotal: 129ms\tremaining: 129ms\n",
      "6:\tlearn: 2346.5539450\ttotal: 150ms\tremaining: 107ms\n",
      "7:\tlearn: 2312.7876477\ttotal: 170ms\tremaining: 85ms\n",
      "8:\tlearn: 2294.9297152\ttotal: 189ms\tremaining: 63ms\n",
      "9:\tlearn: 2278.5034786\ttotal: 209ms\tremaining: 41.8ms\n",
      "10:\tlearn: 2264.0874678\ttotal: 228ms\tremaining: 20.8ms\n",
      "11:\tlearn: 2244.1668877\ttotal: 248ms\tremaining: 0us\n",
      "0:\tlearn: 3898.4190998\ttotal: 15.6ms\tremaining: 0us\n",
      "0:\tlearn: 3898.4245662\ttotal: 14.6ms\tremaining: 0us\n",
      "0:\tlearn: 3904.2492903\ttotal: 14.4ms\tremaining: 0us\n",
      "0:\tlearn: 3898.2079012\ttotal: 14.1ms\tremaining: 0us\n",
      "0:\tlearn: 3895.6384278\ttotal: 15.6ms\tremaining: 0us\n",
      "0:\tlearn: 3790.8705983\ttotal: 43.9ms\tremaining: 3.86s\n",
      "1:\tlearn: 3255.4806112\ttotal: 84.9ms\tremaining: 3.69s\n",
      "2:\tlearn: 2880.0702950\ttotal: 127ms\tremaining: 3.65s\n",
      "3:\tlearn: 2633.5084089\ttotal: 171ms\tremaining: 3.62s\n",
      "4:\tlearn: 2468.5654445\ttotal: 213ms\tremaining: 3.58s\n",
      "5:\tlearn: 2355.1875682\ttotal: 255ms\tremaining: 3.53s\n",
      "6:\tlearn: 2280.4826937\ttotal: 300ms\tremaining: 3.51s\n",
      "7:\tlearn: 2228.6844423\ttotal: 343ms\tremaining: 3.47s\n",
      "8:\tlearn: 2183.1430547\ttotal: 391ms\tremaining: 3.47s\n",
      "9:\tlearn: 2151.3395509\ttotal: 434ms\tremaining: 3.43s\n",
      "10:\tlearn: 2126.5061213\ttotal: 476ms\tremaining: 3.38s\n",
      "11:\tlearn: 2103.9191679\ttotal: 519ms\tremaining: 3.33s\n",
      "12:\tlearn: 2088.7910748\ttotal: 565ms\tremaining: 3.3s\n",
      "13:\tlearn: 2073.2950432\ttotal: 610ms\tremaining: 3.27s\n",
      "14:\tlearn: 2062.2891378\ttotal: 654ms\tremaining: 3.23s\n",
      "15:\tlearn: 2052.1427188\ttotal: 699ms\tremaining: 3.19s\n",
      "16:\tlearn: 2042.4982425\ttotal: 744ms\tremaining: 3.15s\n",
      "17:\tlearn: 2032.5352521\ttotal: 790ms\tremaining: 3.12s\n",
      "18:\tlearn: 2021.8959216\ttotal: 841ms\tremaining: 3.1s\n",
      "19:\tlearn: 2015.7475957\ttotal: 895ms\tremaining: 3.09s\n",
      "20:\tlearn: 2007.7198331\ttotal: 942ms\tremaining: 3.05s\n",
      "21:\tlearn: 2004.0758104\ttotal: 992ms\tremaining: 3.02s\n",
      "22:\tlearn: 1995.6134262\ttotal: 1.04s\tremaining: 2.98s\n",
      "23:\tlearn: 1991.2579458\ttotal: 1.09s\tremaining: 2.94s\n",
      "24:\tlearn: 1984.8992039\ttotal: 1.13s\tremaining: 2.9s\n",
      "25:\tlearn: 1979.5675458\ttotal: 1.18s\tremaining: 2.87s\n",
      "26:\tlearn: 1975.9298281\ttotal: 1.23s\tremaining: 2.82s\n",
      "27:\tlearn: 1971.6266782\ttotal: 1.28s\tremaining: 2.78s\n",
      "28:\tlearn: 1965.7264106\ttotal: 1.32s\tremaining: 2.74s\n",
      "29:\tlearn: 1961.1564330\ttotal: 1.37s\tremaining: 2.7s\n",
      "30:\tlearn: 1957.0814152\ttotal: 1.42s\tremaining: 2.66s\n",
      "31:\tlearn: 1951.8379744\ttotal: 1.47s\tremaining: 2.62s\n",
      "32:\tlearn: 1947.9391295\ttotal: 1.53s\tremaining: 2.6s\n",
      "33:\tlearn: 1943.4490269\ttotal: 1.58s\tremaining: 2.56s\n",
      "34:\tlearn: 1938.5339300\ttotal: 1.64s\tremaining: 2.52s\n",
      "35:\tlearn: 1936.2577014\ttotal: 1.69s\tremaining: 2.49s\n",
      "36:\tlearn: 1932.7348204\ttotal: 1.74s\tremaining: 2.44s\n",
      "37:\tlearn: 1928.5046891\ttotal: 1.79s\tremaining: 2.4s\n",
      "38:\tlearn: 1924.3490014\ttotal: 1.83s\tremaining: 2.35s\n",
      "39:\tlearn: 1920.8508325\ttotal: 1.89s\tremaining: 2.31s\n",
      "40:\tlearn: 1919.0649797\ttotal: 1.93s\tremaining: 2.26s\n",
      "41:\tlearn: 1914.9684692\ttotal: 1.98s\tremaining: 2.21s\n",
      "42:\tlearn: 1911.4442689\ttotal: 2.03s\tremaining: 2.17s\n",
      "43:\tlearn: 1908.1896995\ttotal: 2.07s\tremaining: 2.12s\n",
      "44:\tlearn: 1904.8963639\ttotal: 2.12s\tremaining: 2.07s\n",
      "45:\tlearn: 1902.8808714\ttotal: 2.17s\tremaining: 2.03s\n",
      "46:\tlearn: 1901.2342650\ttotal: 2.22s\tremaining: 1.98s\n",
      "47:\tlearn: 1897.7104277\ttotal: 2.27s\tremaining: 1.94s\n",
      "48:\tlearn: 1894.1866535\ttotal: 2.31s\tremaining: 1.89s\n",
      "49:\tlearn: 1890.9050840\ttotal: 2.36s\tremaining: 1.84s\n",
      "50:\tlearn: 1888.0458613\ttotal: 2.41s\tremaining: 1.79s\n",
      "51:\tlearn: 1885.2306089\ttotal: 2.46s\tremaining: 1.75s\n",
      "52:\tlearn: 1881.7185725\ttotal: 2.51s\tremaining: 1.7s\n",
      "53:\tlearn: 1879.1667828\ttotal: 2.55s\tremaining: 1.66s\n",
      "54:\tlearn: 1876.1948223\ttotal: 2.6s\tremaining: 1.61s\n",
      "55:\tlearn: 1873.2281722\ttotal: 2.65s\tremaining: 1.56s\n",
      "56:\tlearn: 1869.6682799\ttotal: 2.7s\tremaining: 1.51s\n",
      "57:\tlearn: 1866.2211696\ttotal: 2.74s\tremaining: 1.47s\n",
      "58:\tlearn: 1863.5276929\ttotal: 2.79s\tremaining: 1.42s\n",
      "59:\tlearn: 1860.4004375\ttotal: 2.84s\tremaining: 1.37s\n",
      "60:\tlearn: 1857.3870799\ttotal: 2.88s\tremaining: 1.32s\n",
      "61:\tlearn: 1855.1556539\ttotal: 2.94s\tremaining: 1.28s\n",
      "62:\tlearn: 1852.8063579\ttotal: 2.98s\tremaining: 1.23s\n",
      "63:\tlearn: 1850.8281837\ttotal: 3.03s\tremaining: 1.18s\n",
      "64:\tlearn: 1848.1062840\ttotal: 3.09s\tremaining: 1.14s\n",
      "65:\tlearn: 1846.2986435\ttotal: 3.14s\tremaining: 1.09s\n",
      "66:\tlearn: 1843.9032427\ttotal: 3.19s\tremaining: 1.04s\n",
      "67:\tlearn: 1840.7709845\ttotal: 3.23s\tremaining: 998ms\n",
      "68:\tlearn: 1838.3276516\ttotal: 3.28s\tremaining: 950ms\n",
      "69:\tlearn: 1836.0138397\ttotal: 3.32s\tremaining: 902ms\n",
      "70:\tlearn: 1834.1254677\ttotal: 3.37s\tremaining: 855ms\n",
      "71:\tlearn: 1831.9204300\ttotal: 3.42s\tremaining: 807ms\n",
      "72:\tlearn: 1829.4807837\ttotal: 3.47s\tremaining: 761ms\n",
      "73:\tlearn: 1827.5745693\ttotal: 3.52s\tremaining: 713ms\n",
      "74:\tlearn: 1824.5743605\ttotal: 3.56s\tremaining: 665ms\n",
      "75:\tlearn: 1822.4725754\ttotal: 3.61s\tremaining: 618ms\n",
      "76:\tlearn: 1820.8773618\ttotal: 3.67s\tremaining: 572ms\n",
      "77:\tlearn: 1818.5006031\ttotal: 3.72s\tremaining: 524ms\n",
      "78:\tlearn: 1817.0659215\ttotal: 3.76s\tremaining: 477ms\n",
      "79:\tlearn: 1815.0288789\ttotal: 3.81s\tremaining: 429ms\n",
      "80:\tlearn: 1813.6891975\ttotal: 3.86s\tremaining: 381ms\n",
      "81:\tlearn: 1812.4518702\ttotal: 3.91s\tremaining: 334ms\n",
      "82:\tlearn: 1810.7247072\ttotal: 3.96s\tremaining: 286ms\n",
      "83:\tlearn: 1809.5660630\ttotal: 4.01s\tremaining: 239ms\n",
      "84:\tlearn: 1807.6558082\ttotal: 4.06s\tremaining: 191ms\n",
      "85:\tlearn: 1805.3919015\ttotal: 4.11s\tremaining: 143ms\n",
      "86:\tlearn: 1804.0630175\ttotal: 4.15s\tremaining: 95.5ms\n",
      "87:\tlearn: 1802.7039762\ttotal: 4.2s\tremaining: 47.7ms\n",
      "88:\tlearn: 1800.9605742\ttotal: 4.25s\tremaining: 0us\n",
      "0:\tlearn: 3794.1399804\ttotal: 46ms\tremaining: 4.04s\n",
      "1:\tlearn: 3263.5112280\ttotal: 91.8ms\tremaining: 3.99s\n",
      "2:\tlearn: 2883.5019333\ttotal: 138ms\tremaining: 3.96s\n",
      "3:\tlearn: 2642.4399915\ttotal: 186ms\tremaining: 3.94s\n",
      "4:\tlearn: 2476.7098454\ttotal: 232ms\tremaining: 3.9s\n",
      "5:\tlearn: 2364.6685500\ttotal: 278ms\tremaining: 3.85s\n",
      "6:\tlearn: 2287.8554492\ttotal: 326ms\tremaining: 3.82s\n",
      "7:\tlearn: 2231.5218053\ttotal: 374ms\tremaining: 3.79s\n",
      "8:\tlearn: 2190.4375637\ttotal: 422ms\tremaining: 3.75s\n",
      "9:\tlearn: 2159.3851915\ttotal: 473ms\tremaining: 3.73s\n",
      "10:\tlearn: 2133.8800580\ttotal: 527ms\tremaining: 3.73s\n",
      "11:\tlearn: 2106.6685477\ttotal: 584ms\tremaining: 3.74s\n",
      "12:\tlearn: 2091.5033838\ttotal: 643ms\tremaining: 3.76s\n",
      "13:\tlearn: 2077.7297546\ttotal: 704ms\tremaining: 3.77s\n",
      "14:\tlearn: 2067.3818562\ttotal: 763ms\tremaining: 3.76s\n",
      "15:\tlearn: 2052.6357311\ttotal: 826ms\tremaining: 3.77s\n",
      "16:\tlearn: 2043.1156597\ttotal: 883ms\tremaining: 3.74s\n",
      "17:\tlearn: 2033.9463092\ttotal: 929ms\tremaining: 3.66s\n",
      "18:\tlearn: 2024.0703155\ttotal: 976ms\tremaining: 3.6s\n",
      "19:\tlearn: 2016.3755569\ttotal: 1.02s\tremaining: 3.54s\n",
      "20:\tlearn: 2008.8202851\ttotal: 1.07s\tremaining: 3.48s\n",
      "21:\tlearn: 2003.8228824\ttotal: 1.12s\tremaining: 3.42s\n",
      "22:\tlearn: 1997.9896505\ttotal: 1.17s\tremaining: 3.35s\n",
      "23:\tlearn: 1990.9875984\ttotal: 1.22s\tremaining: 3.29s\n",
      "24:\tlearn: 1985.0061191\ttotal: 1.26s\tremaining: 3.23s\n",
      "25:\tlearn: 1979.8203801\ttotal: 1.31s\tremaining: 3.17s\n",
      "26:\tlearn: 1974.9967832\ttotal: 1.36s\tremaining: 3.12s\n",
      "27:\tlearn: 1969.5302552\ttotal: 1.41s\tremaining: 3.07s\n",
      "28:\tlearn: 1963.5280565\ttotal: 1.46s\tremaining: 3.01s\n",
      "29:\tlearn: 1959.9960631\ttotal: 1.51s\tremaining: 2.96s\n",
      "30:\tlearn: 1956.4592337\ttotal: 1.55s\tremaining: 2.9s\n",
      "31:\tlearn: 1951.6290320\ttotal: 1.6s\tremaining: 2.85s\n",
      "32:\tlearn: 1947.6235291\ttotal: 1.65s\tremaining: 2.79s\n",
      "33:\tlearn: 1943.0927111\ttotal: 1.69s\tremaining: 2.74s\n",
      "34:\tlearn: 1939.5810748\ttotal: 1.74s\tremaining: 2.69s\n",
      "35:\tlearn: 1936.2051762\ttotal: 1.79s\tremaining: 2.63s\n",
      "36:\tlearn: 1933.5583580\ttotal: 1.84s\tremaining: 2.58s\n",
      "37:\tlearn: 1929.0529840\ttotal: 1.89s\tremaining: 2.53s\n",
      "38:\tlearn: 1924.4893394\ttotal: 1.94s\tremaining: 2.48s\n",
      "39:\tlearn: 1921.3853071\ttotal: 1.98s\tremaining: 2.43s\n",
      "40:\tlearn: 1918.8251054\ttotal: 2.03s\tremaining: 2.38s\n",
      "41:\tlearn: 1915.2511637\ttotal: 2.08s\tremaining: 2.33s\n",
      "42:\tlearn: 1911.9311053\ttotal: 2.12s\tremaining: 2.27s\n",
      "43:\tlearn: 1908.8085235\ttotal: 2.17s\tremaining: 2.22s\n",
      "44:\tlearn: 1905.2267258\ttotal: 2.21s\tremaining: 2.17s\n",
      "45:\tlearn: 1902.4618806\ttotal: 2.26s\tremaining: 2.11s\n",
      "46:\tlearn: 1899.4619841\ttotal: 2.3s\tremaining: 2.06s\n",
      "47:\tlearn: 1895.5920240\ttotal: 2.34s\tremaining: 2s\n",
      "48:\tlearn: 1893.2325661\ttotal: 2.39s\tremaining: 1.95s\n",
      "49:\tlearn: 1890.4804755\ttotal: 2.44s\tremaining: 1.91s\n",
      "50:\tlearn: 1887.2883392\ttotal: 2.49s\tremaining: 1.86s\n",
      "51:\tlearn: 1884.8109810\ttotal: 2.53s\tremaining: 1.8s\n",
      "52:\tlearn: 1882.2683982\ttotal: 2.58s\tremaining: 1.75s\n",
      "53:\tlearn: 1879.9633913\ttotal: 2.62s\tremaining: 1.7s\n",
      "54:\tlearn: 1877.9070663\ttotal: 2.67s\tremaining: 1.65s\n",
      "55:\tlearn: 1874.8922135\ttotal: 2.71s\tremaining: 1.6s\n",
      "56:\tlearn: 1871.0275510\ttotal: 2.75s\tremaining: 1.55s\n",
      "57:\tlearn: 1869.3836348\ttotal: 2.8s\tremaining: 1.5s\n",
      "58:\tlearn: 1867.2553472\ttotal: 2.84s\tremaining: 1.45s\n",
      "59:\tlearn: 1864.2452697\ttotal: 2.89s\tremaining: 1.4s\n",
      "60:\tlearn: 1862.1325638\ttotal: 2.93s\tremaining: 1.35s\n",
      "61:\tlearn: 1859.7909057\ttotal: 2.98s\tremaining: 1.3s\n",
      "62:\tlearn: 1857.4349102\ttotal: 3.03s\tremaining: 1.25s\n",
      "63:\tlearn: 1855.9609578\ttotal: 3.07s\tremaining: 1.2s\n",
      "64:\tlearn: 1854.0937181\ttotal: 3.12s\tremaining: 1.15s\n",
      "65:\tlearn: 1852.1813188\ttotal: 3.16s\tremaining: 1.1s\n",
      "66:\tlearn: 1850.5276173\ttotal: 3.21s\tremaining: 1.05s\n",
      "67:\tlearn: 1848.3935935\ttotal: 3.26s\tremaining: 1s\n",
      "68:\tlearn: 1845.8988813\ttotal: 3.3s\tremaining: 957ms\n",
      "69:\tlearn: 1844.1790964\ttotal: 3.35s\tremaining: 909ms\n",
      "70:\tlearn: 1842.7472258\ttotal: 3.39s\tremaining: 860ms\n",
      "71:\tlearn: 1840.4342303\ttotal: 3.44s\tremaining: 811ms\n",
      "72:\tlearn: 1838.1680058\ttotal: 3.48s\tremaining: 762ms\n",
      "73:\tlearn: 1836.3699448\ttotal: 3.52s\tremaining: 714ms\n",
      "74:\tlearn: 1833.7914388\ttotal: 3.56s\tremaining: 665ms\n",
      "75:\tlearn: 1831.9355088\ttotal: 3.61s\tremaining: 617ms\n",
      "76:\tlearn: 1830.6764931\ttotal: 3.65s\tremaining: 570ms\n",
      "77:\tlearn: 1828.8106962\ttotal: 3.7s\tremaining: 521ms\n",
      "78:\tlearn: 1827.5839736\ttotal: 3.74s\tremaining: 473ms\n",
      "79:\tlearn: 1825.8004884\ttotal: 3.79s\tremaining: 426ms\n",
      "80:\tlearn: 1824.5336290\ttotal: 3.83s\tremaining: 378ms\n",
      "81:\tlearn: 1822.3615173\ttotal: 3.88s\tremaining: 331ms\n",
      "82:\tlearn: 1820.7232612\ttotal: 3.92s\tremaining: 283ms\n",
      "83:\tlearn: 1818.0055705\ttotal: 3.96s\tremaining: 236ms\n",
      "84:\tlearn: 1816.1475644\ttotal: 4.01s\tremaining: 189ms\n",
      "85:\tlearn: 1814.7356336\ttotal: 4.05s\tremaining: 141ms\n",
      "86:\tlearn: 1813.2445550\ttotal: 4.09s\tremaining: 94.1ms\n",
      "87:\tlearn: 1811.8454452\ttotal: 4.14s\tremaining: 47ms\n",
      "88:\tlearn: 1810.5195417\ttotal: 4.18s\tremaining: 0us\n",
      "0:\tlearn: 3798.5271298\ttotal: 41.5ms\tremaining: 3.65s\n",
      "1:\tlearn: 3256.0813029\ttotal: 84.6ms\tremaining: 3.68s\n",
      "2:\tlearn: 2882.3071270\ttotal: 129ms\tremaining: 3.71s\n",
      "3:\tlearn: 2638.9263550\ttotal: 174ms\tremaining: 3.69s\n",
      "4:\tlearn: 2474.4886318\ttotal: 218ms\tremaining: 3.67s\n",
      "5:\tlearn: 2359.4956981\ttotal: 262ms\tremaining: 3.62s\n",
      "6:\tlearn: 2282.4285415\ttotal: 305ms\tremaining: 3.58s\n",
      "7:\tlearn: 2229.8878960\ttotal: 351ms\tremaining: 3.56s\n",
      "8:\tlearn: 2182.0230277\ttotal: 394ms\tremaining: 3.5s\n",
      "9:\tlearn: 2151.3014619\ttotal: 438ms\tremaining: 3.46s\n",
      "10:\tlearn: 2126.9280714\ttotal: 480ms\tremaining: 3.4s\n",
      "11:\tlearn: 2105.7530530\ttotal: 523ms\tremaining: 3.35s\n",
      "12:\tlearn: 2090.7323944\ttotal: 567ms\tremaining: 3.31s\n",
      "13:\tlearn: 2074.5306839\ttotal: 621ms\tremaining: 3.33s\n",
      "14:\tlearn: 2062.8357593\ttotal: 665ms\tremaining: 3.28s\n",
      "15:\tlearn: 2053.2672937\ttotal: 708ms\tremaining: 3.23s\n",
      "16:\tlearn: 2043.1447332\ttotal: 752ms\tremaining: 3.19s\n",
      "17:\tlearn: 2031.7959541\ttotal: 796ms\tremaining: 3.14s\n",
      "18:\tlearn: 2024.9753834\ttotal: 841ms\tremaining: 3.1s\n",
      "19:\tlearn: 2019.6897363\ttotal: 886ms\tremaining: 3.06s\n",
      "20:\tlearn: 2010.3086728\ttotal: 930ms\tremaining: 3.01s\n",
      "21:\tlearn: 2004.1077297\ttotal: 977ms\tremaining: 2.98s\n",
      "22:\tlearn: 1996.9018308\ttotal: 1.02s\tremaining: 2.94s\n",
      "23:\tlearn: 1990.3384395\ttotal: 1.07s\tremaining: 2.89s\n",
      "24:\tlearn: 1986.1247529\ttotal: 1.11s\tremaining: 2.85s\n",
      "25:\tlearn: 1983.0059484\ttotal: 1.16s\tremaining: 2.81s\n",
      "26:\tlearn: 1977.1041117\ttotal: 1.2s\tremaining: 2.76s\n",
      "27:\tlearn: 1974.6082801\ttotal: 1.25s\tremaining: 2.73s\n",
      "28:\tlearn: 1970.0504170\ttotal: 1.31s\tremaining: 2.71s\n",
      "29:\tlearn: 1964.6302300\ttotal: 1.35s\tremaining: 2.66s\n",
      "30:\tlearn: 1957.9990995\ttotal: 1.39s\tremaining: 2.61s\n",
      "31:\tlearn: 1952.7407439\ttotal: 1.44s\tremaining: 2.57s\n",
      "32:\tlearn: 1949.6288046\ttotal: 1.49s\tremaining: 2.53s\n",
      "33:\tlearn: 1944.4609444\ttotal: 1.53s\tremaining: 2.48s\n",
      "34:\tlearn: 1941.4004880\ttotal: 1.58s\tremaining: 2.43s\n",
      "35:\tlearn: 1934.8327023\ttotal: 1.62s\tremaining: 2.38s\n",
      "36:\tlearn: 1931.3233517\ttotal: 1.66s\tremaining: 2.34s\n",
      "37:\tlearn: 1928.3708802\ttotal: 1.71s\tremaining: 2.29s\n",
      "38:\tlearn: 1924.8281898\ttotal: 1.75s\tremaining: 2.24s\n",
      "39:\tlearn: 1922.4412966\ttotal: 1.79s\tremaining: 2.19s\n",
      "40:\tlearn: 1918.5926312\ttotal: 1.83s\tremaining: 2.15s\n",
      "41:\tlearn: 1915.4209626\ttotal: 1.88s\tremaining: 2.1s\n",
      "42:\tlearn: 1912.6335909\ttotal: 1.92s\tremaining: 2.06s\n",
      "43:\tlearn: 1908.2003929\ttotal: 1.97s\tremaining: 2.01s\n",
      "44:\tlearn: 1905.9661372\ttotal: 2.01s\tremaining: 1.97s\n",
      "45:\tlearn: 1902.3109409\ttotal: 2.06s\tremaining: 1.92s\n",
      "46:\tlearn: 1898.9280738\ttotal: 2.1s\tremaining: 1.88s\n",
      "47:\tlearn: 1896.6702810\ttotal: 2.15s\tremaining: 1.83s\n",
      "48:\tlearn: 1893.8025675\ttotal: 2.19s\tremaining: 1.79s\n",
      "49:\tlearn: 1890.8900484\ttotal: 2.23s\tremaining: 1.74s\n",
      "50:\tlearn: 1887.2693438\ttotal: 2.27s\tremaining: 1.69s\n",
      "51:\tlearn: 1883.7426069\ttotal: 2.32s\tremaining: 1.65s\n",
      "52:\tlearn: 1880.6415977\ttotal: 2.36s\tremaining: 1.6s\n",
      "53:\tlearn: 1878.4110305\ttotal: 2.41s\tremaining: 1.56s\n",
      "54:\tlearn: 1875.5506984\ttotal: 2.45s\tremaining: 1.52s\n",
      "55:\tlearn: 1873.5082428\ttotal: 2.5s\tremaining: 1.47s\n",
      "56:\tlearn: 1870.5957920\ttotal: 2.54s\tremaining: 1.43s\n",
      "57:\tlearn: 1867.5579514\ttotal: 2.58s\tremaining: 1.38s\n",
      "58:\tlearn: 1864.4828048\ttotal: 2.63s\tremaining: 1.34s\n",
      "59:\tlearn: 1861.4964592\ttotal: 2.67s\tremaining: 1.29s\n",
      "60:\tlearn: 1859.2250877\ttotal: 2.72s\tremaining: 1.25s\n",
      "61:\tlearn: 1856.4977096\ttotal: 2.77s\tremaining: 1.21s\n",
      "62:\tlearn: 1853.2914276\ttotal: 2.82s\tremaining: 1.16s\n",
      "63:\tlearn: 1851.6460806\ttotal: 2.86s\tremaining: 1.12s\n",
      "64:\tlearn: 1849.9363283\ttotal: 2.91s\tremaining: 1.07s\n",
      "65:\tlearn: 1847.3088491\ttotal: 2.95s\tremaining: 1.03s\n",
      "66:\tlearn: 1844.6784198\ttotal: 3s\tremaining: 984ms\n",
      "67:\tlearn: 1842.5286937\ttotal: 3.04s\tremaining: 939ms\n",
      "68:\tlearn: 1840.4917388\ttotal: 3.08s\tremaining: 894ms\n",
      "69:\tlearn: 1838.8262831\ttotal: 3.13s\tremaining: 849ms\n",
      "70:\tlearn: 1836.7496703\ttotal: 3.17s\tremaining: 804ms\n",
      "71:\tlearn: 1834.9782417\ttotal: 3.22s\tremaining: 760ms\n",
      "72:\tlearn: 1833.6215871\ttotal: 3.26s\tremaining: 715ms\n",
      "73:\tlearn: 1832.2958085\ttotal: 3.3s\tremaining: 670ms\n",
      "74:\tlearn: 1830.4714731\ttotal: 3.35s\tremaining: 625ms\n",
      "75:\tlearn: 1828.6441956\ttotal: 3.4s\tremaining: 581ms\n",
      "76:\tlearn: 1826.5430223\ttotal: 3.44s\tremaining: 536ms\n",
      "77:\tlearn: 1824.2517287\ttotal: 3.48s\tremaining: 491ms\n",
      "78:\tlearn: 1822.4136987\ttotal: 3.53s\tremaining: 447ms\n",
      "79:\tlearn: 1821.0242312\ttotal: 3.57s\tremaining: 402ms\n",
      "80:\tlearn: 1818.6804869\ttotal: 3.62s\tremaining: 357ms\n",
      "81:\tlearn: 1816.5866342\ttotal: 3.66s\tremaining: 312ms\n",
      "82:\tlearn: 1815.0108024\ttotal: 3.7s\tremaining: 268ms\n",
      "83:\tlearn: 1813.3728368\ttotal: 3.75s\tremaining: 223ms\n",
      "84:\tlearn: 1811.6584820\ttotal: 3.79s\tremaining: 179ms\n",
      "85:\tlearn: 1810.0219994\ttotal: 3.84s\tremaining: 134ms\n",
      "86:\tlearn: 1808.6019127\ttotal: 3.88s\tremaining: 89.2ms\n",
      "87:\tlearn: 1807.0331219\ttotal: 3.92s\tremaining: 44.6ms\n",
      "88:\tlearn: 1805.8656584\ttotal: 3.97s\tremaining: 0us\n",
      "0:\tlearn: 3793.2540306\ttotal: 42ms\tremaining: 3.7s\n",
      "1:\tlearn: 3262.0732884\ttotal: 84ms\tremaining: 3.65s\n",
      "2:\tlearn: 2886.4106894\ttotal: 126ms\tremaining: 3.61s\n",
      "3:\tlearn: 2639.1841003\ttotal: 169ms\tremaining: 3.58s\n",
      "4:\tlearn: 2467.4784246\ttotal: 210ms\tremaining: 3.53s\n",
      "5:\tlearn: 2354.8099243\ttotal: 253ms\tremaining: 3.5s\n",
      "6:\tlearn: 2281.4209723\ttotal: 304ms\tremaining: 3.56s\n",
      "7:\tlearn: 2216.2494074\ttotal: 350ms\tremaining: 3.54s\n",
      "8:\tlearn: 2178.7489735\ttotal: 392ms\tremaining: 3.49s\n",
      "9:\tlearn: 2146.5040044\ttotal: 435ms\tremaining: 3.44s\n",
      "10:\tlearn: 2120.5736180\ttotal: 478ms\tremaining: 3.39s\n",
      "11:\tlearn: 2100.7921750\ttotal: 521ms\tremaining: 3.34s\n",
      "12:\tlearn: 2086.8034886\ttotal: 566ms\tremaining: 3.31s\n",
      "13:\tlearn: 2070.0132713\ttotal: 611ms\tremaining: 3.27s\n",
      "14:\tlearn: 2059.5391469\ttotal: 675ms\tremaining: 3.33s\n",
      "15:\tlearn: 2049.9480505\ttotal: 729ms\tremaining: 3.33s\n",
      "16:\tlearn: 2040.9602919\ttotal: 781ms\tremaining: 3.31s\n",
      "17:\tlearn: 2029.5262290\ttotal: 830ms\tremaining: 3.27s\n",
      "18:\tlearn: 2021.2488110\ttotal: 886ms\tremaining: 3.26s\n",
      "19:\tlearn: 2014.3081136\ttotal: 935ms\tremaining: 3.22s\n",
      "20:\tlearn: 2007.8710649\ttotal: 979ms\tremaining: 3.17s\n",
      "21:\tlearn: 2002.1408252\ttotal: 1.03s\tremaining: 3.13s\n",
      "22:\tlearn: 1995.3808931\ttotal: 1.07s\tremaining: 3.07s\n",
      "23:\tlearn: 1991.3508238\ttotal: 1.11s\tremaining: 3.02s\n",
      "24:\tlearn: 1987.2875480\ttotal: 1.16s\tremaining: 2.97s\n",
      "25:\tlearn: 1980.8303811\ttotal: 1.2s\tremaining: 2.91s\n",
      "26:\tlearn: 1974.7049745\ttotal: 1.24s\tremaining: 2.86s\n",
      "27:\tlearn: 1969.1436464\ttotal: 1.29s\tremaining: 2.81s\n",
      "28:\tlearn: 1964.2616992\ttotal: 1.34s\tremaining: 2.77s\n",
      "29:\tlearn: 1960.5322598\ttotal: 1.38s\tremaining: 2.71s\n",
      "30:\tlearn: 1956.0237425\ttotal: 1.43s\tremaining: 2.67s\n",
      "31:\tlearn: 1951.3169932\ttotal: 1.47s\tremaining: 2.62s\n",
      "32:\tlearn: 1946.5587888\ttotal: 1.51s\tremaining: 2.56s\n",
      "33:\tlearn: 1940.8752621\ttotal: 1.55s\tremaining: 2.51s\n",
      "34:\tlearn: 1937.3570966\ttotal: 1.59s\tremaining: 2.46s\n",
      "35:\tlearn: 1934.1419387\ttotal: 1.64s\tremaining: 2.42s\n",
      "36:\tlearn: 1930.4915618\ttotal: 1.68s\tremaining: 2.37s\n",
      "37:\tlearn: 1926.6951713\ttotal: 1.73s\tremaining: 2.32s\n",
      "38:\tlearn: 1923.3866224\ttotal: 1.77s\tremaining: 2.27s\n",
      "39:\tlearn: 1920.5037917\ttotal: 1.81s\tremaining: 2.22s\n",
      "40:\tlearn: 1916.5041955\ttotal: 1.86s\tremaining: 2.17s\n",
      "41:\tlearn: 1912.3428862\ttotal: 1.9s\tremaining: 2.13s\n",
      "42:\tlearn: 1909.5479832\ttotal: 1.94s\tremaining: 2.08s\n",
      "43:\tlearn: 1906.2431148\ttotal: 1.99s\tremaining: 2.03s\n",
      "44:\tlearn: 1903.7626923\ttotal: 2.03s\tremaining: 1.98s\n",
      "45:\tlearn: 1900.9788886\ttotal: 2.07s\tremaining: 1.94s\n",
      "46:\tlearn: 1896.6982139\ttotal: 2.12s\tremaining: 1.89s\n",
      "47:\tlearn: 1894.4779619\ttotal: 2.16s\tremaining: 1.85s\n",
      "48:\tlearn: 1891.7123283\ttotal: 2.21s\tremaining: 1.8s\n",
      "49:\tlearn: 1889.2433491\ttotal: 2.25s\tremaining: 1.76s\n",
      "50:\tlearn: 1886.0227225\ttotal: 2.3s\tremaining: 1.71s\n",
      "51:\tlearn: 1882.5520231\ttotal: 2.34s\tremaining: 1.67s\n",
      "52:\tlearn: 1880.9491682\ttotal: 2.38s\tremaining: 1.62s\n",
      "53:\tlearn: 1877.9654430\ttotal: 2.43s\tremaining: 1.57s\n",
      "54:\tlearn: 1875.2047915\ttotal: 2.47s\tremaining: 1.53s\n",
      "55:\tlearn: 1871.6748759\ttotal: 2.52s\tremaining: 1.48s\n",
      "56:\tlearn: 1869.3571772\ttotal: 2.56s\tremaining: 1.44s\n",
      "57:\tlearn: 1866.6529880\ttotal: 2.6s\tremaining: 1.39s\n",
      "58:\tlearn: 1863.8942057\ttotal: 2.65s\tremaining: 1.35s\n",
      "59:\tlearn: 1862.1114497\ttotal: 2.7s\tremaining: 1.3s\n",
      "60:\tlearn: 1860.1735465\ttotal: 2.74s\tremaining: 1.26s\n",
      "61:\tlearn: 1857.7172771\ttotal: 2.78s\tremaining: 1.21s\n",
      "62:\tlearn: 1855.8571686\ttotal: 2.83s\tremaining: 1.17s\n",
      "63:\tlearn: 1854.0126122\ttotal: 2.87s\tremaining: 1.12s\n",
      "64:\tlearn: 1851.9439014\ttotal: 2.92s\tremaining: 1.08s\n",
      "65:\tlearn: 1849.9111650\ttotal: 2.96s\tremaining: 1.03s\n",
      "66:\tlearn: 1848.2315440\ttotal: 3.01s\tremaining: 987ms\n",
      "67:\tlearn: 1845.2582671\ttotal: 3.05s\tremaining: 942ms\n",
      "68:\tlearn: 1843.1516051\ttotal: 3.09s\tremaining: 896ms\n",
      "69:\tlearn: 1841.1058643\ttotal: 3.13s\tremaining: 851ms\n",
      "70:\tlearn: 1839.0207556\ttotal: 3.18s\tremaining: 805ms\n",
      "71:\tlearn: 1837.1403940\ttotal: 3.22s\tremaining: 761ms\n",
      "72:\tlearn: 1835.4116196\ttotal: 3.27s\tremaining: 716ms\n",
      "73:\tlearn: 1832.8961708\ttotal: 3.31s\tremaining: 671ms\n",
      "74:\tlearn: 1831.3448944\ttotal: 3.36s\tremaining: 626ms\n",
      "75:\tlearn: 1829.3957004\ttotal: 3.4s\tremaining: 582ms\n",
      "76:\tlearn: 1827.7366484\ttotal: 3.44s\tremaining: 536ms\n",
      "77:\tlearn: 1825.0228055\ttotal: 3.48s\tremaining: 491ms\n",
      "78:\tlearn: 1823.3633495\ttotal: 3.52s\tremaining: 446ms\n",
      "79:\tlearn: 1821.2473326\ttotal: 3.57s\tremaining: 401ms\n",
      "80:\tlearn: 1820.0653372\ttotal: 3.61s\tremaining: 357ms\n",
      "81:\tlearn: 1818.8025108\ttotal: 3.66s\tremaining: 312ms\n",
      "82:\tlearn: 1816.7353031\ttotal: 3.71s\tremaining: 268ms\n",
      "83:\tlearn: 1815.4673794\ttotal: 3.75s\tremaining: 223ms\n",
      "84:\tlearn: 1813.5427768\ttotal: 3.8s\tremaining: 179ms\n",
      "85:\tlearn: 1812.3130286\ttotal: 3.85s\tremaining: 134ms\n",
      "86:\tlearn: 1810.2957312\ttotal: 3.89s\tremaining: 89.4ms\n",
      "87:\tlearn: 1808.3410049\ttotal: 3.93s\tremaining: 44.7ms\n",
      "88:\tlearn: 1806.9725135\ttotal: 3.98s\tremaining: 0us\n",
      "0:\tlearn: 3794.0592430\ttotal: 42.6ms\tremaining: 3.75s\n",
      "1:\tlearn: 3258.3520187\ttotal: 85.5ms\tremaining: 3.72s\n",
      "2:\tlearn: 2885.4467856\ttotal: 130ms\tremaining: 3.74s\n",
      "3:\tlearn: 2642.4060695\ttotal: 174ms\tremaining: 3.69s\n",
      "4:\tlearn: 2476.8123174\ttotal: 219ms\tremaining: 3.68s\n",
      "5:\tlearn: 2362.7108009\ttotal: 262ms\tremaining: 3.63s\n",
      "6:\tlearn: 2282.5850946\ttotal: 307ms\tremaining: 3.6s\n",
      "7:\tlearn: 2228.7772659\ttotal: 351ms\tremaining: 3.56s\n",
      "8:\tlearn: 2187.9933531\ttotal: 394ms\tremaining: 3.5s\n",
      "9:\tlearn: 2154.7308651\ttotal: 436ms\tremaining: 3.44s\n",
      "10:\tlearn: 2129.2747483\ttotal: 479ms\tremaining: 3.4s\n",
      "11:\tlearn: 2110.2736018\ttotal: 523ms\tremaining: 3.36s\n",
      "12:\tlearn: 2094.9819266\ttotal: 576ms\tremaining: 3.37s\n",
      "13:\tlearn: 2079.2636688\ttotal: 620ms\tremaining: 3.32s\n",
      "14:\tlearn: 2070.2022894\ttotal: 663ms\tremaining: 3.27s\n",
      "15:\tlearn: 2060.0762241\ttotal: 708ms\tremaining: 3.23s\n",
      "16:\tlearn: 2050.0793437\ttotal: 755ms\tremaining: 3.2s\n",
      "17:\tlearn: 2037.5084784\ttotal: 799ms\tremaining: 3.15s\n",
      "18:\tlearn: 2028.5013292\ttotal: 845ms\tremaining: 3.11s\n",
      "19:\tlearn: 2018.5085251\ttotal: 889ms\tremaining: 3.07s\n",
      "20:\tlearn: 2013.9929753\ttotal: 937ms\tremaining: 3.03s\n",
      "21:\tlearn: 2006.1502061\ttotal: 982ms\tremaining: 2.99s\n",
      "22:\tlearn: 1999.7242001\ttotal: 1.02s\tremaining: 2.94s\n",
      "23:\tlearn: 1994.9143828\ttotal: 1.07s\tremaining: 2.9s\n",
      "24:\tlearn: 1991.1725730\ttotal: 1.12s\tremaining: 2.86s\n",
      "25:\tlearn: 1982.6240943\ttotal: 1.16s\tremaining: 2.81s\n",
      "26:\tlearn: 1977.2335872\ttotal: 1.21s\tremaining: 2.77s\n",
      "27:\tlearn: 1972.5115504\ttotal: 1.25s\tremaining: 2.73s\n",
      "28:\tlearn: 1968.3370373\ttotal: 1.3s\tremaining: 2.69s\n",
      "29:\tlearn: 1963.7041987\ttotal: 1.35s\tremaining: 2.65s\n",
      "30:\tlearn: 1960.6317978\ttotal: 1.39s\tremaining: 2.6s\n",
      "31:\tlearn: 1954.7698383\ttotal: 1.44s\tremaining: 2.56s\n",
      "32:\tlearn: 1951.8130156\ttotal: 1.48s\tremaining: 2.52s\n",
      "33:\tlearn: 1948.6443071\ttotal: 1.53s\tremaining: 2.47s\n",
      "34:\tlearn: 1941.8223515\ttotal: 1.58s\tremaining: 2.44s\n",
      "35:\tlearn: 1939.5825445\ttotal: 1.64s\tremaining: 2.41s\n",
      "36:\tlearn: 1935.5183151\ttotal: 1.68s\tremaining: 2.36s\n",
      "37:\tlearn: 1931.4374482\ttotal: 1.74s\tremaining: 2.33s\n",
      "38:\tlearn: 1927.9869813\ttotal: 1.78s\tremaining: 2.29s\n",
      "39:\tlearn: 1924.4176696\ttotal: 1.83s\tremaining: 2.24s\n",
      "40:\tlearn: 1921.3503782\ttotal: 1.87s\tremaining: 2.19s\n",
      "41:\tlearn: 1917.7864975\ttotal: 1.92s\tremaining: 2.15s\n",
      "42:\tlearn: 1915.0994130\ttotal: 1.97s\tremaining: 2.1s\n",
      "43:\tlearn: 1911.1023601\ttotal: 2.01s\tremaining: 2.05s\n",
      "44:\tlearn: 1907.4270352\ttotal: 2.05s\tremaining: 2.01s\n",
      "45:\tlearn: 1902.8666230\ttotal: 2.1s\tremaining: 1.96s\n",
      "46:\tlearn: 1900.4210979\ttotal: 2.14s\tremaining: 1.92s\n",
      "47:\tlearn: 1898.0981533\ttotal: 2.19s\tremaining: 1.87s\n",
      "48:\tlearn: 1895.5643598\ttotal: 2.23s\tremaining: 1.82s\n",
      "49:\tlearn: 1893.0862489\ttotal: 2.28s\tremaining: 1.78s\n",
      "50:\tlearn: 1891.2585498\ttotal: 2.33s\tremaining: 1.73s\n",
      "51:\tlearn: 1887.9435578\ttotal: 2.37s\tremaining: 1.69s\n",
      "52:\tlearn: 1885.5383085\ttotal: 2.42s\tremaining: 1.64s\n",
      "53:\tlearn: 1881.2582983\ttotal: 2.46s\tremaining: 1.6s\n",
      "54:\tlearn: 1878.6789558\ttotal: 2.51s\tremaining: 1.55s\n",
      "55:\tlearn: 1876.3837063\ttotal: 2.55s\tremaining: 1.5s\n",
      "56:\tlearn: 1874.6753495\ttotal: 2.6s\tremaining: 1.46s\n",
      "57:\tlearn: 1872.1750517\ttotal: 2.65s\tremaining: 1.42s\n",
      "58:\tlearn: 1870.3112697\ttotal: 2.69s\tremaining: 1.37s\n",
      "59:\tlearn: 1867.2867345\ttotal: 2.74s\tremaining: 1.32s\n",
      "60:\tlearn: 1865.2320331\ttotal: 2.78s\tremaining: 1.28s\n",
      "61:\tlearn: 1863.0107881\ttotal: 2.83s\tremaining: 1.23s\n",
      "62:\tlearn: 1861.1460902\ttotal: 2.88s\tremaining: 1.19s\n",
      "63:\tlearn: 1858.4646804\ttotal: 2.92s\tremaining: 1.14s\n",
      "64:\tlearn: 1856.5230525\ttotal: 2.97s\tremaining: 1.1s\n",
      "65:\tlearn: 1854.4943961\ttotal: 3.02s\tremaining: 1.05s\n",
      "66:\tlearn: 1852.2424455\ttotal: 3.06s\tremaining: 1.01s\n",
      "67:\tlearn: 1850.2703264\ttotal: 3.11s\tremaining: 960ms\n",
      "68:\tlearn: 1848.6905846\ttotal: 3.15s\tremaining: 915ms\n",
      "69:\tlearn: 1846.5083521\ttotal: 3.2s\tremaining: 869ms\n",
      "70:\tlearn: 1844.4460648\ttotal: 3.24s\tremaining: 823ms\n",
      "71:\tlearn: 1843.4122254\ttotal: 3.29s\tremaining: 777ms\n",
      "72:\tlearn: 1841.0062964\ttotal: 3.34s\tremaining: 731ms\n",
      "73:\tlearn: 1838.9705631\ttotal: 3.38s\tremaining: 686ms\n",
      "74:\tlearn: 1835.8831742\ttotal: 3.43s\tremaining: 640ms\n",
      "75:\tlearn: 1833.7295599\ttotal: 3.47s\tremaining: 594ms\n",
      "76:\tlearn: 1832.0475931\ttotal: 3.52s\tremaining: 548ms\n",
      "77:\tlearn: 1829.5322667\ttotal: 3.56s\tremaining: 502ms\n",
      "78:\tlearn: 1827.1310169\ttotal: 3.61s\tremaining: 457ms\n",
      "79:\tlearn: 1824.9432952\ttotal: 3.65s\tremaining: 411ms\n",
      "80:\tlearn: 1822.9760137\ttotal: 3.7s\tremaining: 366ms\n",
      "81:\tlearn: 1821.3188320\ttotal: 3.75s\tremaining: 320ms\n",
      "82:\tlearn: 1818.7372027\ttotal: 3.79s\tremaining: 274ms\n",
      "83:\tlearn: 1816.4847868\ttotal: 3.83s\tremaining: 228ms\n",
      "84:\tlearn: 1814.5368515\ttotal: 3.88s\tremaining: 183ms\n",
      "85:\tlearn: 1813.5531830\ttotal: 3.92s\tremaining: 137ms\n",
      "86:\tlearn: 1811.8640504\ttotal: 3.97s\tremaining: 91.2ms\n",
      "87:\tlearn: 1809.6478906\ttotal: 4.01s\tremaining: 45.6ms\n",
      "88:\tlearn: 1807.9140007\ttotal: 4.06s\tremaining: 0us\n",
      "0:\tlearn: 3430.4790115\ttotal: 19.6ms\tremaining: 648ms\n",
      "1:\tlearn: 2874.5250597\ttotal: 40.2ms\tremaining: 643ms\n",
      "2:\tlearn: 2622.4147179\ttotal: 60.4ms\tremaining: 624ms\n",
      "3:\tlearn: 2499.8576684\ttotal: 80.5ms\tremaining: 604ms\n",
      "4:\tlearn: 2413.1892577\ttotal: 99.9ms\tremaining: 580ms\n",
      "5:\tlearn: 2376.7551279\ttotal: 119ms\tremaining: 554ms\n",
      "6:\tlearn: 2337.7242459\ttotal: 138ms\tremaining: 533ms\n",
      "7:\tlearn: 2306.6469229\ttotal: 156ms\tremaining: 507ms\n",
      "8:\tlearn: 2286.7580119\ttotal: 175ms\tremaining: 486ms\n",
      "9:\tlearn: 2268.9103583\ttotal: 195ms\tremaining: 467ms\n",
      "10:\tlearn: 2255.8612282\ttotal: 214ms\tremaining: 448ms\n",
      "11:\tlearn: 2244.9777706\ttotal: 234ms\tremaining: 428ms\n",
      "12:\tlearn: 2233.5908527\ttotal: 254ms\tremaining: 410ms\n",
      "13:\tlearn: 2221.3108691\ttotal: 273ms\tremaining: 390ms\n",
      "14:\tlearn: 2214.0706881\ttotal: 290ms\tremaining: 368ms\n",
      "15:\tlearn: 2202.5456093\ttotal: 309ms\tremaining: 348ms\n",
      "16:\tlearn: 2193.2565829\ttotal: 330ms\tremaining: 330ms\n",
      "17:\tlearn: 2181.0308472\ttotal: 350ms\tremaining: 311ms\n",
      "18:\tlearn: 2172.5251079\ttotal: 369ms\tremaining: 292ms\n",
      "19:\tlearn: 2168.2459818\ttotal: 389ms\tremaining: 272ms\n",
      "20:\tlearn: 2159.2038712\ttotal: 409ms\tremaining: 253ms\n",
      "21:\tlearn: 2152.2331547\ttotal: 429ms\tremaining: 234ms\n",
      "22:\tlearn: 2145.1398529\ttotal: 451ms\tremaining: 216ms\n",
      "23:\tlearn: 2140.0357878\ttotal: 471ms\tremaining: 196ms\n",
      "24:\tlearn: 2134.2527665\ttotal: 490ms\tremaining: 176ms\n",
      "25:\tlearn: 2129.9676151\ttotal: 511ms\tremaining: 157ms\n",
      "26:\tlearn: 2124.0796607\ttotal: 531ms\tremaining: 138ms\n",
      "27:\tlearn: 2116.5440250\ttotal: 550ms\tremaining: 118ms\n",
      "28:\tlearn: 2111.9783339\ttotal: 571ms\tremaining: 98.5ms\n",
      "29:\tlearn: 2107.1653716\ttotal: 591ms\tremaining: 78.8ms\n",
      "30:\tlearn: 2104.2532411\ttotal: 610ms\tremaining: 59ms\n",
      "31:\tlearn: 2098.7689168\ttotal: 631ms\tremaining: 39.5ms\n",
      "32:\tlearn: 2095.0834828\ttotal: 649ms\tremaining: 19.7ms\n",
      "33:\tlearn: 2089.8269786\ttotal: 669ms\tremaining: 0us\n",
      "0:\tlearn: 3432.6869281\ttotal: 21.4ms\tremaining: 707ms\n",
      "1:\tlearn: 2871.7082703\ttotal: 43.6ms\tremaining: 697ms\n",
      "2:\tlearn: 2612.6572046\ttotal: 65.7ms\tremaining: 679ms\n",
      "3:\tlearn: 2484.9196247\ttotal: 87.8ms\tremaining: 658ms\n",
      "4:\tlearn: 2419.1918023\ttotal: 108ms\tremaining: 629ms\n",
      "5:\tlearn: 2380.0747795\ttotal: 131ms\tremaining: 613ms\n",
      "6:\tlearn: 2336.1775333\ttotal: 153ms\tremaining: 591ms\n",
      "7:\tlearn: 2300.7481498\ttotal: 174ms\tremaining: 566ms\n",
      "8:\tlearn: 2280.8030247\ttotal: 196ms\tremaining: 544ms\n",
      "9:\tlearn: 2262.9346035\ttotal: 221ms\tremaining: 529ms\n",
      "10:\tlearn: 2245.6579934\ttotal: 241ms\tremaining: 504ms\n",
      "11:\tlearn: 2234.5457802\ttotal: 263ms\tremaining: 483ms\n",
      "12:\tlearn: 2219.0378614\ttotal: 285ms\tremaining: 460ms\n",
      "13:\tlearn: 2206.0396803\ttotal: 307ms\tremaining: 438ms\n",
      "14:\tlearn: 2197.9408319\ttotal: 327ms\tremaining: 415ms\n",
      "15:\tlearn: 2186.0845657\ttotal: 348ms\tremaining: 392ms\n",
      "16:\tlearn: 2174.0649188\ttotal: 372ms\tremaining: 372ms\n",
      "17:\tlearn: 2167.5608940\ttotal: 393ms\tremaining: 349ms\n",
      "18:\tlearn: 2162.4765336\ttotal: 416ms\tremaining: 328ms\n",
      "19:\tlearn: 2154.5760424\ttotal: 437ms\tremaining: 306ms\n",
      "20:\tlearn: 2148.2654569\ttotal: 460ms\tremaining: 285ms\n",
      "21:\tlearn: 2143.3693714\ttotal: 481ms\tremaining: 262ms\n",
      "22:\tlearn: 2137.4457622\ttotal: 503ms\tremaining: 241ms\n",
      "23:\tlearn: 2129.4635573\ttotal: 526ms\tremaining: 219ms\n",
      "24:\tlearn: 2121.3655753\ttotal: 547ms\tremaining: 197ms\n",
      "25:\tlearn: 2114.6317598\ttotal: 568ms\tremaining: 175ms\n",
      "26:\tlearn: 2110.6281118\ttotal: 589ms\tremaining: 153ms\n",
      "27:\tlearn: 2107.1889139\ttotal: 611ms\tremaining: 131ms\n",
      "28:\tlearn: 2103.4616585\ttotal: 634ms\tremaining: 109ms\n",
      "29:\tlearn: 2099.1118496\ttotal: 657ms\tremaining: 87.6ms\n",
      "30:\tlearn: 2093.9769069\ttotal: 679ms\tremaining: 65.7ms\n",
      "31:\tlearn: 2088.5013156\ttotal: 702ms\tremaining: 43.9ms\n",
      "32:\tlearn: 2083.8952250\ttotal: 723ms\tremaining: 21.9ms\n",
      "33:\tlearn: 2080.9756053\ttotal: 746ms\tremaining: 0us\n",
      "0:\tlearn: 3441.8287267\ttotal: 21.2ms\tremaining: 699ms\n",
      "1:\tlearn: 2869.1342037\ttotal: 42.9ms\tremaining: 687ms\n",
      "2:\tlearn: 2632.7689559\ttotal: 65.7ms\tremaining: 679ms\n",
      "3:\tlearn: 2491.1774531\ttotal: 87.6ms\tremaining: 657ms\n",
      "4:\tlearn: 2429.5679906\ttotal: 108ms\tremaining: 629ms\n",
      "5:\tlearn: 2383.2391870\ttotal: 129ms\tremaining: 604ms\n",
      "6:\tlearn: 2341.9273202\ttotal: 150ms\tremaining: 580ms\n",
      "7:\tlearn: 2311.7538415\ttotal: 171ms\tremaining: 555ms\n",
      "8:\tlearn: 2292.6881430\ttotal: 193ms\tremaining: 537ms\n",
      "9:\tlearn: 2267.4973416\ttotal: 215ms\tremaining: 515ms\n",
      "10:\tlearn: 2250.8248682\ttotal: 236ms\tremaining: 493ms\n",
      "11:\tlearn: 2237.5020910\ttotal: 258ms\tremaining: 472ms\n",
      "12:\tlearn: 2222.4518017\ttotal: 283ms\tremaining: 457ms\n",
      "13:\tlearn: 2208.4175039\ttotal: 303ms\tremaining: 434ms\n",
      "14:\tlearn: 2197.5405076\ttotal: 324ms\tremaining: 411ms\n",
      "15:\tlearn: 2187.4861833\ttotal: 346ms\tremaining: 389ms\n",
      "16:\tlearn: 2179.4815917\ttotal: 368ms\tremaining: 368ms\n",
      "17:\tlearn: 2169.7808186\ttotal: 389ms\tremaining: 346ms\n",
      "18:\tlearn: 2158.4159862\ttotal: 410ms\tremaining: 324ms\n",
      "19:\tlearn: 2149.7812540\ttotal: 432ms\tremaining: 302ms\n",
      "20:\tlearn: 2141.3713214\ttotal: 454ms\tremaining: 281ms\n",
      "21:\tlearn: 2136.2901869\ttotal: 475ms\tremaining: 259ms\n",
      "22:\tlearn: 2131.4402254\ttotal: 498ms\tremaining: 238ms\n",
      "23:\tlearn: 2125.1387808\ttotal: 520ms\tremaining: 217ms\n",
      "24:\tlearn: 2119.2563979\ttotal: 542ms\tremaining: 195ms\n",
      "25:\tlearn: 2115.5126567\ttotal: 564ms\tremaining: 173ms\n",
      "26:\tlearn: 2111.8067740\ttotal: 585ms\tremaining: 152ms\n",
      "27:\tlearn: 2106.5680630\ttotal: 608ms\tremaining: 130ms\n",
      "28:\tlearn: 2104.4096606\ttotal: 629ms\tremaining: 108ms\n",
      "29:\tlearn: 2099.7851098\ttotal: 652ms\tremaining: 86.9ms\n",
      "30:\tlearn: 2096.5662588\ttotal: 680ms\tremaining: 65.8ms\n",
      "31:\tlearn: 2093.0313756\ttotal: 701ms\tremaining: 43.8ms\n",
      "32:\tlearn: 2088.1677338\ttotal: 723ms\tremaining: 21.9ms\n",
      "33:\tlearn: 2082.6266207\ttotal: 746ms\tremaining: 0us\n",
      "0:\tlearn: 3377.3406183\ttotal: 22.5ms\tremaining: 743ms\n",
      "1:\tlearn: 2858.0506041\ttotal: 48.5ms\tremaining: 775ms\n",
      "2:\tlearn: 2590.2628324\ttotal: 70.6ms\tremaining: 730ms\n",
      "3:\tlearn: 2461.3618456\ttotal: 94.9ms\tremaining: 711ms\n",
      "4:\tlearn: 2396.9578231\ttotal: 116ms\tremaining: 674ms\n",
      "5:\tlearn: 2354.8482541\ttotal: 138ms\tremaining: 642ms\n",
      "6:\tlearn: 2317.8769303\ttotal: 160ms\tremaining: 616ms\n",
      "7:\tlearn: 2296.4378053\ttotal: 181ms\tremaining: 587ms\n",
      "8:\tlearn: 2265.7794839\ttotal: 207ms\tremaining: 574ms\n",
      "9:\tlearn: 2245.8149500\ttotal: 231ms\tremaining: 554ms\n",
      "10:\tlearn: 2230.4912125\ttotal: 253ms\tremaining: 528ms\n",
      "11:\tlearn: 2220.4567090\ttotal: 273ms\tremaining: 500ms\n",
      "12:\tlearn: 2211.6426899\ttotal: 293ms\tremaining: 474ms\n",
      "13:\tlearn: 2200.7340247\ttotal: 315ms\tremaining: 450ms\n",
      "14:\tlearn: 2187.5260709\ttotal: 338ms\tremaining: 428ms\n",
      "15:\tlearn: 2178.0594713\ttotal: 361ms\tremaining: 406ms\n",
      "16:\tlearn: 2171.1984144\ttotal: 382ms\tremaining: 382ms\n",
      "17:\tlearn: 2163.2987353\ttotal: 404ms\tremaining: 359ms\n",
      "18:\tlearn: 2153.1836407\ttotal: 426ms\tremaining: 336ms\n",
      "19:\tlearn: 2141.2808613\ttotal: 448ms\tremaining: 314ms\n",
      "20:\tlearn: 2136.3979700\ttotal: 469ms\tremaining: 291ms\n",
      "21:\tlearn: 2132.1353310\ttotal: 490ms\tremaining: 267ms\n",
      "22:\tlearn: 2126.3211790\ttotal: 511ms\tremaining: 244ms\n",
      "23:\tlearn: 2120.5029023\ttotal: 532ms\tremaining: 222ms\n",
      "24:\tlearn: 2116.7305563\ttotal: 554ms\tremaining: 199ms\n",
      "25:\tlearn: 2113.6111486\ttotal: 574ms\tremaining: 177ms\n",
      "26:\tlearn: 2109.6386432\ttotal: 595ms\tremaining: 154ms\n",
      "27:\tlearn: 2105.1392920\ttotal: 616ms\tremaining: 132ms\n",
      "28:\tlearn: 2101.1566464\ttotal: 638ms\tremaining: 110ms\n",
      "29:\tlearn: 2093.6214082\ttotal: 660ms\tremaining: 88ms\n",
      "30:\tlearn: 2090.1505890\ttotal: 682ms\tremaining: 66ms\n",
      "31:\tlearn: 2087.0147117\ttotal: 703ms\tremaining: 43.9ms\n",
      "32:\tlearn: 2082.1968760\ttotal: 727ms\tremaining: 22ms\n",
      "33:\tlearn: 2077.6053292\ttotal: 749ms\tremaining: 0us\n",
      "0:\tlearn: 3432.1871811\ttotal: 21.3ms\tremaining: 701ms\n",
      "1:\tlearn: 2882.2061942\ttotal: 42.8ms\tremaining: 686ms\n",
      "2:\tlearn: 2628.8505228\ttotal: 65.5ms\tremaining: 677ms\n",
      "3:\tlearn: 2498.4092715\ttotal: 87.2ms\tremaining: 654ms\n",
      "4:\tlearn: 2426.1236664\ttotal: 109ms\tremaining: 631ms\n",
      "5:\tlearn: 2389.0930610\ttotal: 130ms\tremaining: 609ms\n",
      "6:\tlearn: 2346.5539450\ttotal: 152ms\tremaining: 587ms\n",
      "7:\tlearn: 2312.7876477\ttotal: 173ms\tremaining: 564ms\n",
      "8:\tlearn: 2294.9297152\ttotal: 195ms\tremaining: 541ms\n",
      "9:\tlearn: 2278.5034786\ttotal: 217ms\tremaining: 521ms\n",
      "10:\tlearn: 2264.0874678\ttotal: 238ms\tremaining: 498ms\n",
      "11:\tlearn: 2244.1668877\ttotal: 260ms\tremaining: 477ms\n",
      "12:\tlearn: 2233.6900662\ttotal: 281ms\tremaining: 454ms\n",
      "13:\tlearn: 2221.2535069\ttotal: 302ms\tremaining: 431ms\n",
      "14:\tlearn: 2207.4185270\ttotal: 324ms\tremaining: 410ms\n",
      "15:\tlearn: 2195.2343611\ttotal: 344ms\tremaining: 387ms\n",
      "16:\tlearn: 2187.2689758\ttotal: 365ms\tremaining: 365ms\n",
      "17:\tlearn: 2177.8306367\ttotal: 386ms\tremaining: 343ms\n",
      "18:\tlearn: 2170.8139756\ttotal: 407ms\tremaining: 321ms\n",
      "19:\tlearn: 2163.3117503\ttotal: 429ms\tremaining: 300ms\n",
      "20:\tlearn: 2156.8512727\ttotal: 451ms\tremaining: 279ms\n",
      "21:\tlearn: 2150.3084897\ttotal: 478ms\tremaining: 261ms\n",
      "22:\tlearn: 2144.2602691\ttotal: 499ms\tremaining: 239ms\n",
      "23:\tlearn: 2138.0834692\ttotal: 523ms\tremaining: 218ms\n",
      "24:\tlearn: 2131.7180861\ttotal: 544ms\tremaining: 196ms\n",
      "25:\tlearn: 2126.6996125\ttotal: 566ms\tremaining: 174ms\n",
      "26:\tlearn: 2121.3394778\ttotal: 588ms\tremaining: 152ms\n",
      "27:\tlearn: 2117.4233980\ttotal: 609ms\tremaining: 131ms\n",
      "28:\tlearn: 2112.9124587\ttotal: 630ms\tremaining: 109ms\n",
      "29:\tlearn: 2109.7355000\ttotal: 650ms\tremaining: 86.7ms\n",
      "30:\tlearn: 2105.9353503\ttotal: 673ms\tremaining: 65.1ms\n",
      "31:\tlearn: 2101.4583271\ttotal: 694ms\tremaining: 43.4ms\n",
      "32:\tlearn: 2097.9810998\ttotal: 714ms\tremaining: 21.6ms\n",
      "33:\tlearn: 2086.2267101\ttotal: 736ms\tremaining: 0us\n",
      "0:\tlearn: 4302.9243480\ttotal: 20.8ms\tremaining: 229ms\n",
      "1:\tlearn: 4065.7354392\ttotal: 43.6ms\tremaining: 218ms\n",
      "2:\tlearn: 3863.3974761\ttotal: 65.6ms\tremaining: 197ms\n",
      "3:\tlearn: 3687.1455700\ttotal: 87.3ms\tremaining: 175ms\n",
      "4:\tlearn: 3517.4230749\ttotal: 109ms\tremaining: 153ms\n",
      "5:\tlearn: 3378.8294979\ttotal: 131ms\tremaining: 131ms\n",
      "6:\tlearn: 3247.7083123\ttotal: 153ms\tremaining: 109ms\n",
      "7:\tlearn: 3137.5456151\ttotal: 175ms\tremaining: 87.6ms\n",
      "8:\tlearn: 3038.6244808\ttotal: 198ms\tremaining: 66ms\n",
      "9:\tlearn: 2952.4461183\ttotal: 220ms\tremaining: 44ms\n",
      "10:\tlearn: 2877.1347452\ttotal: 241ms\tremaining: 21.9ms\n",
      "11:\tlearn: 2810.1458200\ttotal: 263ms\tremaining: 0us\n",
      "0:\tlearn: 4300.9264462\ttotal: 20.8ms\tremaining: 229ms\n",
      "1:\tlearn: 4066.7406250\ttotal: 42.4ms\tremaining: 212ms\n",
      "2:\tlearn: 3859.6087944\ttotal: 64.1ms\tremaining: 192ms\n",
      "3:\tlearn: 3683.5516328\ttotal: 85.9ms\tremaining: 172ms\n",
      "4:\tlearn: 3515.5399249\ttotal: 107ms\tremaining: 150ms\n",
      "5:\tlearn: 3373.3316403\ttotal: 129ms\tremaining: 129ms\n",
      "6:\tlearn: 3248.9652252\ttotal: 151ms\tremaining: 108ms\n",
      "7:\tlearn: 3139.7523320\ttotal: 173ms\tremaining: 86.5ms\n",
      "8:\tlearn: 3039.3119444\ttotal: 195ms\tremaining: 64.9ms\n",
      "9:\tlearn: 2955.6395049\ttotal: 218ms\tremaining: 43.5ms\n",
      "10:\tlearn: 2886.6533486\ttotal: 240ms\tremaining: 21.8ms\n",
      "11:\tlearn: 2824.9517784\ttotal: 263ms\tremaining: 0us\n",
      "0:\tlearn: 4306.8381619\ttotal: 21.2ms\tremaining: 233ms\n",
      "1:\tlearn: 4070.1073371\ttotal: 43.7ms\tremaining: 218ms\n",
      "2:\tlearn: 3869.6586588\ttotal: 65.6ms\tremaining: 197ms\n",
      "3:\tlearn: 3682.8793818\ttotal: 87.5ms\tremaining: 175ms\n",
      "4:\tlearn: 3522.7091682\ttotal: 109ms\tremaining: 153ms\n",
      "5:\tlearn: 3382.0135713\ttotal: 132ms\tremaining: 132ms\n",
      "6:\tlearn: 3261.4442582\ttotal: 154ms\tremaining: 110ms\n",
      "7:\tlearn: 3148.5401852\ttotal: 175ms\tremaining: 87.4ms\n",
      "8:\tlearn: 3051.0413289\ttotal: 199ms\tremaining: 66.2ms\n",
      "9:\tlearn: 2965.5316739\ttotal: 220ms\tremaining: 44ms\n",
      "10:\tlearn: 2893.9185217\ttotal: 243ms\tremaining: 22.1ms\n",
      "11:\tlearn: 2825.2277865\ttotal: 265ms\tremaining: 0us\n",
      "0:\tlearn: 4292.0037965\ttotal: 21.2ms\tremaining: 233ms\n",
      "1:\tlearn: 4065.3928078\ttotal: 44.1ms\tremaining: 220ms\n",
      "2:\tlearn: 3861.9216690\ttotal: 66.6ms\tremaining: 200ms\n",
      "3:\tlearn: 3687.3537676\ttotal: 88.6ms\tremaining: 177ms\n",
      "4:\tlearn: 3532.9182158\ttotal: 111ms\tremaining: 155ms\n",
      "5:\tlearn: 3382.8495694\ttotal: 133ms\tremaining: 133ms\n",
      "6:\tlearn: 3254.6444532\ttotal: 155ms\tremaining: 111ms\n",
      "7:\tlearn: 3144.2923136\ttotal: 178ms\tremaining: 89ms\n",
      "8:\tlearn: 3042.0179273\ttotal: 201ms\tremaining: 66.9ms\n",
      "9:\tlearn: 2958.4776814\ttotal: 223ms\tremaining: 44.6ms\n",
      "10:\tlearn: 2880.8899350\ttotal: 245ms\tremaining: 22.2ms\n",
      "11:\tlearn: 2813.8814820\ttotal: 267ms\tremaining: 0us\n",
      "0:\tlearn: 4299.2101974\ttotal: 22.8ms\tremaining: 251ms\n",
      "1:\tlearn: 4063.2921884\ttotal: 45.8ms\tremaining: 229ms\n",
      "2:\tlearn: 3861.4354939\ttotal: 68.1ms\tremaining: 204ms\n",
      "3:\tlearn: 3674.0921912\ttotal: 91.1ms\tremaining: 182ms\n",
      "4:\tlearn: 3512.9687778\ttotal: 115ms\tremaining: 161ms\n",
      "5:\tlearn: 3372.2075842\ttotal: 139ms\tremaining: 139ms\n",
      "6:\tlearn: 3251.0058445\ttotal: 162ms\tremaining: 116ms\n",
      "7:\tlearn: 3140.6744142\ttotal: 185ms\tremaining: 92.5ms\n",
      "8:\tlearn: 3048.4026088\ttotal: 208ms\tremaining: 69.2ms\n",
      "9:\tlearn: 2963.1323347\ttotal: 232ms\tremaining: 46.4ms\n",
      "10:\tlearn: 2894.1804004\ttotal: 255ms\tremaining: 23.2ms\n",
      "11:\tlearn: 2823.7019887\ttotal: 277ms\tremaining: 0us\n",
      "0:\tlearn: 2797.3527409\ttotal: 27.8ms\tremaining: 2.44s\n",
      "1:\tlearn: 2413.6090451\ttotal: 57.2ms\tremaining: 2.49s\n",
      "2:\tlearn: 2335.0175016\ttotal: 85.7ms\tremaining: 2.46s\n",
      "3:\tlearn: 2269.5645145\ttotal: 114ms\tremaining: 2.42s\n",
      "4:\tlearn: 2222.7022777\ttotal: 142ms\tremaining: 2.39s\n",
      "5:\tlearn: 2187.6270108\ttotal: 171ms\tremaining: 2.36s\n",
      "6:\tlearn: 2160.6651748\ttotal: 201ms\tremaining: 2.36s\n",
      "7:\tlearn: 2133.0101767\ttotal: 232ms\tremaining: 2.34s\n",
      "8:\tlearn: 2115.8466122\ttotal: 260ms\tremaining: 2.31s\n",
      "9:\tlearn: 2099.8191387\ttotal: 292ms\tremaining: 2.3s\n",
      "10:\tlearn: 2087.0569791\ttotal: 320ms\tremaining: 2.27s\n",
      "11:\tlearn: 2073.9759137\ttotal: 349ms\tremaining: 2.24s\n",
      "12:\tlearn: 2064.9215840\ttotal: 377ms\tremaining: 2.21s\n",
      "13:\tlearn: 2053.9534456\ttotal: 404ms\tremaining: 2.17s\n",
      "14:\tlearn: 2043.1937201\ttotal: 433ms\tremaining: 2.14s\n",
      "15:\tlearn: 2033.7194647\ttotal: 463ms\tremaining: 2.11s\n",
      "16:\tlearn: 2027.5691500\ttotal: 490ms\tremaining: 2.08s\n",
      "17:\tlearn: 2019.9704649\ttotal: 520ms\tremaining: 2.05s\n",
      "18:\tlearn: 2011.4246724\ttotal: 550ms\tremaining: 2.02s\n",
      "19:\tlearn: 2007.6444745\ttotal: 574ms\tremaining: 1.98s\n",
      "20:\tlearn: 2003.7337853\ttotal: 601ms\tremaining: 1.95s\n",
      "21:\tlearn: 1996.9344976\ttotal: 631ms\tremaining: 1.92s\n",
      "22:\tlearn: 1987.7562305\ttotal: 660ms\tremaining: 1.89s\n",
      "23:\tlearn: 1978.6475530\ttotal: 690ms\tremaining: 1.87s\n",
      "24:\tlearn: 1973.3849560\ttotal: 721ms\tremaining: 1.84s\n",
      "25:\tlearn: 1966.2552174\ttotal: 751ms\tremaining: 1.82s\n",
      "26:\tlearn: 1962.6752999\ttotal: 782ms\tremaining: 1.8s\n",
      "27:\tlearn: 1956.9326266\ttotal: 812ms\tremaining: 1.77s\n",
      "28:\tlearn: 1952.5730068\ttotal: 841ms\tremaining: 1.74s\n",
      "29:\tlearn: 1949.2560895\ttotal: 867ms\tremaining: 1.71s\n",
      "30:\tlearn: 1944.8707512\ttotal: 896ms\tremaining: 1.68s\n",
      "31:\tlearn: 1938.6012939\ttotal: 926ms\tremaining: 1.65s\n",
      "32:\tlearn: 1933.0718818\ttotal: 954ms\tremaining: 1.62s\n",
      "33:\tlearn: 1929.5341132\ttotal: 982ms\tremaining: 1.59s\n",
      "34:\tlearn: 1923.2959042\ttotal: 1.01s\tremaining: 1.56s\n",
      "35:\tlearn: 1919.9994737\ttotal: 1.04s\tremaining: 1.53s\n",
      "36:\tlearn: 1915.6465101\ttotal: 1.07s\tremaining: 1.5s\n",
      "37:\tlearn: 1911.7865599\ttotal: 1.09s\tremaining: 1.47s\n",
      "38:\tlearn: 1907.4175181\ttotal: 1.13s\tremaining: 1.44s\n",
      "39:\tlearn: 1903.6519107\ttotal: 1.15s\tremaining: 1.41s\n",
      "40:\tlearn: 1899.6665241\ttotal: 1.18s\tremaining: 1.38s\n",
      "41:\tlearn: 1896.1681383\ttotal: 1.21s\tremaining: 1.35s\n",
      "42:\tlearn: 1893.0047511\ttotal: 1.24s\tremaining: 1.33s\n",
      "43:\tlearn: 1889.7823865\ttotal: 1.27s\tremaining: 1.3s\n",
      "44:\tlearn: 1887.8288739\ttotal: 1.3s\tremaining: 1.27s\n",
      "45:\tlearn: 1885.0674666\ttotal: 1.33s\tremaining: 1.24s\n",
      "46:\tlearn: 1880.8136825\ttotal: 1.35s\tremaining: 1.21s\n",
      "47:\tlearn: 1877.4228637\ttotal: 1.38s\tremaining: 1.18s\n",
      "48:\tlearn: 1875.4044456\ttotal: 1.41s\tremaining: 1.15s\n",
      "49:\tlearn: 1872.1227628\ttotal: 1.43s\tremaining: 1.11s\n",
      "50:\tlearn: 1870.1195840\ttotal: 1.46s\tremaining: 1.08s\n",
      "51:\tlearn: 1866.7890572\ttotal: 1.48s\tremaining: 1.05s\n",
      "52:\tlearn: 1864.4158931\ttotal: 1.5s\tremaining: 1.02s\n",
      "53:\tlearn: 1862.7486286\ttotal: 1.53s\tremaining: 991ms\n",
      "54:\tlearn: 1860.5395542\ttotal: 1.55s\tremaining: 961ms\n",
      "55:\tlearn: 1857.7938224\ttotal: 1.58s\tremaining: 930ms\n",
      "56:\tlearn: 1856.4031114\ttotal: 1.6s\tremaining: 900ms\n",
      "57:\tlearn: 1853.8135417\ttotal: 1.63s\tremaining: 872ms\n",
      "58:\tlearn: 1851.8401039\ttotal: 1.65s\tremaining: 841ms\n",
      "59:\tlearn: 1849.5111705\ttotal: 1.68s\tremaining: 812ms\n",
      "60:\tlearn: 1847.7583058\ttotal: 1.71s\tremaining: 785ms\n",
      "61:\tlearn: 1845.5329816\ttotal: 1.73s\tremaining: 756ms\n",
      "62:\tlearn: 1843.3009281\ttotal: 1.76s\tremaining: 727ms\n",
      "63:\tlearn: 1841.2348597\ttotal: 1.79s\tremaining: 698ms\n",
      "64:\tlearn: 1839.1818331\ttotal: 1.81s\tremaining: 670ms\n",
      "65:\tlearn: 1837.1382649\ttotal: 1.84s\tremaining: 641ms\n",
      "66:\tlearn: 1835.6641588\ttotal: 1.86s\tremaining: 612ms\n",
      "67:\tlearn: 1834.2880657\ttotal: 1.89s\tremaining: 583ms\n",
      "68:\tlearn: 1833.5256481\ttotal: 1.91s\tremaining: 555ms\n",
      "69:\tlearn: 1830.4582256\ttotal: 1.94s\tremaining: 526ms\n",
      "70:\tlearn: 1829.2514642\ttotal: 1.96s\tremaining: 498ms\n",
      "71:\tlearn: 1827.4266010\ttotal: 1.99s\tremaining: 469ms\n",
      "72:\tlearn: 1822.7903167\ttotal: 2.01s\tremaining: 442ms\n",
      "73:\tlearn: 1820.7515463\ttotal: 2.04s\tremaining: 414ms\n",
      "74:\tlearn: 1818.1188169\ttotal: 2.07s\tremaining: 386ms\n",
      "75:\tlearn: 1816.6125705\ttotal: 2.1s\tremaining: 359ms\n",
      "76:\tlearn: 1815.0567856\ttotal: 2.12s\tremaining: 331ms\n",
      "77:\tlearn: 1813.4901016\ttotal: 2.15s\tremaining: 303ms\n",
      "78:\tlearn: 1810.9975105\ttotal: 2.17s\tremaining: 275ms\n",
      "79:\tlearn: 1808.3491307\ttotal: 2.2s\tremaining: 248ms\n",
      "80:\tlearn: 1806.3495373\ttotal: 2.23s\tremaining: 220ms\n",
      "81:\tlearn: 1804.0734948\ttotal: 2.25s\tremaining: 193ms\n",
      "82:\tlearn: 1802.7718234\ttotal: 2.28s\tremaining: 165ms\n",
      "83:\tlearn: 1800.5198143\ttotal: 2.31s\tremaining: 137ms\n",
      "84:\tlearn: 1799.0279077\ttotal: 2.33s\tremaining: 110ms\n",
      "85:\tlearn: 1797.0654427\ttotal: 2.36s\tremaining: 82.3ms\n",
      "86:\tlearn: 1795.8743439\ttotal: 2.38s\tremaining: 54.8ms\n",
      "87:\tlearn: 1794.0185902\ttotal: 2.41s\tremaining: 27.4ms\n",
      "88:\tlearn: 1791.8303662\ttotal: 2.43s\tremaining: 0us\n",
      "0:\tlearn: 2806.2833700\ttotal: 30.2ms\tremaining: 2.65s\n",
      "1:\tlearn: 2418.5540644\ttotal: 55.8ms\tremaining: 2.43s\n",
      "2:\tlearn: 2335.8039617\ttotal: 84.7ms\tremaining: 2.43s\n",
      "3:\tlearn: 2261.1783256\ttotal: 110ms\tremaining: 2.33s\n",
      "4:\tlearn: 2220.8045438\ttotal: 137ms\tremaining: 2.29s\n",
      "5:\tlearn: 2190.8484191\ttotal: 161ms\tremaining: 2.23s\n",
      "6:\tlearn: 2162.6366383\ttotal: 186ms\tremaining: 2.18s\n",
      "7:\tlearn: 2138.7466903\ttotal: 211ms\tremaining: 2.13s\n",
      "8:\tlearn: 2117.6328304\ttotal: 237ms\tremaining: 2.1s\n",
      "9:\tlearn: 2101.7710955\ttotal: 263ms\tremaining: 2.08s\n",
      "10:\tlearn: 2090.1017241\ttotal: 288ms\tremaining: 2.04s\n",
      "11:\tlearn: 2075.9778090\ttotal: 312ms\tremaining: 2s\n",
      "12:\tlearn: 2067.0870399\ttotal: 337ms\tremaining: 1.97s\n",
      "13:\tlearn: 2056.5951485\ttotal: 363ms\tremaining: 1.94s\n",
      "14:\tlearn: 2049.6834933\ttotal: 388ms\tremaining: 1.92s\n",
      "15:\tlearn: 2036.5371202\ttotal: 417ms\tremaining: 1.9s\n",
      "16:\tlearn: 2028.7693086\ttotal: 443ms\tremaining: 1.88s\n",
      "17:\tlearn: 2020.5101919\ttotal: 469ms\tremaining: 1.85s\n",
      "18:\tlearn: 2012.0366976\ttotal: 495ms\tremaining: 1.82s\n",
      "19:\tlearn: 2006.3112988\ttotal: 518ms\tremaining: 1.79s\n",
      "20:\tlearn: 1995.4586919\ttotal: 544ms\tremaining: 1.76s\n",
      "21:\tlearn: 1986.4704677\ttotal: 568ms\tremaining: 1.73s\n",
      "22:\tlearn: 1981.2161826\ttotal: 594ms\tremaining: 1.7s\n",
      "23:\tlearn: 1974.9509006\ttotal: 620ms\tremaining: 1.68s\n",
      "24:\tlearn: 1970.9720450\ttotal: 644ms\tremaining: 1.65s\n",
      "25:\tlearn: 1963.7131914\ttotal: 675ms\tremaining: 1.64s\n",
      "26:\tlearn: 1958.5303613\ttotal: 700ms\tremaining: 1.61s\n",
      "27:\tlearn: 1952.6545923\ttotal: 725ms\tremaining: 1.58s\n",
      "28:\tlearn: 1948.9270129\ttotal: 750ms\tremaining: 1.55s\n",
      "29:\tlearn: 1944.2878769\ttotal: 781ms\tremaining: 1.54s\n",
      "30:\tlearn: 1939.5432706\ttotal: 810ms\tremaining: 1.51s\n",
      "31:\tlearn: 1935.0778545\ttotal: 843ms\tremaining: 1.5s\n",
      "32:\tlearn: 1929.5825531\ttotal: 868ms\tremaining: 1.47s\n",
      "33:\tlearn: 1925.2252284\ttotal: 893ms\tremaining: 1.45s\n",
      "34:\tlearn: 1919.3772466\ttotal: 921ms\tremaining: 1.42s\n",
      "35:\tlearn: 1915.0325656\ttotal: 948ms\tremaining: 1.4s\n",
      "36:\tlearn: 1909.5615000\ttotal: 976ms\tremaining: 1.37s\n",
      "37:\tlearn: 1905.8159090\ttotal: 1s\tremaining: 1.34s\n",
      "38:\tlearn: 1901.6592270\ttotal: 1.03s\tremaining: 1.32s\n",
      "39:\tlearn: 1899.6154747\ttotal: 1.05s\tremaining: 1.29s\n",
      "40:\tlearn: 1896.8762701\ttotal: 1.08s\tremaining: 1.26s\n",
      "41:\tlearn: 1893.1654128\ttotal: 1.1s\tremaining: 1.24s\n",
      "42:\tlearn: 1891.2094261\ttotal: 1.13s\tremaining: 1.21s\n",
      "43:\tlearn: 1888.8949011\ttotal: 1.16s\tremaining: 1.18s\n",
      "44:\tlearn: 1885.8882294\ttotal: 1.19s\tremaining: 1.16s\n",
      "45:\tlearn: 1880.4987235\ttotal: 1.21s\tremaining: 1.14s\n",
      "46:\tlearn: 1877.0442805\ttotal: 1.24s\tremaining: 1.11s\n",
      "47:\tlearn: 1874.3899634\ttotal: 1.27s\tremaining: 1.08s\n",
      "48:\tlearn: 1871.6195505\ttotal: 1.29s\tremaining: 1.05s\n",
      "49:\tlearn: 1869.0769535\ttotal: 1.32s\tremaining: 1.03s\n",
      "50:\tlearn: 1866.1172931\ttotal: 1.35s\tremaining: 1s\n",
      "51:\tlearn: 1864.1421436\ttotal: 1.37s\tremaining: 976ms\n",
      "52:\tlearn: 1862.2827874\ttotal: 1.4s\tremaining: 951ms\n",
      "53:\tlearn: 1858.6974210\ttotal: 1.43s\tremaining: 925ms\n",
      "54:\tlearn: 1856.4927704\ttotal: 1.45s\tremaining: 899ms\n",
      "55:\tlearn: 1854.7417730\ttotal: 1.48s\tremaining: 873ms\n",
      "56:\tlearn: 1852.9331380\ttotal: 1.5s\tremaining: 845ms\n",
      "57:\tlearn: 1851.1956690\ttotal: 1.53s\tremaining: 817ms\n",
      "58:\tlearn: 1848.4147342\ttotal: 1.55s\tremaining: 790ms\n",
      "59:\tlearn: 1846.3106333\ttotal: 1.58s\tremaining: 763ms\n",
      "60:\tlearn: 1843.5132616\ttotal: 1.6s\tremaining: 736ms\n",
      "61:\tlearn: 1841.5675875\ttotal: 1.63s\tremaining: 709ms\n",
      "62:\tlearn: 1839.7488467\ttotal: 1.65s\tremaining: 682ms\n",
      "63:\tlearn: 1838.4503538\ttotal: 1.68s\tremaining: 655ms\n",
      "64:\tlearn: 1836.6648064\ttotal: 1.71s\tremaining: 631ms\n",
      "65:\tlearn: 1834.9349244\ttotal: 1.74s\tremaining: 607ms\n",
      "66:\tlearn: 1832.8114998\ttotal: 1.77s\tremaining: 580ms\n",
      "67:\tlearn: 1831.0769297\ttotal: 1.79s\tremaining: 554ms\n",
      "68:\tlearn: 1828.9511223\ttotal: 1.82s\tremaining: 527ms\n",
      "69:\tlearn: 1827.3674542\ttotal: 1.84s\tremaining: 501ms\n",
      "70:\tlearn: 1825.4586952\ttotal: 1.87s\tremaining: 474ms\n",
      "71:\tlearn: 1823.8100752\ttotal: 1.9s\tremaining: 448ms\n",
      "72:\tlearn: 1822.0521172\ttotal: 1.92s\tremaining: 422ms\n",
      "73:\tlearn: 1819.1770443\ttotal: 1.95s\tremaining: 395ms\n",
      "74:\tlearn: 1817.4668620\ttotal: 1.97s\tremaining: 369ms\n",
      "75:\tlearn: 1816.0885661\ttotal: 2s\tremaining: 342ms\n",
      "76:\tlearn: 1813.7513536\ttotal: 2.03s\tremaining: 316ms\n",
      "77:\tlearn: 1811.8206096\ttotal: 2.06s\tremaining: 290ms\n",
      "78:\tlearn: 1810.1146943\ttotal: 2.09s\tremaining: 264ms\n",
      "79:\tlearn: 1808.9475197\ttotal: 2.12s\tremaining: 238ms\n",
      "80:\tlearn: 1807.5313661\ttotal: 2.15s\tremaining: 213ms\n",
      "81:\tlearn: 1806.2981140\ttotal: 2.18s\tremaining: 187ms\n",
      "82:\tlearn: 1805.4640278\ttotal: 2.22s\tremaining: 160ms\n",
      "83:\tlearn: 1804.2741658\ttotal: 2.26s\tremaining: 134ms\n",
      "84:\tlearn: 1803.1191428\ttotal: 2.29s\tremaining: 108ms\n",
      "85:\tlearn: 1801.3792616\ttotal: 2.33s\tremaining: 81.2ms\n",
      "86:\tlearn: 1800.1592521\ttotal: 2.36s\tremaining: 54.4ms\n",
      "87:\tlearn: 1797.8812736\ttotal: 2.4s\tremaining: 27.3ms\n",
      "88:\tlearn: 1796.5617283\ttotal: 2.43s\tremaining: 0us\n",
      "0:\tlearn: 2808.0696811\ttotal: 26.4ms\tremaining: 2.32s\n",
      "1:\tlearn: 2421.2938671\ttotal: 52.3ms\tremaining: 2.27s\n",
      "2:\tlearn: 2331.6628336\ttotal: 77.3ms\tremaining: 2.22s\n",
      "3:\tlearn: 2275.5030423\ttotal: 102ms\tremaining: 2.17s\n",
      "4:\tlearn: 2226.2271983\ttotal: 129ms\tremaining: 2.17s\n",
      "5:\tlearn: 2184.2608080\ttotal: 157ms\tremaining: 2.18s\n",
      "6:\tlearn: 2156.4884078\ttotal: 184ms\tremaining: 2.15s\n",
      "7:\tlearn: 2141.0512216\ttotal: 209ms\tremaining: 2.12s\n",
      "8:\tlearn: 2127.6733400\ttotal: 234ms\tremaining: 2.08s\n",
      "9:\tlearn: 2109.4802156\ttotal: 262ms\tremaining: 2.07s\n",
      "10:\tlearn: 2096.7191838\ttotal: 288ms\tremaining: 2.04s\n",
      "11:\tlearn: 2080.2955820\ttotal: 316ms\tremaining: 2.03s\n",
      "12:\tlearn: 2070.0158033\ttotal: 345ms\tremaining: 2.02s\n",
      "13:\tlearn: 2060.0043180\ttotal: 372ms\tremaining: 1.99s\n",
      "14:\tlearn: 2052.1272434\ttotal: 396ms\tremaining: 1.96s\n",
      "15:\tlearn: 2043.9111375\ttotal: 424ms\tremaining: 1.94s\n",
      "16:\tlearn: 2035.6882006\ttotal: 448ms\tremaining: 1.9s\n",
      "17:\tlearn: 2028.7526919\ttotal: 478ms\tremaining: 1.89s\n",
      "18:\tlearn: 2017.1844068\ttotal: 506ms\tremaining: 1.86s\n",
      "19:\tlearn: 2010.4380012\ttotal: 533ms\tremaining: 1.84s\n",
      "20:\tlearn: 1998.4733341\ttotal: 560ms\tremaining: 1.81s\n",
      "21:\tlearn: 1993.1019383\ttotal: 587ms\tremaining: 1.79s\n",
      "22:\tlearn: 1988.4359241\ttotal: 611ms\tremaining: 1.75s\n",
      "23:\tlearn: 1981.3579042\ttotal: 637ms\tremaining: 1.72s\n",
      "24:\tlearn: 1974.0334793\ttotal: 663ms\tremaining: 1.7s\n",
      "25:\tlearn: 1964.8103747\ttotal: 690ms\tremaining: 1.67s\n",
      "26:\tlearn: 1957.9311688\ttotal: 716ms\tremaining: 1.64s\n",
      "27:\tlearn: 1952.3679770\ttotal: 742ms\tremaining: 1.62s\n",
      "28:\tlearn: 1947.0707539\ttotal: 767ms\tremaining: 1.59s\n",
      "29:\tlearn: 1941.8321614\ttotal: 792ms\tremaining: 1.56s\n",
      "30:\tlearn: 1936.0950904\ttotal: 817ms\tremaining: 1.53s\n",
      "31:\tlearn: 1931.3656920\ttotal: 843ms\tremaining: 1.5s\n",
      "32:\tlearn: 1928.7709801\ttotal: 869ms\tremaining: 1.48s\n",
      "33:\tlearn: 1924.5076821\ttotal: 896ms\tremaining: 1.45s\n",
      "34:\tlearn: 1920.6316927\ttotal: 926ms\tremaining: 1.43s\n",
      "35:\tlearn: 1917.5607825\ttotal: 952ms\tremaining: 1.4s\n",
      "36:\tlearn: 1915.0734642\ttotal: 976ms\tremaining: 1.37s\n",
      "37:\tlearn: 1913.0603992\ttotal: 999ms\tremaining: 1.34s\n",
      "38:\tlearn: 1910.3443323\ttotal: 1.03s\tremaining: 1.32s\n",
      "39:\tlearn: 1906.4724848\ttotal: 1.05s\tremaining: 1.29s\n",
      "40:\tlearn: 1903.2259552\ttotal: 1.07s\tremaining: 1.26s\n",
      "41:\tlearn: 1900.1408131\ttotal: 1.1s\tremaining: 1.23s\n",
      "42:\tlearn: 1894.5980439\ttotal: 1.13s\tremaining: 1.21s\n",
      "43:\tlearn: 1890.8735267\ttotal: 1.16s\tremaining: 1.18s\n",
      "44:\tlearn: 1887.2954595\ttotal: 1.18s\tremaining: 1.16s\n",
      "45:\tlearn: 1883.4636878\ttotal: 1.21s\tremaining: 1.13s\n",
      "46:\tlearn: 1879.9932905\ttotal: 1.24s\tremaining: 1.1s\n",
      "47:\tlearn: 1876.1431485\ttotal: 1.26s\tremaining: 1.08s\n",
      "48:\tlearn: 1873.3549696\ttotal: 1.29s\tremaining: 1.05s\n",
      "49:\tlearn: 1871.0817110\ttotal: 1.32s\tremaining: 1.03s\n",
      "50:\tlearn: 1868.3200256\ttotal: 1.34s\tremaining: 1s\n",
      "51:\tlearn: 1866.2496107\ttotal: 1.37s\tremaining: 974ms\n",
      "52:\tlearn: 1862.9422201\ttotal: 1.4s\tremaining: 948ms\n",
      "53:\tlearn: 1860.9265540\ttotal: 1.42s\tremaining: 922ms\n",
      "54:\tlearn: 1859.4762546\ttotal: 1.45s\tremaining: 895ms\n",
      "55:\tlearn: 1857.4378537\ttotal: 1.47s\tremaining: 869ms\n",
      "56:\tlearn: 1855.0307588\ttotal: 1.5s\tremaining: 842ms\n",
      "57:\tlearn: 1852.5994930\ttotal: 1.53s\tremaining: 817ms\n",
      "58:\tlearn: 1849.8235993\ttotal: 1.55s\tremaining: 790ms\n",
      "59:\tlearn: 1847.3471722\ttotal: 1.58s\tremaining: 763ms\n",
      "60:\tlearn: 1844.4830791\ttotal: 1.61s\tremaining: 737ms\n",
      "61:\tlearn: 1842.1920588\ttotal: 1.63s\tremaining: 711ms\n",
      "62:\tlearn: 1840.4495100\ttotal: 1.66s\tremaining: 684ms\n",
      "63:\tlearn: 1838.4757010\ttotal: 1.68s\tremaining: 658ms\n",
      "64:\tlearn: 1835.7130799\ttotal: 1.71s\tremaining: 632ms\n",
      "65:\tlearn: 1833.6674842\ttotal: 1.74s\tremaining: 606ms\n",
      "66:\tlearn: 1832.4213330\ttotal: 1.76s\tremaining: 579ms\n",
      "67:\tlearn: 1830.4005538\ttotal: 1.79s\tremaining: 553ms\n",
      "68:\tlearn: 1828.9991184\ttotal: 1.81s\tremaining: 526ms\n",
      "69:\tlearn: 1826.5868512\ttotal: 1.84s\tremaining: 500ms\n",
      "70:\tlearn: 1825.0415246\ttotal: 1.86s\tremaining: 473ms\n",
      "71:\tlearn: 1823.8346389\ttotal: 1.89s\tremaining: 447ms\n",
      "72:\tlearn: 1821.6948069\ttotal: 1.92s\tremaining: 420ms\n",
      "73:\tlearn: 1818.9177053\ttotal: 1.94s\tremaining: 394ms\n",
      "74:\tlearn: 1816.5073115\ttotal: 1.97s\tremaining: 368ms\n",
      "75:\tlearn: 1814.1980031\ttotal: 2s\tremaining: 341ms\n",
      "76:\tlearn: 1811.5658523\ttotal: 2.02s\tremaining: 315ms\n",
      "77:\tlearn: 1810.4842205\ttotal: 2.05s\tremaining: 289ms\n",
      "78:\tlearn: 1807.9674285\ttotal: 2.07s\tremaining: 262ms\n",
      "79:\tlearn: 1806.5436038\ttotal: 2.1s\tremaining: 236ms\n",
      "80:\tlearn: 1804.2497156\ttotal: 2.13s\tremaining: 210ms\n",
      "81:\tlearn: 1802.8306993\ttotal: 2.15s\tremaining: 184ms\n",
      "82:\tlearn: 1801.8053406\ttotal: 2.18s\tremaining: 157ms\n",
      "83:\tlearn: 1800.0508003\ttotal: 2.2s\tremaining: 131ms\n",
      "84:\tlearn: 1797.6196394\ttotal: 2.23s\tremaining: 105ms\n",
      "85:\tlearn: 1794.8868788\ttotal: 2.25s\tremaining: 78.5ms\n",
      "86:\tlearn: 1792.7408499\ttotal: 2.27s\tremaining: 52.3ms\n",
      "87:\tlearn: 1791.0732390\ttotal: 2.3s\tremaining: 26.1ms\n",
      "88:\tlearn: 1789.3750544\ttotal: 2.32s\tremaining: 0us\n",
      "0:\tlearn: 2756.1056238\ttotal: 28.4ms\tremaining: 2.5s\n",
      "1:\tlearn: 2394.9391725\ttotal: 54.3ms\tremaining: 2.36s\n",
      "2:\tlearn: 2300.3708132\ttotal: 79.4ms\tremaining: 2.28s\n",
      "3:\tlearn: 2249.3142018\ttotal: 106ms\tremaining: 2.25s\n",
      "4:\tlearn: 2208.2167972\ttotal: 133ms\tremaining: 2.23s\n",
      "5:\tlearn: 2178.7466546\ttotal: 161ms\tremaining: 2.23s\n",
      "6:\tlearn: 2153.7451642\ttotal: 186ms\tremaining: 2.18s\n",
      "7:\tlearn: 2134.6038476\ttotal: 212ms\tremaining: 2.14s\n",
      "8:\tlearn: 2117.8547988\ttotal: 238ms\tremaining: 2.12s\n",
      "9:\tlearn: 2107.0510417\ttotal: 263ms\tremaining: 2.08s\n",
      "10:\tlearn: 2092.3770657\ttotal: 290ms\tremaining: 2.06s\n",
      "11:\tlearn: 2081.5706310\ttotal: 315ms\tremaining: 2.02s\n",
      "12:\tlearn: 2072.3770170\ttotal: 340ms\tremaining: 1.99s\n",
      "13:\tlearn: 2060.6890270\ttotal: 368ms\tremaining: 1.97s\n",
      "14:\tlearn: 2051.6672410\ttotal: 393ms\tremaining: 1.94s\n",
      "15:\tlearn: 2041.5849707\ttotal: 420ms\tremaining: 1.91s\n",
      "16:\tlearn: 2030.5011702\ttotal: 446ms\tremaining: 1.89s\n",
      "17:\tlearn: 2020.7512573\ttotal: 476ms\tremaining: 1.88s\n",
      "18:\tlearn: 2010.9010228\ttotal: 507ms\tremaining: 1.87s\n",
      "19:\tlearn: 2004.9404711\ttotal: 533ms\tremaining: 1.84s\n",
      "20:\tlearn: 1997.5512933\ttotal: 557ms\tremaining: 1.8s\n",
      "21:\tlearn: 1990.7080659\ttotal: 583ms\tremaining: 1.77s\n",
      "22:\tlearn: 1982.7712517\ttotal: 609ms\tremaining: 1.75s\n",
      "23:\tlearn: 1976.1259867\ttotal: 634ms\tremaining: 1.72s\n",
      "24:\tlearn: 1966.2968698\ttotal: 662ms\tremaining: 1.69s\n",
      "25:\tlearn: 1960.4369239\ttotal: 688ms\tremaining: 1.67s\n",
      "26:\tlearn: 1954.7880764\ttotal: 715ms\tremaining: 1.64s\n",
      "27:\tlearn: 1950.2468961\ttotal: 742ms\tremaining: 1.62s\n",
      "28:\tlearn: 1944.7680242\ttotal: 773ms\tremaining: 1.6s\n",
      "29:\tlearn: 1940.7020920\ttotal: 804ms\tremaining: 1.58s\n",
      "30:\tlearn: 1935.1986877\ttotal: 830ms\tremaining: 1.55s\n",
      "31:\tlearn: 1929.5130936\ttotal: 858ms\tremaining: 1.53s\n",
      "32:\tlearn: 1926.0635869\ttotal: 883ms\tremaining: 1.5s\n",
      "33:\tlearn: 1920.1570032\ttotal: 913ms\tremaining: 1.48s\n",
      "34:\tlearn: 1914.4270909\ttotal: 941ms\tremaining: 1.45s\n",
      "35:\tlearn: 1910.4193798\ttotal: 968ms\tremaining: 1.42s\n",
      "36:\tlearn: 1905.8243002\ttotal: 994ms\tremaining: 1.4s\n",
      "37:\tlearn: 1902.4261404\ttotal: 1.02s\tremaining: 1.37s\n",
      "38:\tlearn: 1899.1222331\ttotal: 1.04s\tremaining: 1.34s\n",
      "39:\tlearn: 1895.5846240\ttotal: 1.07s\tremaining: 1.31s\n",
      "40:\tlearn: 1892.3726373\ttotal: 1.1s\tremaining: 1.28s\n",
      "41:\tlearn: 1889.3454457\ttotal: 1.12s\tremaining: 1.26s\n",
      "42:\tlearn: 1886.1429332\ttotal: 1.15s\tremaining: 1.23s\n",
      "43:\tlearn: 1882.1161800\ttotal: 1.18s\tremaining: 1.2s\n",
      "44:\tlearn: 1879.0430528\ttotal: 1.2s\tremaining: 1.18s\n",
      "45:\tlearn: 1876.9750497\ttotal: 1.23s\tremaining: 1.15s\n",
      "46:\tlearn: 1874.4379157\ttotal: 1.25s\tremaining: 1.12s\n",
      "47:\tlearn: 1872.2339883\ttotal: 1.28s\tremaining: 1.09s\n",
      "48:\tlearn: 1870.5948739\ttotal: 1.3s\tremaining: 1.06s\n",
      "49:\tlearn: 1868.0826536\ttotal: 1.33s\tremaining: 1.03s\n",
      "50:\tlearn: 1864.6710311\ttotal: 1.35s\tremaining: 1.01s\n",
      "51:\tlearn: 1862.0807551\ttotal: 1.38s\tremaining: 985ms\n",
      "52:\tlearn: 1859.9942693\ttotal: 1.41s\tremaining: 958ms\n",
      "53:\tlearn: 1856.9526234\ttotal: 1.44s\tremaining: 930ms\n",
      "54:\tlearn: 1855.3220503\ttotal: 1.46s\tremaining: 902ms\n",
      "55:\tlearn: 1853.2909744\ttotal: 1.49s\tremaining: 876ms\n",
      "56:\tlearn: 1851.3083903\ttotal: 1.51s\tremaining: 849ms\n",
      "57:\tlearn: 1847.9882526\ttotal: 1.54s\tremaining: 824ms\n",
      "58:\tlearn: 1844.9593639\ttotal: 1.57s\tremaining: 798ms\n",
      "59:\tlearn: 1843.0415169\ttotal: 1.6s\tremaining: 775ms\n",
      "60:\tlearn: 1840.4482540\ttotal: 1.63s\tremaining: 748ms\n",
      "61:\tlearn: 1838.8363209\ttotal: 1.66s\tremaining: 722ms\n",
      "62:\tlearn: 1837.0011846\ttotal: 1.69s\tremaining: 696ms\n",
      "63:\tlearn: 1834.4819386\ttotal: 1.72s\tremaining: 671ms\n",
      "64:\tlearn: 1832.7072186\ttotal: 1.74s\tremaining: 644ms\n",
      "65:\tlearn: 1830.6817379\ttotal: 1.78s\tremaining: 619ms\n",
      "66:\tlearn: 1829.2363411\ttotal: 1.8s\tremaining: 592ms\n",
      "67:\tlearn: 1827.3309809\ttotal: 1.83s\tremaining: 565ms\n",
      "68:\tlearn: 1825.2352388\ttotal: 1.86s\tremaining: 539ms\n",
      "69:\tlearn: 1822.4707328\ttotal: 1.88s\tremaining: 511ms\n",
      "70:\tlearn: 1821.1597584\ttotal: 1.91s\tremaining: 484ms\n",
      "71:\tlearn: 1818.5271125\ttotal: 1.94s\tremaining: 458ms\n",
      "72:\tlearn: 1816.1683975\ttotal: 1.97s\tremaining: 431ms\n",
      "73:\tlearn: 1814.3941498\ttotal: 1.99s\tremaining: 404ms\n",
      "74:\tlearn: 1812.2409714\ttotal: 2.02s\tremaining: 376ms\n",
      "75:\tlearn: 1810.5102294\ttotal: 2.04s\tremaining: 349ms\n",
      "76:\tlearn: 1808.8684922\ttotal: 2.07s\tremaining: 322ms\n",
      "77:\tlearn: 1808.0042851\ttotal: 2.09s\tremaining: 295ms\n",
      "78:\tlearn: 1805.9926986\ttotal: 2.12s\tremaining: 268ms\n",
      "79:\tlearn: 1804.3471549\ttotal: 2.14s\tremaining: 241ms\n",
      "80:\tlearn: 1802.8721945\ttotal: 2.17s\tremaining: 214ms\n",
      "81:\tlearn: 1800.5714369\ttotal: 2.2s\tremaining: 188ms\n",
      "82:\tlearn: 1798.5014248\ttotal: 2.22s\tremaining: 161ms\n",
      "83:\tlearn: 1796.9096144\ttotal: 2.25s\tremaining: 134ms\n",
      "84:\tlearn: 1795.4109523\ttotal: 2.27s\tremaining: 107ms\n",
      "85:\tlearn: 1794.2508841\ttotal: 2.3s\tremaining: 80.2ms\n",
      "86:\tlearn: 1792.7560293\ttotal: 2.33s\tremaining: 53.5ms\n",
      "87:\tlearn: 1790.9949857\ttotal: 2.35s\tremaining: 26.7ms\n",
      "88:\tlearn: 1789.6800281\ttotal: 2.38s\tremaining: 0us\n",
      "0:\tlearn: 2806.1363571\ttotal: 26.2ms\tremaining: 2.31s\n",
      "1:\tlearn: 2420.8592481\ttotal: 53.1ms\tremaining: 2.31s\n",
      "2:\tlearn: 2334.4284763\ttotal: 79ms\tremaining: 2.26s\n",
      "3:\tlearn: 2278.2889200\ttotal: 105ms\tremaining: 2.24s\n",
      "4:\tlearn: 2222.1088903\ttotal: 134ms\tremaining: 2.25s\n",
      "5:\tlearn: 2194.2798447\ttotal: 161ms\tremaining: 2.23s\n",
      "6:\tlearn: 2156.1805352\ttotal: 188ms\tremaining: 2.2s\n",
      "7:\tlearn: 2134.4083044\ttotal: 214ms\tremaining: 2.17s\n",
      "8:\tlearn: 2117.4622674\ttotal: 240ms\tremaining: 2.13s\n",
      "9:\tlearn: 2099.7745698\ttotal: 266ms\tremaining: 2.1s\n",
      "10:\tlearn: 2087.3583708\ttotal: 292ms\tremaining: 2.07s\n",
      "11:\tlearn: 2075.1906534\ttotal: 320ms\tremaining: 2.06s\n",
      "12:\tlearn: 2063.9255262\ttotal: 354ms\tremaining: 2.07s\n",
      "13:\tlearn: 2056.7941428\ttotal: 382ms\tremaining: 2.05s\n",
      "14:\tlearn: 2045.0641546\ttotal: 416ms\tremaining: 2.05s\n",
      "15:\tlearn: 2037.1418401\ttotal: 443ms\tremaining: 2.02s\n",
      "16:\tlearn: 2028.4909530\ttotal: 469ms\tremaining: 1.99s\n",
      "17:\tlearn: 2024.2041566\ttotal: 494ms\tremaining: 1.95s\n",
      "18:\tlearn: 2017.4460187\ttotal: 520ms\tremaining: 1.92s\n",
      "19:\tlearn: 2012.0880524\ttotal: 549ms\tremaining: 1.89s\n",
      "20:\tlearn: 2005.3784666\ttotal: 575ms\tremaining: 1.86s\n",
      "21:\tlearn: 2000.3930122\ttotal: 602ms\tremaining: 1.83s\n",
      "22:\tlearn: 1992.3017107\ttotal: 628ms\tremaining: 1.8s\n",
      "23:\tlearn: 1985.3600497\ttotal: 654ms\tremaining: 1.77s\n",
      "24:\tlearn: 1979.1494366\ttotal: 680ms\tremaining: 1.74s\n",
      "25:\tlearn: 1973.1962138\ttotal: 708ms\tremaining: 1.72s\n",
      "26:\tlearn: 1967.3490542\ttotal: 736ms\tremaining: 1.69s\n",
      "27:\tlearn: 1964.2051783\ttotal: 762ms\tremaining: 1.66s\n",
      "28:\tlearn: 1957.8682039\ttotal: 787ms\tremaining: 1.63s\n",
      "29:\tlearn: 1951.1527906\ttotal: 813ms\tremaining: 1.6s\n",
      "30:\tlearn: 1946.1548238\ttotal: 838ms\tremaining: 1.57s\n",
      "31:\tlearn: 1941.4594143\ttotal: 866ms\tremaining: 1.54s\n",
      "32:\tlearn: 1938.1264010\ttotal: 892ms\tremaining: 1.51s\n",
      "33:\tlearn: 1934.0041705\ttotal: 920ms\tremaining: 1.49s\n",
      "34:\tlearn: 1929.0356331\ttotal: 946ms\tremaining: 1.46s\n",
      "35:\tlearn: 1924.1426651\ttotal: 973ms\tremaining: 1.43s\n",
      "36:\tlearn: 1919.7931389\ttotal: 1s\tremaining: 1.41s\n",
      "37:\tlearn: 1915.3837514\ttotal: 1.03s\tremaining: 1.38s\n",
      "38:\tlearn: 1910.6061389\ttotal: 1.05s\tremaining: 1.35s\n",
      "39:\tlearn: 1907.1286489\ttotal: 1.08s\tremaining: 1.32s\n",
      "40:\tlearn: 1901.9901636\ttotal: 1.11s\tremaining: 1.3s\n",
      "41:\tlearn: 1899.6747412\ttotal: 1.13s\tremaining: 1.27s\n",
      "42:\tlearn: 1896.8982057\ttotal: 1.16s\tremaining: 1.24s\n",
      "43:\tlearn: 1894.4144581\ttotal: 1.19s\tremaining: 1.21s\n",
      "44:\tlearn: 1892.4048200\ttotal: 1.21s\tremaining: 1.19s\n",
      "45:\tlearn: 1890.2928408\ttotal: 1.24s\tremaining: 1.16s\n",
      "46:\tlearn: 1883.5119024\ttotal: 1.26s\tremaining: 1.13s\n",
      "47:\tlearn: 1881.7890562\ttotal: 1.29s\tremaining: 1.1s\n",
      "48:\tlearn: 1879.3424187\ttotal: 1.31s\tremaining: 1.07s\n",
      "49:\tlearn: 1876.2811976\ttotal: 1.34s\tremaining: 1.04s\n",
      "50:\tlearn: 1873.8131633\ttotal: 1.36s\tremaining: 1.01s\n",
      "51:\tlearn: 1871.2170372\ttotal: 1.39s\tremaining: 988ms\n",
      "52:\tlearn: 1868.6211773\ttotal: 1.42s\tremaining: 962ms\n",
      "53:\tlearn: 1866.8770414\ttotal: 1.44s\tremaining: 935ms\n",
      "54:\tlearn: 1865.4107832\ttotal: 1.47s\tremaining: 908ms\n",
      "55:\tlearn: 1862.6357349\ttotal: 1.49s\tremaining: 881ms\n",
      "56:\tlearn: 1859.9818493\ttotal: 1.53s\tremaining: 861ms\n",
      "57:\tlearn: 1858.3307299\ttotal: 1.58s\tremaining: 843ms\n",
      "58:\tlearn: 1855.2352301\ttotal: 1.62s\tremaining: 822ms\n",
      "59:\tlearn: 1852.2279963\ttotal: 1.64s\tremaining: 795ms\n",
      "60:\tlearn: 1850.4865536\ttotal: 1.67s\tremaining: 768ms\n",
      "61:\tlearn: 1847.6164101\ttotal: 1.7s\tremaining: 742ms\n",
      "62:\tlearn: 1845.2405306\ttotal: 1.73s\tremaining: 715ms\n",
      "63:\tlearn: 1842.6256301\ttotal: 1.76s\tremaining: 689ms\n",
      "64:\tlearn: 1841.1121435\ttotal: 1.79s\tremaining: 662ms\n",
      "65:\tlearn: 1839.2766405\ttotal: 1.82s\tremaining: 635ms\n",
      "66:\tlearn: 1836.0553097\ttotal: 1.85s\tremaining: 607ms\n",
      "67:\tlearn: 1835.3037791\ttotal: 1.87s\tremaining: 578ms\n",
      "68:\tlearn: 1833.3578651\ttotal: 1.9s\tremaining: 550ms\n",
      "69:\tlearn: 1830.9422394\ttotal: 1.92s\tremaining: 522ms\n",
      "70:\tlearn: 1828.6930219\ttotal: 1.95s\tremaining: 495ms\n",
      "71:\tlearn: 1826.9365018\ttotal: 1.98s\tremaining: 467ms\n",
      "72:\tlearn: 1825.6408749\ttotal: 2s\tremaining: 439ms\n",
      "73:\tlearn: 1823.8971777\ttotal: 2.02s\tremaining: 411ms\n",
      "74:\tlearn: 1822.0880597\ttotal: 2.05s\tremaining: 383ms\n",
      "75:\tlearn: 1820.2007384\ttotal: 2.08s\tremaining: 355ms\n",
      "76:\tlearn: 1818.2154913\ttotal: 2.1s\tremaining: 328ms\n",
      "77:\tlearn: 1816.9524369\ttotal: 2.13s\tremaining: 300ms\n",
      "78:\tlearn: 1814.2859564\ttotal: 2.16s\tremaining: 273ms\n",
      "79:\tlearn: 1811.9683787\ttotal: 2.18s\tremaining: 246ms\n",
      "80:\tlearn: 1810.0885334\ttotal: 2.21s\tremaining: 218ms\n",
      "81:\tlearn: 1808.7121581\ttotal: 2.23s\tremaining: 191ms\n",
      "82:\tlearn: 1807.5069603\ttotal: 2.26s\tremaining: 163ms\n",
      "83:\tlearn: 1805.4105589\ttotal: 2.29s\tremaining: 136ms\n",
      "84:\tlearn: 1804.0823066\ttotal: 2.31s\tremaining: 109ms\n",
      "85:\tlearn: 1802.2200826\ttotal: 2.34s\tremaining: 81.7ms\n",
      "86:\tlearn: 1801.1284117\ttotal: 2.37s\tremaining: 54.5ms\n",
      "87:\tlearn: 1798.9563215\ttotal: 2.39s\tremaining: 27.2ms\n",
      "88:\tlearn: 1797.5715816\ttotal: 2.42s\tremaining: 0us\n",
      "0:\tlearn: 3790.4242250\ttotal: 53.2ms\tremaining: 4.68s\n",
      "1:\tlearn: 3250.8650798\ttotal: 105ms\tremaining: 4.58s\n",
      "2:\tlearn: 2886.9472247\ttotal: 157ms\tremaining: 4.51s\n",
      "3:\tlearn: 2637.9278316\ttotal: 209ms\tremaining: 4.45s\n",
      "4:\tlearn: 2476.4463970\ttotal: 266ms\tremaining: 4.47s\n",
      "5:\tlearn: 2361.3313243\ttotal: 322ms\tremaining: 4.46s\n",
      "6:\tlearn: 2274.9910500\ttotal: 381ms\tremaining: 4.47s\n",
      "7:\tlearn: 2223.1871259\ttotal: 437ms\tremaining: 4.42s\n",
      "8:\tlearn: 2181.8790908\ttotal: 493ms\tremaining: 4.38s\n",
      "9:\tlearn: 2149.0329755\ttotal: 547ms\tremaining: 4.32s\n",
      "10:\tlearn: 2125.1824929\ttotal: 600ms\tremaining: 4.26s\n",
      "11:\tlearn: 2102.8969036\ttotal: 653ms\tremaining: 4.19s\n",
      "12:\tlearn: 2087.5092848\ttotal: 706ms\tremaining: 4.13s\n",
      "13:\tlearn: 2075.4969640\ttotal: 767ms\tremaining: 4.11s\n",
      "14:\tlearn: 2063.6376623\ttotal: 825ms\tremaining: 4.07s\n",
      "15:\tlearn: 2049.8412373\ttotal: 882ms\tremaining: 4.02s\n",
      "16:\tlearn: 2041.8124967\ttotal: 940ms\tremaining: 3.98s\n",
      "17:\tlearn: 2031.9805088\ttotal: 994ms\tremaining: 3.92s\n",
      "18:\tlearn: 2024.5623164\ttotal: 1.05s\tremaining: 3.86s\n",
      "19:\tlearn: 2018.0438221\ttotal: 1.11s\tremaining: 3.82s\n",
      "20:\tlearn: 2011.5782165\ttotal: 1.16s\tremaining: 3.77s\n",
      "21:\tlearn: 2006.6830793\ttotal: 1.22s\tremaining: 3.72s\n",
      "22:\tlearn: 1998.7760000\ttotal: 1.28s\tremaining: 3.68s\n",
      "23:\tlearn: 1994.1410752\ttotal: 1.34s\tremaining: 3.62s\n",
      "24:\tlearn: 1988.6028134\ttotal: 1.39s\tremaining: 3.57s\n",
      "25:\tlearn: 1982.6914053\ttotal: 1.45s\tremaining: 3.52s\n",
      "26:\tlearn: 1976.6204165\ttotal: 1.51s\tremaining: 3.46s\n",
      "27:\tlearn: 1970.8453219\ttotal: 1.56s\tremaining: 3.4s\n",
      "28:\tlearn: 1966.6219488\ttotal: 1.62s\tremaining: 3.34s\n",
      "29:\tlearn: 1961.2857170\ttotal: 1.67s\tremaining: 3.29s\n",
      "30:\tlearn: 1954.7290926\ttotal: 1.73s\tremaining: 3.23s\n",
      "31:\tlearn: 1949.6318092\ttotal: 1.78s\tremaining: 3.17s\n",
      "32:\tlearn: 1944.4313125\ttotal: 1.83s\tremaining: 3.11s\n",
      "33:\tlearn: 1940.4587196\ttotal: 1.89s\tremaining: 3.06s\n",
      "34:\tlearn: 1936.9306661\ttotal: 1.95s\tremaining: 3s\n",
      "35:\tlearn: 1933.8758938\ttotal: 2s\tremaining: 2.95s\n",
      "36:\tlearn: 1930.1690782\ttotal: 2.06s\tremaining: 2.89s\n",
      "37:\tlearn: 1927.2014590\ttotal: 2.11s\tremaining: 2.83s\n",
      "38:\tlearn: 1923.6411690\ttotal: 2.17s\tremaining: 2.78s\n",
      "39:\tlearn: 1920.8052166\ttotal: 2.22s\tremaining: 2.72s\n",
      "40:\tlearn: 1916.7286236\ttotal: 2.27s\tremaining: 2.66s\n",
      "41:\tlearn: 1914.8287084\ttotal: 2.33s\tremaining: 2.61s\n",
      "42:\tlearn: 1912.0425768\ttotal: 2.38s\tremaining: 2.55s\n",
      "43:\tlearn: 1908.3605996\ttotal: 2.44s\tremaining: 2.49s\n",
      "44:\tlearn: 1905.8219858\ttotal: 2.49s\tremaining: 2.44s\n",
      "45:\tlearn: 1902.5350082\ttotal: 2.55s\tremaining: 2.38s\n",
      "46:\tlearn: 1899.2636256\ttotal: 2.61s\tremaining: 2.33s\n",
      "47:\tlearn: 1896.8690548\ttotal: 2.66s\tremaining: 2.27s\n",
      "48:\tlearn: 1893.2501373\ttotal: 2.72s\tremaining: 2.22s\n",
      "49:\tlearn: 1890.5015003\ttotal: 2.78s\tremaining: 2.17s\n",
      "50:\tlearn: 1888.3894347\ttotal: 2.84s\tremaining: 2.11s\n",
      "51:\tlearn: 1885.8461201\ttotal: 2.89s\tremaining: 2.06s\n",
      "52:\tlearn: 1883.5924957\ttotal: 2.95s\tremaining: 2s\n",
      "53:\tlearn: 1882.1257221\ttotal: 3s\tremaining: 1.95s\n",
      "54:\tlearn: 1879.1719407\ttotal: 3.06s\tremaining: 1.89s\n",
      "55:\tlearn: 1877.2424702\ttotal: 3.11s\tremaining: 1.83s\n",
      "56:\tlearn: 1874.8057145\ttotal: 3.17s\tremaining: 1.78s\n",
      "57:\tlearn: 1873.1199109\ttotal: 3.23s\tremaining: 1.73s\n",
      "58:\tlearn: 1871.0443511\ttotal: 3.3s\tremaining: 1.68s\n",
      "59:\tlearn: 1868.3666661\ttotal: 3.35s\tremaining: 1.62s\n",
      "60:\tlearn: 1865.9021990\ttotal: 3.41s\tremaining: 1.56s\n",
      "61:\tlearn: 1863.2641443\ttotal: 3.46s\tremaining: 1.51s\n",
      "62:\tlearn: 1860.4309828\ttotal: 3.53s\tremaining: 1.46s\n",
      "63:\tlearn: 1858.1300835\ttotal: 3.58s\tremaining: 1.4s\n",
      "64:\tlearn: 1855.3169951\ttotal: 3.65s\tremaining: 1.35s\n",
      "65:\tlearn: 1853.5018737\ttotal: 3.71s\tremaining: 1.29s\n",
      "66:\tlearn: 1852.1213333\ttotal: 3.77s\tremaining: 1.24s\n",
      "67:\tlearn: 1850.3712835\ttotal: 3.82s\tremaining: 1.18s\n",
      "68:\tlearn: 1847.6176576\ttotal: 3.88s\tremaining: 1.12s\n",
      "69:\tlearn: 1845.6977381\ttotal: 3.93s\tremaining: 1.07s\n",
      "70:\tlearn: 1843.7933263\ttotal: 3.99s\tremaining: 1.01s\n",
      "71:\tlearn: 1841.5631589\ttotal: 4.04s\tremaining: 954ms\n",
      "72:\tlearn: 1838.5547145\ttotal: 4.09s\tremaining: 898ms\n",
      "73:\tlearn: 1836.9473317\ttotal: 4.15s\tremaining: 841ms\n",
      "74:\tlearn: 1835.6568908\ttotal: 4.2s\tremaining: 785ms\n",
      "75:\tlearn: 1833.9439008\ttotal: 4.26s\tremaining: 729ms\n",
      "76:\tlearn: 1832.2984381\ttotal: 4.32s\tremaining: 674ms\n",
      "77:\tlearn: 1830.3267618\ttotal: 4.38s\tremaining: 617ms\n",
      "78:\tlearn: 1828.4405076\ttotal: 4.44s\tremaining: 562ms\n",
      "79:\tlearn: 1826.9572116\ttotal: 4.5s\tremaining: 506ms\n",
      "80:\tlearn: 1824.2493774\ttotal: 4.56s\tremaining: 450ms\n",
      "81:\tlearn: 1823.0583992\ttotal: 4.61s\tremaining: 394ms\n",
      "82:\tlearn: 1821.2517604\ttotal: 4.67s\tremaining: 337ms\n",
      "83:\tlearn: 1819.2035491\ttotal: 4.72s\tremaining: 281ms\n",
      "84:\tlearn: 1817.5726204\ttotal: 4.78s\tremaining: 225ms\n",
      "85:\tlearn: 1815.4868177\ttotal: 4.83s\tremaining: 169ms\n",
      "86:\tlearn: 1814.2151789\ttotal: 4.88s\tremaining: 112ms\n",
      "87:\tlearn: 1812.4161664\ttotal: 4.94s\tremaining: 56.1ms\n",
      "88:\tlearn: 1810.3325349\ttotal: 4.99s\tremaining: 0us\n",
      "CPU times: user 52.5 s, sys: 335 ms, total: 52.8 s\n",
      "Wall time: 1min 12s\n"
     ]
    }
   ],
   "source": [
    "%%time\n",
    "start = time()\n",
    "cbr = CatBoostRegressor()\n",
    "n_estimators = [int(x) for x in np.linspace(start = 1, stop = 101, num = 10)]\n",
    "max_depth = [int(x) for x in np.linspace(start = 1, stop = 30, num = 10)]\n",
    "learning_rate = [0.1, 0.25, 0.5, 0.75, 1]\n",
    "\n",
    "\n",
    "param_dist = {'n_estimators': n_estimators,\n",
    "              'max_depth':max_depth,\n",
    "              'learning_rate': learning_rate\n",
    "             }\n",
    "rs = RandomizedSearchCV(cbr, \n",
    "                        param_dist, \n",
    "                        n_iter = 10, \n",
    "                        scoring = 'neg_mean_squared_error',\n",
    "                        cv = 5, \n",
    "                        verbose = 1, \n",
    "                        n_jobs=-1, \n",
    "                        random_state=1176)\n",
    "rs.fit(features_train, target_train);\n",
    "model_cbr = rs.best_estimator_\n",
    "model_cbr.params = rs.best_params_\n",
    "result_cbr = abs(rs.best_score_)**0.5\n",
    "time_cbr = time() - start"
   ]
  },
  {
   "cell_type": "code",
   "execution_count": 92,
   "metadata": {},
   "outputs": [
    {
     "name": "stdout",
     "output_type": "stream",
     "text": [
      "Деревьев: 89.\n",
      "Ветвей: 10.\n",
      "Скорость обучения: 0.25.\n",
      "\n",
      "Средняя оценка качества модели: 1873.84, время обучения: 72.21 сек.\n"
     ]
    }
   ],
   "source": [
    "print('Деревьев: {:.0f}.'.format(model_cbr.params['n_estimators']))\n",
    "print('Ветвей: {:.0f}.'.format(model_cbr.params['max_depth']))\n",
    "print('Скорость обучения: {:.2f}.'.format(model_cbr.params['learning_rate']))\n",
    "print('\\nСредняя оценка качества модели: {:.2f}, время обучения: {:.2f} сек.'.format(result_cbr, time_cbr))"
   ]
  },
  {
   "cell_type": "markdown",
   "metadata": {},
   "source": [
    "### Итоги обучения моделей:"
   ]
  },
  {
   "cell_type": "markdown",
   "metadata": {},
   "source": [
    "Проведено моделирование с использованием моделей \"DummyRegressor\" (в качестве меры адекватности моделей), \"Решающее дерево\", \"LightGBM\" и \"CatBoost\". <br />\n",
    "Оценка моделей проводилась на обучающей выборке метрикой RMSE.\n",
    "Наилучшие значения метрики:<br /><br />"
   ]
  },
  {
   "cell_type": "code",
   "execution_count": 93,
   "metadata": {
    "scrolled": false
   },
   "outputs": [
    {
     "name": "stdout",
     "output_type": "stream",
     "text": [
      "1. Модель \"DummyRegressor\":\n",
      "Стратегия: mean\n",
      "\n",
      "Средняя оценка качества модели: 4559.85\n",
      "Время обучения: 0.08 сек.\n"
     ]
    }
   ],
   "source": [
    "print('1. Модель \"DummyRegressor\":')\n",
    "print('Стратегия:', strategy_dummy)\n",
    "print('\\nСредняя оценка качества модели: {:.2f}'.format(result_dummy))\n",
    "print('Время обучения: {:.2f} сек.'.format(time_dummy))"
   ]
  },
  {
   "cell_type": "code",
   "execution_count": 94,
   "metadata": {
    "scrolled": false
   },
   "outputs": [
    {
     "name": "stdout",
     "output_type": "stream",
     "text": [
      "2. Модель \"Решающее дерево\":\n",
      "Ветвей: 13.\n",
      "\n",
      "Средняя оценка качества модели: 2074.56\n",
      "Время обучения: 41.28 сек.\n"
     ]
    }
   ],
   "source": [
    "print('2. Модель \"Решающее дерево\":')\n",
    "print('Ветвей: {:.0f}.'.format(model_tree.params['max_depth']))\n",
    "print('\\nСредняя оценка качества модели: {:.2f}'.format(result_tree))\n",
    "print('Время обучения: {:.2f} сек.'.format(time_tree))"
   ]
  },
  {
   "cell_type": "code",
   "execution_count": 95,
   "metadata": {
    "scrolled": true
   },
   "outputs": [
    {
     "name": "stdout",
     "output_type": "stream",
     "text": [
      "3. Модель \"LightGBM\":\n",
      "Деревьев: 89.\n",
      "Ветвей: 7.\n",
      "Скорость обучения: 0.75.\n",
      "\n",
      "Средняя оценка качества модели: 1854.88\n",
      "Время обучения: 425.21 сек.\n"
     ]
    }
   ],
   "source": [
    "print('3. Модель \"LightGBM\":')\n",
    "print('Деревьев: {:.0f}.'.format(model_lgbm.params['n_estimators']))\n",
    "print('Ветвей: {:.0f}.'.format(model_lgbm.params['max_depth']))\n",
    "print('Скорость обучения: {:.2f}.'.format(model_lgbm.params['learning_rate']))\n",
    "print('\\nСредняя оценка качества модели: {:.2f}'.format(result_lgbm))\n",
    "print('Время обучения: {:.2f} сек.'.format(time_lgbm))"
   ]
  },
  {
   "cell_type": "code",
   "execution_count": 96,
   "metadata": {
    "scrolled": true
   },
   "outputs": [
    {
     "name": "stdout",
     "output_type": "stream",
     "text": [
      "3. Модель \"CatBoost\":\n",
      "Деревьев: 89.\n",
      "Ветвей: 10.\n",
      "Скорость обучения: 0.25.\n",
      "\n",
      "Средняя оценка качества модели: 1873.84\n",
      "Время обучения: 72.21 сек.\n"
     ]
    }
   ],
   "source": [
    "print('3. Модель \"CatBoost\":')\n",
    "print('Деревьев: {:.0f}.'.format(model_cbr.params['n_estimators']))\n",
    "print('Ветвей: {:.0f}.'.format(model_cbr.params['max_depth']))\n",
    "print('Скорость обучения: {:.2f}.'.format(model_cbr.params['learning_rate']))\n",
    "print('\\nСредняя оценка качества модели: {:.2f}'.format(result_cbr))\n",
    "print('Время обучения: {:.2f} сек.'.format(time_cbr))"
   ]
  },
  {
   "cell_type": "markdown",
   "metadata": {},
   "source": [
    "## Анализ моделей"
   ]
  },
  {
   "cell_type": "markdown",
   "metadata": {},
   "source": [
    "### Анализ моделей"
   ]
  },
  {
   "cell_type": "code",
   "execution_count": 97,
   "metadata": {},
   "outputs": [
    {
     "name": "stdout",
     "output_type": "stream",
     "text": [
      "Наилучший результат показала модель \"LightGBM\" с параметрами:\n",
      "Деревьев: 89.\n",
      "Ветвей: 7.\n",
      "Скорость обучения: 0.75.\n",
      "\n",
      "Средняя оценка качества модели: 1854.88\n",
      "Время обучения: 425.21 сек.\n"
     ]
    }
   ],
   "source": [
    "print('Наилучший результат показала модель \"LightGBM\" с параметрами:')\n",
    "print('Деревьев: {:.0f}.'.format(model_lgbm.params['n_estimators']))\n",
    "print('Ветвей: {:.0f}.'.format(model_lgbm.params['max_depth']))\n",
    "print('Скорость обучения: {:.2f}.'.format(model_lgbm.params['learning_rate']))\n",
    "print('\\nСредняя оценка качества модели: {:.2f}'.format(result_lgbm))\n",
    "print('Время обучения: {:.2f} сек.'.format(time_lgbm))"
   ]
  },
  {
   "cell_type": "markdown",
   "metadata": {},
   "source": [
    "По времени она конкурирует с моделью \"Решающее дерево\" (при разных запусках и на разных машинах результат меняется), но проигрывает ему в метрике: "
   ]
  },
  {
   "cell_type": "code",
   "execution_count": 98,
   "metadata": {},
   "outputs": [
    {
     "name": "stdout",
     "output_type": "stream",
     "text": [
      "Ветвей: 13.\n",
      "\n",
      "Средняя оценка качества модели: 2074.56\n",
      "Время обучения: 41.28 сек.\n"
     ]
    }
   ],
   "source": [
    "print('Ветвей: {:.0f}.'.format(model_tree.params['max_depth']))\n",
    "print('\\nСредняя оценка качества модели: {:.2f}'.format(result_tree))\n",
    "print('Время обучения: {:.2f} сек.'.format(time_tree))"
   ]
  },
  {
   "cell_type": "markdown",
   "metadata": {},
   "source": [
    "### Тестирование наилучшей модели"
   ]
  },
  {
   "cell_type": "markdown",
   "metadata": {},
   "source": [
    "Проверим наилучшую модель на тестовой выборке"
   ]
  },
  {
   "cell_type": "code",
   "execution_count": 99,
   "metadata": {
    "scrolled": true
   },
   "outputs": [
    {
     "name": "stdout",
     "output_type": "stream",
     "text": [
      "CPU times: user 585 ms, sys: 3.7 ms, total: 589 ms\n",
      "Wall time: 591 ms\n"
     ]
    }
   ],
   "source": [
    "%%time \n",
    "start = time()\n",
    "predict = model_lgbm.predict(features_test)\n",
    "result = mean_squared_error(predict,target_test)**0.5\n",
    "predict_time = time() - start"
   ]
  },
  {
   "cell_type": "code",
   "execution_count": 100,
   "metadata": {},
   "outputs": [
    {
     "name": "stdout",
     "output_type": "stream",
     "text": [
      "RMSE модели: 1847.42\n",
      "Время предсказания модели на тестовой выборке : 0.59 сек.\n"
     ]
    }
   ],
   "source": [
    "print('RMSE модели: {:.2f}'.format(result))\n",
    "print('Время предсказания модели на тестовой выборке : {:.2f} сек.'.format(predict_time))"
   ]
  },
  {
   "cell_type": "markdown",
   "metadata": {},
   "source": [
    "RMSE модели на тестовой выборке еще лучше, чем на обучающей!"
   ]
  },
  {
   "cell_type": "markdown",
   "metadata": {},
   "source": [
    "## Итоги проекта:"
   ]
  },
  {
   "cell_type": "markdown",
   "metadata": {},
   "source": [
    "### Анализ исходных данных:\n",
    "1. Датасет содержит 354369 записей\n",
    "2. Присутствует 4 полных дубликата\n",
    "3. Часть признаков (VehicleType, Model, FuelType, Gearbox, Repaired) содержит пропуски\n",
    "4. Присутствует  слабая обратная корелляция между пробегом и ценой, а также очень слабая корреляция между мощностью двигателя и ценой\n",
    "5. Требуется приведение типов:\n",
    "- DateCrawled - к типу DateTime;\n",
    "- RegistrationYear, RegistrationMonth - объединить \n",
    "- DateCreated - к типу DateTime;\n",
    "- PostalCode - к типу string, добавить лидирующие нули до 6 символов\n",
    "- Repaired - к типу boolean;\n",
    "- LastSeen - к типу DateTime.\n",
    "6. NumberOfPictures содержит только нулевые данные\n",
    "7. признаки RegistrationYear, Power содержат сбойные данные (RegistrationMonth - 13 месяцев, Power - мощность 0 и 20000 л.с."
   ]
  },
  {
   "cell_type": "markdown",
   "metadata": {},
   "source": [
    "### Подготовка данных\n",
    "1. Удалены дубликаты записей\n",
    "2. Исправлены типы данных\n",
    "3. Данные о времени регистрации преобразованы в столбец с числом месяцев, прошедших с 1900 года\n",
    "4. Восстановлены пропущенные данные в признаках VehicleType, FuelType, Gearbox\n",
    "5. Удалены пропущенные данные в признаке Model\n",
    "6. Исправлены аномальные значения в признаке Power\n",
    "7. Данные разбиты на обучающую и тестовую выборки\n",
    "8. Выделены признаки и целевой признак\n",
    "9. Произведено масштабирование количественных признаков\n",
    "10. Произведено кодирование категориальных признаков\n",
    "11. Удалены признаки с высокой корелляцией\n",
    "12. Данные подготовлены к обучению моделей"
   ]
  },
  {
   "cell_type": "markdown",
   "metadata": {},
   "source": [
    "### Моделирование:\n",
    "Проведено моделирование с использованием моделей \"DummyRegressor\" (в качестве меры адекватности моделей), \"Решающее дерево\", \"LightGBM\" и \"CatBoost\". <br />\n",
    "Оценка моделей проводилась на обучающей выборке метрикой RMSE."
   ]
  },
  {
   "cell_type": "code",
   "execution_count": 101,
   "metadata": {
    "scrolled": false
   },
   "outputs": [
    {
     "name": "stdout",
     "output_type": "stream",
     "text": [
      "1. Модель \"DummyRegressor\":\n",
      "Стратегия: mean\n",
      "\n",
      "Средняя оценка качества модели: 4559.85\n",
      "Время обучения: 0.08 сек.\n"
     ]
    }
   ],
   "source": [
    "print('1. Модель \"DummyRegressor\":')\n",
    "print('Стратегия:', strategy_dummy)\n",
    "print('\\nСредняя оценка качества модели: {:.2f}'.format(result_dummy))\n",
    "print('Время обучения: {:.2f} сек.'.format(time_dummy))"
   ]
  },
  {
   "cell_type": "code",
   "execution_count": 102,
   "metadata": {
    "scrolled": false
   },
   "outputs": [
    {
     "name": "stdout",
     "output_type": "stream",
     "text": [
      "2. Модель \"Решающее дерево\":\n",
      "Ветвей: 13.\n",
      "\n",
      "Средняя оценка качества модели: 2074.56\n",
      "Время обучения: 41.28 сек.\n"
     ]
    }
   ],
   "source": [
    "print('2. Модель \"Решающее дерево\":')\n",
    "print('Ветвей: {:.0f}.'.format(model_tree.params['max_depth']))\n",
    "print('\\nСредняя оценка качества модели: {:.2f}'.format(result_tree))\n",
    "print('Время обучения: {:.2f} сек.'.format(time_tree))"
   ]
  },
  {
   "cell_type": "code",
   "execution_count": 103,
   "metadata": {
    "scrolled": true
   },
   "outputs": [
    {
     "name": "stdout",
     "output_type": "stream",
     "text": [
      "3. Модель \"LightGBM\":\n",
      "Деревьев: 89.\n",
      "Ветвей: 7.\n",
      "Скорость обучения: 0.75.\n",
      "\n",
      "Средняя оценка качества модели: 1854.88\n",
      "Время обучения: 425.21 сек.\n"
     ]
    }
   ],
   "source": [
    "print('3. Модель \"LightGBM\":')\n",
    "print('Деревьев: {:.0f}.'.format(model_lgbm.params['n_estimators']))\n",
    "print('Ветвей: {:.0f}.'.format(model_lgbm.params['max_depth']))\n",
    "print('Скорость обучения: {:.2f}.'.format(model_lgbm.params['learning_rate']))\n",
    "print('\\nСредняя оценка качества модели: {:.2f}'.format(result_lgbm))\n",
    "print('Время обучения: {:.2f} сек.'.format(time_lgbm))"
   ]
  },
  {
   "cell_type": "code",
   "execution_count": 104,
   "metadata": {
    "scrolled": true
   },
   "outputs": [
    {
     "name": "stdout",
     "output_type": "stream",
     "text": [
      "3. Модель \"CatBoost\":\n",
      "Деревьев: 89.\n",
      "Ветвей: 10.\n",
      "Скорость обучения: 0.25.\n",
      "\n",
      "Средняя оценка качества модели: 1873.84\n",
      "Время обучения: 72.21 сек.\n"
     ]
    }
   ],
   "source": [
    "print('3. Модель \"CatBoost\":')\n",
    "print('Деревьев: {:.0f}.'.format(model_cbr.params['n_estimators']))\n",
    "print('Ветвей: {:.0f}.'.format(model_cbr.params['max_depth']))\n",
    "print('Скорость обучения: {:.2f}.'.format(model_cbr.params['learning_rate']))\n",
    "print('\\nСредняя оценка качества модели: {:.2f}'.format(result_cbr))\n",
    "print('Время обучения: {:.2f} сек.'.format(time_cbr))"
   ]
  },
  {
   "cell_type": "markdown",
   "metadata": {},
   "source": [
    "### Выбор модели"
   ]
  },
  {
   "cell_type": "code",
   "execution_count": 105,
   "metadata": {
    "scrolled": true
   },
   "outputs": [
    {
     "name": "stdout",
     "output_type": "stream",
     "text": [
      "Наилучший результат показала модель \"LightGBM\" с параметрами:\n",
      "Деревьев: 89.\n",
      "Ветвей: 7.\n",
      "Скорость обучения: 0.75.\n",
      "\n",
      "Итоговая метрика RMSE модели:\n",
      "- на обучающей выборке: 1854.88\n",
      "- на тестовой выборке: 1847.42\n",
      "\n",
      "Время обучения модели: 425.21 сек.\n",
      "Время предсказания модели на тестовой выборке : 0.59 сек.\n"
     ]
    }
   ],
   "source": [
    "print('Наилучший результат показала модель \"LightGBM\" с параметрами:')\n",
    "print('Деревьев: {:.0f}.'.format(model_lgbm.params['n_estimators']))\n",
    "print('Ветвей: {:.0f}.'.format(model_lgbm.params['max_depth']))\n",
    "print('Скорость обучения: {:.2f}.'.format(model_lgbm.params['learning_rate']))\n",
    "print()\n",
    "print('Итоговая метрика RMSE модели:')\n",
    "print('- на обучающей выборке: {:.2f}'.format(result_lgbm))\n",
    "print('- на тестовой выборке: {:.2f}'.format(result))\n",
    "print()\n",
    "print('Время обучения модели: {:.2f} сек.'.format(time_lgbm))\n",
    "print('Время предсказания модели на тестовой выборке : {:.2f} сек.'.format(predict_time))"
   ]
  },
  {
   "cell_type": "markdown",
   "metadata": {},
   "source": [
    "### Результат проекта"
   ]
  },
  {
   "cell_type": "markdown",
   "metadata": {},
   "source": [
    "Создана модель для предсказания стоимости автомобиля  на основании данных о технических характеристиках, комплектации и ценах других автомобилей. <br>\n",
    "Модель протестирована согласно условиям проекта. "
   ]
  },
  {
   "cell_type": "markdown",
   "metadata": {},
   "source": [
    "Все задачи проекта выполнены."
   ]
  }
 ],
 "metadata": {
  "ExecuteTimeLog": [
   {
    "duration": 4,
    "start_time": "2023-03-18T21:58:01.326Z"
   },
   {
    "duration": 1810,
    "start_time": "2023-03-18T21:58:01.331Z"
   },
   {
    "duration": 3,
    "start_time": "2023-03-18T21:58:03.143Z"
   },
   {
    "duration": 11,
    "start_time": "2023-03-18T21:58:03.147Z"
   },
   {
    "duration": 9,
    "start_time": "2023-03-18T21:58:03.160Z"
   },
   {
    "duration": 9,
    "start_time": "2023-03-18T21:58:03.171Z"
   },
   {
    "duration": 17,
    "start_time": "2023-03-18T21:58:03.181Z"
   },
   {
    "duration": 2959,
    "start_time": "2023-03-18T21:58:03.200Z"
   },
   {
    "duration": 22119,
    "start_time": "2023-03-18T21:58:06.161Z"
   },
   {
    "duration": 515,
    "start_time": "2023-03-18T21:58:28.282Z"
   },
   {
    "duration": 539,
    "start_time": "2023-03-18T21:58:28.800Z"
   },
   {
    "duration": 488,
    "start_time": "2023-03-18T21:58:29.340Z"
   },
   {
    "duration": 13,
    "start_time": "2023-03-18T21:58:29.829Z"
   },
   {
    "duration": 79,
    "start_time": "2023-03-18T21:58:29.844Z"
   },
   {
    "duration": 13,
    "start_time": "2023-03-18T21:58:29.925Z"
   },
   {
    "duration": 111,
    "start_time": "2023-03-18T21:58:29.940Z"
   },
   {
    "duration": 77,
    "start_time": "2023-03-18T21:58:30.052Z"
   },
   {
    "duration": 17,
    "start_time": "2023-03-18T21:58:30.131Z"
   },
   {
    "duration": 14,
    "start_time": "2023-03-18T21:58:30.149Z"
   },
   {
    "duration": 63,
    "start_time": "2023-03-18T21:58:30.165Z"
   },
   {
    "duration": 9,
    "start_time": "2023-03-18T21:58:30.230Z"
   },
   {
    "duration": 8,
    "start_time": "2023-03-18T21:58:30.241Z"
   },
   {
    "duration": 231841,
    "start_time": "2023-03-18T21:58:30.251Z"
   },
   {
    "duration": 16,
    "start_time": "2023-03-18T22:02:22.095Z"
   },
   {
    "duration": 22,
    "start_time": "2023-03-18T22:02:22.112Z"
   },
   {
    "duration": 26894,
    "start_time": "2023-03-18T22:02:22.136Z"
   },
   {
    "duration": 14,
    "start_time": "2023-03-18T22:02:49.032Z"
   },
   {
    "duration": 16,
    "start_time": "2023-03-18T22:02:49.048Z"
   },
   {
    "duration": 8,
    "start_time": "2023-03-18T22:02:49.066Z"
   },
   {
    "duration": 102,
    "start_time": "2023-03-18T22:02:49.075Z"
   },
   {
    "duration": 49,
    "start_time": "2023-03-18T22:02:49.179Z"
   },
   {
    "duration": 76,
    "start_time": "2023-03-18T22:02:49.230Z"
   },
   {
    "duration": 20,
    "start_time": "2023-03-18T22:02:49.309Z"
   },
   {
    "duration": 29,
    "start_time": "2023-03-18T22:02:49.330Z"
   },
   {
    "duration": 16375,
    "start_time": "2023-03-18T22:02:49.360Z"
   },
   {
    "duration": 19,
    "start_time": "2023-03-18T22:03:05.737Z"
   },
   {
    "duration": 41,
    "start_time": "2023-03-18T22:03:05.757Z"
   },
   {
    "duration": 15666,
    "start_time": "2023-03-18T22:03:05.799Z"
   },
   {
    "duration": 20,
    "start_time": "2023-03-18T22:03:21.467Z"
   },
   {
    "duration": 40,
    "start_time": "2023-03-18T22:03:21.488Z"
   },
   {
    "duration": 16467,
    "start_time": "2023-03-18T22:03:21.532Z"
   },
   {
    "duration": 26,
    "start_time": "2023-03-18T22:03:38.002Z"
   },
   {
    "duration": 13,
    "start_time": "2023-03-18T22:03:38.029Z"
   },
   {
    "duration": 117,
    "start_time": "2023-03-18T22:03:38.044Z"
   },
   {
    "duration": 7,
    "start_time": "2023-03-18T22:03:38.163Z"
   },
   {
    "duration": 19,
    "start_time": "2023-03-18T22:03:38.172Z"
   },
   {
    "duration": 3,
    "start_time": "2023-03-18T22:03:38.196Z"
   },
   {
    "duration": 40,
    "start_time": "2023-03-18T22:03:38.202Z"
   },
   {
    "duration": 21,
    "start_time": "2023-03-18T22:03:38.245Z"
   },
   {
    "duration": 43,
    "start_time": "2023-03-18T22:03:38.268Z"
   },
   {
    "duration": 9,
    "start_time": "2023-03-18T22:03:38.312Z"
   },
   {
    "duration": 3,
    "start_time": "2023-03-18T22:03:38.323Z"
   },
   {
    "duration": 22556,
    "start_time": "2023-03-18T22:03:38.327Z"
   },
   {
    "duration": 10296,
    "start_time": "2023-03-18T22:04:00.884Z"
   },
   {
    "duration": 30,
    "start_time": "2023-03-18T22:04:11.182Z"
   },
   {
    "duration": 29,
    "start_time": "2023-03-18T22:04:11.213Z"
   },
   {
    "duration": 4,
    "start_time": "2023-03-18T22:04:11.244Z"
   },
   {
    "duration": 5,
    "start_time": "2023-03-18T22:04:11.250Z"
   },
   {
    "duration": 17,
    "start_time": "2023-03-18T22:04:11.256Z"
   },
   {
    "duration": 87,
    "start_time": "2023-03-18T22:04:11.274Z"
   },
   {
    "duration": 5,
    "start_time": "2023-03-18T22:04:11.363Z"
   },
   {
    "duration": 37,
    "start_time": "2023-03-18T22:04:11.370Z"
   },
   {
    "duration": 3,
    "start_time": "2023-03-18T22:04:11.410Z"
   },
   {
    "duration": 9,
    "start_time": "2023-03-18T22:04:11.414Z"
   },
   {
    "duration": 5,
    "start_time": "2023-03-18T22:04:11.424Z"
   },
   {
    "duration": 152,
    "start_time": "2023-03-18T22:04:11.430Z"
   },
   {
    "duration": 20,
    "start_time": "2023-03-18T22:04:11.584Z"
   },
   {
    "duration": 37,
    "start_time": "2023-03-18T22:04:11.610Z"
   },
   {
    "duration": 183,
    "start_time": "2023-03-18T22:04:11.648Z"
   },
   {
    "duration": 10,
    "start_time": "2023-03-18T22:04:11.832Z"
   },
   {
    "duration": 12,
    "start_time": "2023-03-18T22:04:11.844Z"
   },
   {
    "duration": 58,
    "start_time": "2023-03-18T22:04:11.857Z"
   },
   {
    "duration": 34,
    "start_time": "2023-03-18T22:04:11.916Z"
   },
   {
    "duration": 3,
    "start_time": "2023-03-18T22:04:11.951Z"
   },
   {
    "duration": 1537,
    "start_time": "2023-03-18T22:04:11.956Z"
   },
   {
    "duration": 497,
    "start_time": "2023-03-18T22:04:13.495Z"
   },
   {
    "duration": 21,
    "start_time": "2023-03-18T22:04:13.995Z"
   },
   {
    "duration": 45,
    "start_time": "2023-03-18T22:04:14.017Z"
   },
   {
    "duration": 2112,
    "start_time": "2023-03-18T22:04:14.064Z"
   },
   {
    "duration": 175,
    "start_time": "2023-03-18T22:04:16.178Z"
   },
   {
    "duration": 1,
    "start_time": "2023-03-18T22:04:16.354Z"
   },
   {
    "duration": 0,
    "start_time": "2023-03-18T22:04:16.356Z"
   },
   {
    "duration": 0,
    "start_time": "2023-03-18T22:04:16.357Z"
   },
   {
    "duration": 0,
    "start_time": "2023-03-18T22:04:16.358Z"
   },
   {
    "duration": 0,
    "start_time": "2023-03-18T22:04:16.359Z"
   },
   {
    "duration": 0,
    "start_time": "2023-03-18T22:04:16.360Z"
   },
   {
    "duration": 0,
    "start_time": "2023-03-18T22:04:16.362Z"
   },
   {
    "duration": 0,
    "start_time": "2023-03-18T22:04:16.363Z"
   },
   {
    "duration": 21,
    "start_time": "2023-03-18T22:18:46.651Z"
   },
   {
    "duration": 5,
    "start_time": "2023-03-18T22:19:21.608Z"
   },
   {
    "duration": 3,
    "start_time": "2023-03-18T22:20:14.510Z"
   },
   {
    "duration": 1556,
    "start_time": "2023-03-18T22:20:14.591Z"
   },
   {
    "duration": 3,
    "start_time": "2023-03-18T22:20:16.148Z"
   },
   {
    "duration": 9,
    "start_time": "2023-03-18T22:20:16.152Z"
   },
   {
    "duration": 12,
    "start_time": "2023-03-18T22:20:16.162Z"
   },
   {
    "duration": 8,
    "start_time": "2023-03-18T22:20:16.176Z"
   },
   {
    "duration": 11,
    "start_time": "2023-03-18T22:20:16.185Z"
   },
   {
    "duration": 934,
    "start_time": "2023-03-18T22:20:16.198Z"
   },
   {
    "duration": 22034,
    "start_time": "2023-03-18T22:20:17.134Z"
   },
   {
    "duration": 463,
    "start_time": "2023-03-18T22:20:39.169Z"
   },
   {
    "duration": 479,
    "start_time": "2023-03-18T22:20:39.633Z"
   },
   {
    "duration": 456,
    "start_time": "2023-03-18T22:20:40.114Z"
   },
   {
    "duration": 14,
    "start_time": "2023-03-18T22:20:40.571Z"
   },
   {
    "duration": 76,
    "start_time": "2023-03-18T22:20:40.586Z"
   },
   {
    "duration": 34,
    "start_time": "2023-03-18T22:20:40.666Z"
   },
   {
    "duration": 68,
    "start_time": "2023-03-18T22:20:40.702Z"
   },
   {
    "duration": 85,
    "start_time": "2023-03-18T22:20:40.771Z"
   },
   {
    "duration": 13,
    "start_time": "2023-03-18T22:20:40.858Z"
   },
   {
    "duration": 29,
    "start_time": "2023-03-18T22:20:40.873Z"
   },
   {
    "duration": 33,
    "start_time": "2023-03-18T22:20:40.904Z"
   },
   {
    "duration": 7,
    "start_time": "2023-03-18T22:20:40.938Z"
   },
   {
    "duration": 5,
    "start_time": "2023-03-18T22:20:40.946Z"
   },
   {
    "duration": 239293,
    "start_time": "2023-03-18T22:20:40.953Z"
   },
   {
    "duration": 18,
    "start_time": "2023-03-18T22:24:40.247Z"
   },
   {
    "duration": 5,
    "start_time": "2023-03-18T22:24:40.267Z"
   },
   {
    "duration": 26599,
    "start_time": "2023-03-18T22:24:40.274Z"
   },
   {
    "duration": 21,
    "start_time": "2023-03-18T22:25:06.875Z"
   },
   {
    "duration": 24,
    "start_time": "2023-03-18T22:25:06.898Z"
   },
   {
    "duration": 9,
    "start_time": "2023-03-18T22:25:06.924Z"
   },
   {
    "duration": 109,
    "start_time": "2023-03-18T22:25:06.935Z"
   },
   {
    "duration": 31,
    "start_time": "2023-03-18T22:25:07.046Z"
   },
   {
    "duration": 69,
    "start_time": "2023-03-18T22:25:07.079Z"
   },
   {
    "duration": 21,
    "start_time": "2023-03-18T22:25:07.150Z"
   },
   {
    "duration": 33,
    "start_time": "2023-03-18T22:25:07.194Z"
   },
   {
    "duration": 16792,
    "start_time": "2023-03-18T22:25:07.229Z"
   },
   {
    "duration": 30,
    "start_time": "2023-03-18T22:25:24.023Z"
   },
   {
    "duration": 68,
    "start_time": "2023-03-18T22:25:24.055Z"
   },
   {
    "duration": 16820,
    "start_time": "2023-03-18T22:25:24.126Z"
   },
   {
    "duration": 20,
    "start_time": "2023-03-18T22:25:40.947Z"
   },
   {
    "duration": 48,
    "start_time": "2023-03-18T22:25:40.969Z"
   },
   {
    "duration": 16555,
    "start_time": "2023-03-18T22:25:41.019Z"
   },
   {
    "duration": 28,
    "start_time": "2023-03-18T22:25:57.578Z"
   },
   {
    "duration": 9,
    "start_time": "2023-03-18T22:25:57.607Z"
   },
   {
    "duration": 121,
    "start_time": "2023-03-18T22:25:57.618Z"
   },
   {
    "duration": 8,
    "start_time": "2023-03-18T22:25:57.741Z"
   },
   {
    "duration": 8,
    "start_time": "2023-03-18T22:25:57.751Z"
   },
   {
    "duration": 3,
    "start_time": "2023-03-18T22:25:57.761Z"
   },
   {
    "duration": 53,
    "start_time": "2023-03-18T22:25:57.765Z"
   },
   {
    "duration": 18,
    "start_time": "2023-03-18T22:25:57.819Z"
   },
   {
    "duration": 19,
    "start_time": "2023-03-18T22:25:57.839Z"
   },
   {
    "duration": 36,
    "start_time": "2023-03-18T22:25:57.860Z"
   },
   {
    "duration": 3,
    "start_time": "2023-03-18T22:25:57.897Z"
   },
   {
    "duration": 4,
    "start_time": "2023-03-18T23:15:31.978Z"
   },
   {
    "duration": 1565,
    "start_time": "2023-03-18T23:15:31.984Z"
   },
   {
    "duration": 3,
    "start_time": "2023-03-18T23:15:33.551Z"
   },
   {
    "duration": 8,
    "start_time": "2023-03-18T23:15:33.556Z"
   },
   {
    "duration": 10,
    "start_time": "2023-03-18T23:15:33.566Z"
   },
   {
    "duration": 21,
    "start_time": "2023-03-18T23:15:33.578Z"
   },
   {
    "duration": 20,
    "start_time": "2023-03-18T23:15:33.600Z"
   },
   {
    "duration": 960,
    "start_time": "2023-03-18T23:15:33.622Z"
   },
   {
    "duration": 19807,
    "start_time": "2023-03-18T23:15:34.584Z"
   },
   {
    "duration": 0,
    "start_time": "2023-03-18T23:15:54.406Z"
   },
   {
    "duration": 0,
    "start_time": "2023-03-18T23:15:54.407Z"
   },
   {
    "duration": 0,
    "start_time": "2023-03-18T23:15:54.409Z"
   },
   {
    "duration": 0,
    "start_time": "2023-03-18T23:15:54.410Z"
   },
   {
    "duration": 0,
    "start_time": "2023-03-18T23:15:54.411Z"
   },
   {
    "duration": 0,
    "start_time": "2023-03-18T23:15:54.412Z"
   },
   {
    "duration": 0,
    "start_time": "2023-03-18T23:15:54.414Z"
   },
   {
    "duration": 0,
    "start_time": "2023-03-18T23:15:54.415Z"
   },
   {
    "duration": 0,
    "start_time": "2023-03-18T23:15:54.416Z"
   },
   {
    "duration": 0,
    "start_time": "2023-03-18T23:15:54.417Z"
   },
   {
    "duration": 0,
    "start_time": "2023-03-18T23:15:54.419Z"
   },
   {
    "duration": 0,
    "start_time": "2023-03-18T23:15:54.420Z"
   },
   {
    "duration": 0,
    "start_time": "2023-03-18T23:15:54.421Z"
   },
   {
    "duration": 0,
    "start_time": "2023-03-18T23:15:54.422Z"
   },
   {
    "duration": 0,
    "start_time": "2023-03-18T23:15:54.423Z"
   },
   {
    "duration": 0,
    "start_time": "2023-03-18T23:15:54.424Z"
   },
   {
    "duration": 0,
    "start_time": "2023-03-18T23:15:54.425Z"
   },
   {
    "duration": 0,
    "start_time": "2023-03-18T23:15:54.427Z"
   },
   {
    "duration": 0,
    "start_time": "2023-03-18T23:15:54.427Z"
   },
   {
    "duration": 0,
    "start_time": "2023-03-18T23:15:54.428Z"
   },
   {
    "duration": 0,
    "start_time": "2023-03-18T23:15:54.429Z"
   },
   {
    "duration": 0,
    "start_time": "2023-03-18T23:15:54.430Z"
   },
   {
    "duration": 0,
    "start_time": "2023-03-18T23:15:54.431Z"
   },
   {
    "duration": 0,
    "start_time": "2023-03-18T23:15:54.432Z"
   },
   {
    "duration": 0,
    "start_time": "2023-03-18T23:15:54.433Z"
   },
   {
    "duration": 0,
    "start_time": "2023-03-18T23:15:54.434Z"
   },
   {
    "duration": 0,
    "start_time": "2023-03-18T23:15:54.435Z"
   },
   {
    "duration": 0,
    "start_time": "2023-03-18T23:15:54.436Z"
   },
   {
    "duration": 0,
    "start_time": "2023-03-18T23:15:54.437Z"
   },
   {
    "duration": 0,
    "start_time": "2023-03-18T23:15:54.438Z"
   },
   {
    "duration": 0,
    "start_time": "2023-03-18T23:15:54.439Z"
   },
   {
    "duration": 0,
    "start_time": "2023-03-18T23:15:54.440Z"
   },
   {
    "duration": 0,
    "start_time": "2023-03-18T23:15:54.441Z"
   },
   {
    "duration": 0,
    "start_time": "2023-03-18T23:15:54.499Z"
   },
   {
    "duration": 0,
    "start_time": "2023-03-18T23:15:54.499Z"
   },
   {
    "duration": 0,
    "start_time": "2023-03-18T23:15:54.501Z"
   },
   {
    "duration": 0,
    "start_time": "2023-03-18T23:15:54.502Z"
   },
   {
    "duration": 0,
    "start_time": "2023-03-18T23:15:54.502Z"
   },
   {
    "duration": 0,
    "start_time": "2023-03-18T23:15:54.510Z"
   },
   {
    "duration": 0,
    "start_time": "2023-03-18T23:15:54.511Z"
   },
   {
    "duration": 0,
    "start_time": "2023-03-18T23:15:54.512Z"
   },
   {
    "duration": 0,
    "start_time": "2023-03-18T23:15:54.513Z"
   },
   {
    "duration": 0,
    "start_time": "2023-03-18T23:15:54.514Z"
   },
   {
    "duration": 0,
    "start_time": "2023-03-18T23:15:54.515Z"
   },
   {
    "duration": 0,
    "start_time": "2023-03-18T23:15:54.516Z"
   },
   {
    "duration": 0,
    "start_time": "2023-03-18T23:15:54.517Z"
   },
   {
    "duration": 0,
    "start_time": "2023-03-18T23:15:54.518Z"
   },
   {
    "duration": 0,
    "start_time": "2023-03-18T23:15:54.519Z"
   },
   {
    "duration": 1,
    "start_time": "2023-03-18T23:15:54.519Z"
   },
   {
    "duration": 0,
    "start_time": "2023-03-18T23:15:54.520Z"
   },
   {
    "duration": 0,
    "start_time": "2023-03-18T23:15:54.522Z"
   },
   {
    "duration": 0,
    "start_time": "2023-03-18T23:15:54.523Z"
   },
   {
    "duration": 0,
    "start_time": "2023-03-18T23:15:54.524Z"
   },
   {
    "duration": 0,
    "start_time": "2023-03-18T23:15:54.525Z"
   },
   {
    "duration": 0,
    "start_time": "2023-03-18T23:15:54.526Z"
   },
   {
    "duration": 0,
    "start_time": "2023-03-18T23:15:54.527Z"
   },
   {
    "duration": 0,
    "start_time": "2023-03-18T23:15:54.528Z"
   },
   {
    "duration": 0,
    "start_time": "2023-03-18T23:15:54.529Z"
   },
   {
    "duration": 0,
    "start_time": "2023-03-18T23:15:54.530Z"
   },
   {
    "duration": 0,
    "start_time": "2023-03-18T23:15:54.532Z"
   },
   {
    "duration": 0,
    "start_time": "2023-03-18T23:15:54.533Z"
   },
   {
    "duration": 0,
    "start_time": "2023-03-18T23:15:54.534Z"
   },
   {
    "duration": 0,
    "start_time": "2023-03-18T23:15:54.535Z"
   },
   {
    "duration": 0,
    "start_time": "2023-03-18T23:15:54.536Z"
   },
   {
    "duration": 0,
    "start_time": "2023-03-18T23:15:54.537Z"
   },
   {
    "duration": 0,
    "start_time": "2023-03-18T23:15:54.538Z"
   },
   {
    "duration": 0,
    "start_time": "2023-03-18T23:15:54.538Z"
   },
   {
    "duration": 0,
    "start_time": "2023-03-18T23:15:54.539Z"
   },
   {
    "duration": 0,
    "start_time": "2023-03-18T23:15:54.539Z"
   },
   {
    "duration": 0,
    "start_time": "2023-03-18T23:15:54.540Z"
   },
   {
    "duration": 0,
    "start_time": "2023-03-18T23:15:54.540Z"
   },
   {
    "duration": 0,
    "start_time": "2023-03-18T23:15:54.541Z"
   },
   {
    "duration": 0,
    "start_time": "2023-03-18T23:15:54.596Z"
   },
   {
    "duration": 0,
    "start_time": "2023-03-18T23:15:54.597Z"
   },
   {
    "duration": 0,
    "start_time": "2023-03-18T23:15:54.598Z"
   },
   {
    "duration": 0,
    "start_time": "2023-03-18T23:15:54.598Z"
   },
   {
    "duration": 0,
    "start_time": "2023-03-18T23:15:54.599Z"
   },
   {
    "duration": 0,
    "start_time": "2023-03-18T23:15:54.600Z"
   },
   {
    "duration": 0,
    "start_time": "2023-03-18T23:15:54.610Z"
   },
   {
    "duration": 4,
    "start_time": "2023-03-18T23:16:08.211Z"
   },
   {
    "duration": 1497,
    "start_time": "2023-03-18T23:16:08.231Z"
   },
   {
    "duration": 2,
    "start_time": "2023-03-18T23:16:09.730Z"
   },
   {
    "duration": 5,
    "start_time": "2023-03-18T23:16:09.734Z"
   },
   {
    "duration": 10,
    "start_time": "2023-03-18T23:16:09.741Z"
   },
   {
    "duration": 8,
    "start_time": "2023-03-18T23:16:09.753Z"
   },
   {
    "duration": 26,
    "start_time": "2023-03-18T23:16:09.763Z"
   },
   {
    "duration": 914,
    "start_time": "2023-03-18T23:16:09.791Z"
   },
   {
    "duration": 22274,
    "start_time": "2023-03-18T23:16:10.707Z"
   },
   {
    "duration": 446,
    "start_time": "2023-03-18T23:16:32.983Z"
   },
   {
    "duration": 453,
    "start_time": "2023-03-18T23:16:33.431Z"
   },
   {
    "duration": 523,
    "start_time": "2023-03-18T23:16:33.886Z"
   },
   {
    "duration": 12,
    "start_time": "2023-03-18T23:16:34.411Z"
   },
   {
    "duration": 97,
    "start_time": "2023-03-18T23:16:34.425Z"
   },
   {
    "duration": 13,
    "start_time": "2023-03-18T23:16:34.525Z"
   },
   {
    "duration": 101,
    "start_time": "2023-03-18T23:16:34.539Z"
   },
   {
    "duration": 82,
    "start_time": "2023-03-18T23:16:34.642Z"
   },
   {
    "duration": 12,
    "start_time": "2023-03-18T23:16:34.726Z"
   },
   {
    "duration": 8,
    "start_time": "2023-03-18T23:16:34.739Z"
   },
   {
    "duration": 52,
    "start_time": "2023-03-18T23:16:34.749Z"
   },
   {
    "duration": 8,
    "start_time": "2023-03-18T23:16:34.802Z"
   },
   {
    "duration": 4,
    "start_time": "2023-03-18T23:16:34.811Z"
   },
   {
    "duration": 226913,
    "start_time": "2023-03-18T23:16:34.816Z"
   },
   {
    "duration": 15,
    "start_time": "2023-03-18T23:20:21.731Z"
   },
   {
    "duration": 5,
    "start_time": "2023-03-18T23:20:21.748Z"
   },
   {
    "duration": 25825,
    "start_time": "2023-03-18T23:20:21.755Z"
   },
   {
    "duration": 28,
    "start_time": "2023-03-18T23:20:47.582Z"
   },
   {
    "duration": 15,
    "start_time": "2023-03-18T23:20:47.612Z"
   },
   {
    "duration": 7,
    "start_time": "2023-03-18T23:20:47.629Z"
   },
   {
    "duration": 101,
    "start_time": "2023-03-18T23:20:47.638Z"
   },
   {
    "duration": 30,
    "start_time": "2023-03-18T23:20:47.740Z"
   },
   {
    "duration": 80,
    "start_time": "2023-03-18T23:20:47.771Z"
   },
   {
    "duration": 21,
    "start_time": "2023-03-18T23:20:47.852Z"
   },
   {
    "duration": 54,
    "start_time": "2023-03-18T23:20:47.875Z"
   },
   {
    "duration": 16028,
    "start_time": "2023-03-18T23:20:47.931Z"
   },
   {
    "duration": 24,
    "start_time": "2023-03-18T23:21:03.961Z"
   },
   {
    "duration": 33,
    "start_time": "2023-03-18T23:31:25.984Z"
   },
   {
    "duration": 124,
    "start_time": "2023-03-18T23:31:26.020Z"
   },
   {
    "duration": 20,
    "start_time": "2023-03-18T23:31:26.146Z"
   },
   {
    "duration": 46,
    "start_time": "2023-03-18T23:31:26.168Z"
   },
   {
    "duration": 117,
    "start_time": "2023-03-18T23:31:26.216Z"
   },
   {
    "duration": 20,
    "start_time": "2023-03-18T23:31:26.335Z"
   },
   {
    "duration": 10,
    "start_time": "2023-03-18T23:31:26.357Z"
   },
   {
    "duration": 142,
    "start_time": "2023-03-18T23:31:26.370Z"
   },
   {
    "duration": 7,
    "start_time": "2023-03-18T23:31:26.514Z"
   },
   {
    "duration": 8,
    "start_time": "2023-03-18T23:31:26.522Z"
   },
   {
    "duration": 3,
    "start_time": "2023-03-18T23:31:26.531Z"
   },
   {
    "duration": 27,
    "start_time": "2023-03-18T23:31:26.536Z"
   },
   {
    "duration": 6,
    "start_time": "2023-03-18T23:31:26.564Z"
   },
   {
    "duration": 17,
    "start_time": "2023-03-18T23:31:26.595Z"
   },
   {
    "duration": 17,
    "start_time": "2023-03-18T23:31:26.615Z"
   },
   {
    "duration": 3,
    "start_time": "2023-03-18T23:31:26.634Z"
   },
   {
    "duration": 23847,
    "start_time": "2023-03-18T23:31:26.639Z"
   },
   {
    "duration": 176,
    "start_time": "2023-03-18T23:31:50.488Z"
   },
   {
    "duration": 9,
    "start_time": "2023-03-18T23:31:50.666Z"
   },
   {
    "duration": 45,
    "start_time": "2023-03-18T23:31:50.677Z"
   },
   {
    "duration": 5,
    "start_time": "2023-03-18T23:31:50.723Z"
   },
   {
    "duration": 5,
    "start_time": "2023-03-18T23:31:50.730Z"
   },
   {
    "duration": 17,
    "start_time": "2023-03-18T23:31:50.737Z"
   },
   {
    "duration": 91,
    "start_time": "2023-03-18T23:31:50.756Z"
   },
   {
    "duration": 5,
    "start_time": "2023-03-18T23:31:50.848Z"
   },
   {
    "duration": 17,
    "start_time": "2023-03-18T23:31:50.855Z"
   },
   {
    "duration": 2,
    "start_time": "2023-03-18T23:31:50.874Z"
   },
   {
    "duration": 11,
    "start_time": "2023-03-18T23:31:50.895Z"
   },
   {
    "duration": 7,
    "start_time": "2023-03-18T23:31:50.907Z"
   },
   {
    "duration": 149,
    "start_time": "2023-03-18T23:31:50.916Z"
   },
   {
    "duration": 11,
    "start_time": "2023-03-18T23:31:51.067Z"
   },
   {
    "duration": 50,
    "start_time": "2023-03-18T23:31:51.079Z"
   },
   {
    "duration": 184,
    "start_time": "2023-03-18T23:31:51.130Z"
   },
   {
    "duration": 11,
    "start_time": "2023-03-18T23:31:51.316Z"
   },
   {
    "duration": 13,
    "start_time": "2023-03-18T23:31:51.329Z"
   },
   {
    "duration": 62,
    "start_time": "2023-03-18T23:31:51.344Z"
   },
   {
    "duration": 37,
    "start_time": "2023-03-18T23:31:51.408Z"
   },
   {
    "duration": 3,
    "start_time": "2023-03-18T23:31:51.447Z"
   },
   {
    "duration": 1654,
    "start_time": "2023-03-18T23:31:51.452Z"
   },
   {
    "duration": 467,
    "start_time": "2023-03-18T23:31:53.108Z"
   },
   {
    "duration": 21,
    "start_time": "2023-03-18T23:31:53.577Z"
   },
   {
    "duration": 20,
    "start_time": "2023-03-18T23:31:53.603Z"
   },
   {
    "duration": 2052,
    "start_time": "2023-03-18T23:31:53.624Z"
   },
   {
    "duration": 32,
    "start_time": "2023-03-18T23:31:55.678Z"
   },
   {
    "duration": 16,
    "start_time": "2023-03-18T23:31:55.712Z"
   },
   {
    "duration": 13,
    "start_time": "2023-03-18T23:31:55.730Z"
   },
   {
    "duration": 173,
    "start_time": "2023-03-18T23:31:55.745Z"
   },
   {
    "duration": 50501,
    "start_time": "2023-03-18T23:31:55.920Z"
   },
   {
    "duration": 589192,
    "start_time": "2023-03-18T23:32:46.423Z"
   },
   {
    "duration": 72742,
    "start_time": "2023-03-18T23:42:35.617Z"
   },
   {
    "duration": 4,
    "start_time": "2023-03-18T23:43:48.361Z"
   },
   {
    "duration": 540,
    "start_time": "2023-03-18T23:43:48.367Z"
   },
   {
    "duration": 107253,
    "start_time": "2023-03-19T00:03:36.049Z"
   },
   {
    "duration": 49,
    "start_time": "2023-03-20T15:06:11.663Z"
   },
   {
    "duration": 2,
    "start_time": "2023-03-20T15:06:18.033Z"
   },
   {
    "duration": 1586,
    "start_time": "2023-03-20T15:06:18.070Z"
   },
   {
    "duration": 3,
    "start_time": "2023-03-20T15:06:19.658Z"
   },
   {
    "duration": 10,
    "start_time": "2023-03-20T15:06:19.662Z"
   },
   {
    "duration": 12,
    "start_time": "2023-03-20T15:06:19.674Z"
   },
   {
    "duration": 12,
    "start_time": "2023-03-20T15:06:19.688Z"
   },
   {
    "duration": 20,
    "start_time": "2023-03-20T15:06:19.702Z"
   },
   {
    "duration": 1064,
    "start_time": "2023-03-20T15:06:19.724Z"
   },
   {
    "duration": 20636,
    "start_time": "2023-03-20T15:06:20.790Z"
   },
   {
    "duration": 370,
    "start_time": "2023-03-20T15:06:41.427Z"
   },
   {
    "duration": 449,
    "start_time": "2023-03-20T15:06:41.799Z"
   },
   {
    "duration": 417,
    "start_time": "2023-03-20T15:06:42.250Z"
   },
   {
    "duration": 12,
    "start_time": "2023-03-20T15:06:42.669Z"
   },
   {
    "duration": 116,
    "start_time": "2023-03-20T15:06:42.683Z"
   },
   {
    "duration": 23,
    "start_time": "2023-03-20T15:06:42.801Z"
   },
   {
    "duration": 101,
    "start_time": "2023-03-20T15:06:42.825Z"
   },
   {
    "duration": 64,
    "start_time": "2023-03-20T15:06:42.928Z"
   },
   {
    "duration": 32,
    "start_time": "2023-03-20T15:06:42.994Z"
   },
   {
    "duration": 4,
    "start_time": "2023-03-20T15:07:28.470Z"
   },
   {
    "duration": 1550,
    "start_time": "2023-03-20T15:07:28.481Z"
   },
   {
    "duration": 4,
    "start_time": "2023-03-20T15:07:30.033Z"
   },
   {
    "duration": 26,
    "start_time": "2023-03-20T15:07:30.039Z"
   },
   {
    "duration": 20,
    "start_time": "2023-03-20T15:07:30.067Z"
   },
   {
    "duration": 24,
    "start_time": "2023-03-20T15:07:30.089Z"
   },
   {
    "duration": 34,
    "start_time": "2023-03-20T15:07:30.114Z"
   },
   {
    "duration": 778,
    "start_time": "2023-03-20T15:07:30.150Z"
   },
   {
    "duration": 22198,
    "start_time": "2023-03-20T15:07:30.929Z"
   },
   {
    "duration": 341,
    "start_time": "2023-03-20T15:07:53.129Z"
   },
   {
    "duration": 361,
    "start_time": "2023-03-20T15:07:53.472Z"
   },
   {
    "duration": 348,
    "start_time": "2023-03-20T15:07:53.835Z"
   },
   {
    "duration": 18,
    "start_time": "2023-03-20T15:07:54.185Z"
   },
   {
    "duration": 109,
    "start_time": "2023-03-20T15:07:54.205Z"
   },
   {
    "duration": 12,
    "start_time": "2023-03-20T15:07:54.317Z"
   },
   {
    "duration": 96,
    "start_time": "2023-03-20T15:07:54.331Z"
   },
   {
    "duration": 61,
    "start_time": "2023-03-20T15:07:54.429Z"
   },
   {
    "duration": 31,
    "start_time": "2023-03-20T15:07:54.492Z"
   },
   {
    "duration": 7,
    "start_time": "2023-03-20T15:07:54.524Z"
   },
   {
    "duration": 31,
    "start_time": "2023-03-20T15:07:54.532Z"
   },
   {
    "duration": 6,
    "start_time": "2023-03-20T15:07:54.565Z"
   },
   {
    "duration": 4,
    "start_time": "2023-03-20T15:07:54.573Z"
   },
   {
    "duration": 190922,
    "start_time": "2023-03-20T15:07:54.578Z"
   },
   {
    "duration": 13,
    "start_time": "2023-03-20T15:11:05.501Z"
   },
   {
    "duration": 3,
    "start_time": "2023-03-20T15:11:05.524Z"
   },
   {
    "duration": 25735,
    "start_time": "2023-03-20T15:11:05.528Z"
   },
   {
    "duration": 12,
    "start_time": "2023-03-20T15:11:31.265Z"
   },
   {
    "duration": 47,
    "start_time": "2023-03-20T15:11:31.278Z"
   },
   {
    "duration": 83,
    "start_time": "2023-03-20T15:11:31.327Z"
   },
   {
    "duration": 24,
    "start_time": "2023-03-20T15:11:31.412Z"
   },
   {
    "duration": 51,
    "start_time": "2023-03-20T15:11:31.438Z"
   },
   {
    "duration": 49,
    "start_time": "2023-03-20T15:11:31.491Z"
   },
   {
    "duration": 41,
    "start_time": "2023-03-20T15:11:31.542Z"
   },
   {
    "duration": 12305,
    "start_time": "2023-03-20T15:11:31.585Z"
   },
   {
    "duration": 17,
    "start_time": "2023-03-20T15:11:43.892Z"
   },
   {
    "duration": 33,
    "start_time": "2023-03-20T15:11:43.910Z"
   },
   {
    "duration": 13607,
    "start_time": "2023-03-20T15:11:43.944Z"
   },
   {
    "duration": 18,
    "start_time": "2023-03-20T15:11:57.553Z"
   },
   {
    "duration": 30,
    "start_time": "2023-03-20T15:11:57.573Z"
   },
   {
    "duration": 53,
    "start_time": "2023-03-20T15:11:57.605Z"
   },
   {
    "duration": 34,
    "start_time": "2023-03-20T15:11:57.660Z"
   },
   {
    "duration": 12605,
    "start_time": "2023-03-20T15:11:57.701Z"
   },
   {
    "duration": 18,
    "start_time": "2023-03-20T15:12:10.308Z"
   },
   {
    "duration": 6,
    "start_time": "2023-03-20T15:12:10.328Z"
   },
   {
    "duration": 138,
    "start_time": "2023-03-20T15:12:10.336Z"
   },
   {
    "duration": 7,
    "start_time": "2023-03-20T15:12:10.477Z"
   },
   {
    "duration": 17,
    "start_time": "2023-03-20T15:12:10.486Z"
   },
   {
    "duration": 14,
    "start_time": "2023-03-20T15:12:10.505Z"
   },
   {
    "duration": 54,
    "start_time": "2023-03-20T15:12:10.521Z"
   },
   {
    "duration": 17,
    "start_time": "2023-03-20T15:12:10.577Z"
   },
   {
    "duration": 27,
    "start_time": "2023-03-20T15:12:10.596Z"
   },
   {
    "duration": 7,
    "start_time": "2023-03-20T15:12:10.625Z"
   },
   {
    "duration": 9,
    "start_time": "2023-03-20T15:12:10.634Z"
   },
   {
    "duration": 20049,
    "start_time": "2023-03-20T15:12:10.644Z"
   },
   {
    "duration": 8112,
    "start_time": "2023-03-20T15:12:30.695Z"
   },
   {
    "duration": 20,
    "start_time": "2023-03-20T15:12:38.809Z"
   },
   {
    "duration": 22,
    "start_time": "2023-03-20T15:12:38.831Z"
   },
   {
    "duration": 4,
    "start_time": "2023-03-20T15:12:38.855Z"
   },
   {
    "duration": 8,
    "start_time": "2023-03-20T15:12:38.861Z"
   },
   {
    "duration": 16,
    "start_time": "2023-03-20T15:12:38.870Z"
   },
   {
    "duration": 65,
    "start_time": "2023-03-20T15:12:38.887Z"
   },
   {
    "duration": 4,
    "start_time": "2023-03-20T15:12:38.954Z"
   },
   {
    "duration": 11,
    "start_time": "2023-03-20T15:12:38.960Z"
   },
   {
    "duration": 3,
    "start_time": "2023-03-20T15:12:38.972Z"
   },
   {
    "duration": 4,
    "start_time": "2023-03-20T15:12:38.976Z"
   },
   {
    "duration": 5,
    "start_time": "2023-03-20T15:12:38.982Z"
   },
   {
    "duration": 136,
    "start_time": "2023-03-20T15:12:38.988Z"
   },
   {
    "duration": 9,
    "start_time": "2023-03-20T15:12:39.125Z"
   },
   {
    "duration": 41,
    "start_time": "2023-03-20T15:12:39.136Z"
   },
   {
    "duration": 147,
    "start_time": "2023-03-20T15:12:39.178Z"
   },
   {
    "duration": 8,
    "start_time": "2023-03-20T15:12:39.327Z"
   },
   {
    "duration": 14,
    "start_time": "2023-03-20T15:12:39.336Z"
   },
   {
    "duration": 38,
    "start_time": "2023-03-20T15:12:39.351Z"
   },
   {
    "duration": 35,
    "start_time": "2023-03-20T15:12:39.390Z"
   },
   {
    "duration": 3,
    "start_time": "2023-03-20T15:12:39.426Z"
   },
   {
    "duration": 1145,
    "start_time": "2023-03-20T15:12:39.430Z"
   },
   {
    "duration": 302,
    "start_time": "2023-03-20T15:12:40.577Z"
   },
   {
    "duration": 11,
    "start_time": "2023-03-20T15:12:40.881Z"
   },
   {
    "duration": 11,
    "start_time": "2023-03-20T15:12:40.894Z"
   },
   {
    "duration": 1938,
    "start_time": "2023-03-20T15:12:40.906Z"
   },
   {
    "duration": 20,
    "start_time": "2023-03-20T15:12:42.846Z"
   },
   {
    "duration": 22,
    "start_time": "2023-03-20T15:12:42.868Z"
   },
   {
    "duration": 32,
    "start_time": "2023-03-20T15:12:42.891Z"
   },
   {
    "duration": 185,
    "start_time": "2023-03-20T15:12:42.925Z"
   },
   {
    "duration": 170,
    "start_time": "2023-03-20T15:12:43.112Z"
   },
   {
    "duration": 3,
    "start_time": "2023-03-20T15:12:43.284Z"
   },
   {
    "duration": 41301,
    "start_time": "2023-03-20T15:12:43.289Z"
   },
   {
    "duration": 3,
    "start_time": "2023-03-20T15:13:24.592Z"
   },
   {
    "duration": 425228,
    "start_time": "2023-03-20T15:13:24.597Z"
   },
   {
    "duration": 5,
    "start_time": "2023-03-20T15:20:29.827Z"
   },
   {
    "duration": 72217,
    "start_time": "2023-03-20T15:20:29.833Z"
   },
   {
    "duration": 6,
    "start_time": "2023-03-20T15:21:42.052Z"
   },
   {
    "duration": 7,
    "start_time": "2023-03-20T15:21:42.060Z"
   },
   {
    "duration": 7,
    "start_time": "2023-03-20T15:21:42.068Z"
   },
   {
    "duration": 24,
    "start_time": "2023-03-20T15:21:42.077Z"
   },
   {
    "duration": 8,
    "start_time": "2023-03-20T15:21:42.102Z"
   },
   {
    "duration": 7,
    "start_time": "2023-03-20T15:21:42.112Z"
   },
   {
    "duration": 5,
    "start_time": "2023-03-20T15:21:42.121Z"
   },
   {
    "duration": 601,
    "start_time": "2023-03-20T15:21:42.128Z"
   },
   {
    "duration": 4,
    "start_time": "2023-03-20T15:21:42.731Z"
   },
   {
    "duration": 24,
    "start_time": "2023-03-20T15:21:42.736Z"
   },
   {
    "duration": 14,
    "start_time": "2023-03-20T15:21:42.762Z"
   },
   {
    "duration": 45,
    "start_time": "2023-03-20T15:21:42.777Z"
   },
   {
    "duration": 8,
    "start_time": "2023-03-20T15:21:42.824Z"
   },
   {
    "duration": 6,
    "start_time": "2023-03-20T15:21:42.834Z"
   },
   {
    "duration": 91,
    "start_time": "2023-03-20T15:21:42.847Z"
   }
  ],
  "kernelspec": {
   "display_name": "Python 3 (ipykernel)",
   "language": "python",
   "name": "python3"
  },
  "language_info": {
   "codemirror_mode": {
    "name": "ipython",
    "version": 3
   },
   "file_extension": ".py",
   "mimetype": "text/x-python",
   "name": "python",
   "nbconvert_exporter": "python",
   "pygments_lexer": "ipython3",
   "version": "3.9.12"
  },
  "toc": {
   "base_numbering": 1,
   "nav_menu": {},
   "number_sections": true,
   "sideBar": true,
   "skip_h1_title": true,
   "title_cell": "Table of Contents",
   "title_sidebar": "Contents",
   "toc_cell": false,
   "toc_position": {
    "height": "calc(100% - 180px)",
    "left": "10px",
    "top": "150px",
    "width": "351.766px"
   },
   "toc_section_display": true,
   "toc_window_display": true
  }
 },
 "nbformat": 4,
 "nbformat_minor": 2
}
